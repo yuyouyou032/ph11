{
 "cells": [
  {
   "cell_type": "code",
   "execution_count": 1,
   "metadata": {},
   "outputs": [],
   "source": [
    "import numpy as np\n",
    "import pandas as pd\n",
    "import matplotlib.pyplot as plt\n",
    "%matplotlib inline"
   ]
  },
  {
   "attachments": {},
   "cell_type": "markdown",
   "metadata": {},
   "source": [
    "## Extracting Data For Each Experiment"
   ]
  },
  {
   "cell_type": "code",
   "execution_count": 2,
   "metadata": {},
   "outputs": [],
   "source": [
    "def extract(path, timeStart, timeEnd):\n",
    "    data_collected = pd.read_csv(path)\n",
    "    data_collected.created_at = pd.to_datetime(data_collected.created_at)\n",
    "\n",
    "    timeStart = pd.Timestamp(timeStart[0], timeStart[1], timeStart[2], timeStart[3]-8, timeStart[4])\n",
    "    timeStart = timeStart.tz_localize('UTC')\n",
    "    timeEnd = pd.Timestamp(timeEnd[0], timeEnd[1], timeEnd[2], timeEnd[3]-8, timeEnd[4])\n",
    "    timeEnd = timeEnd.tz_localize('UTC')\n",
    "\n",
    "    data_collected = data_collected[timeStart <= data_collected.created_at]\n",
    "    data_collected = data_collected[data_collected.created_at <= timeEnd]\n",
    "    print(data_collected.head(2))\n",
    "    print(data_collected.tail(2))\n",
    "    \n",
    "    value = data_collected['value']\n",
    "    created_at =  data_collected['created_at']\n",
    "    df = pd.DataFrame()\n",
    "    df['value'] = value\n",
    "    df['created_at'] = created_at\n",
    "\n",
    "    return df"
   ]
  },
  {
   "cell_type": "code",
   "execution_count": 3,
   "metadata": {},
   "outputs": [
    {
     "name": "stdout",
     "output_type": "stream",
     "text": [
      "                             id       value  feed_id  \\\n",
      "836  0F6C10P34GCGVX1WNY1TMCAF5E  139.300003  2408569   \n",
      "837  0F6C10XT6THW4EHWQPZWF927NX  134.899994  2408569   \n",
      "\n",
      "                   created_at  lat  lon  ele  \n",
      "836 2022-12-16 07:20:02+00:00  0.0  0.0  0.0  \n",
      "837 2022-12-16 07:20:28+00:00  0.0  0.0  0.0  \n",
      "                             id  value  feed_id                created_at  \\\n",
      "973  0F6C236904RBQBSRJXAGSZK1B8   29.6  2408569 2022-12-16 08:20:20+00:00   \n",
      "974  0F6C23E067EFSJNEMKF680HZQ3   25.1  2408569 2022-12-16 08:20:46+00:00   \n",
      "\n",
      "     lat  lon  ele  \n",
      "973  0.0  0.0  0.0  \n",
      "974  0.0  0.0  0.0  \n",
      "                            id       value  feed_id                created_at  \\\n",
      "86  0F6C10RS91YA7CT9Q7ARBCEDBY  128.399994  2409856 2022-12-16 07:20:11+00:00   \n",
      "87  0F6C110G3D5QCP80EXNPA379C2  126.500000  2409856 2022-12-16 07:20:36+00:00   \n",
      "\n",
      "    lat  lon  ele  \n",
      "86  0.0  0.0  0.0  \n",
      "87  0.0  0.0  0.0  \n",
      "                             id      value  feed_id                created_at  \\\n",
      "223  0F6C239602Q2CTHBAB8YST8CF6  27.299999  2409856 2022-12-16 08:20:30+00:00   \n",
      "224  0F6C23GXATNA8KBZTM2S5QBYKP  25.400000  2409856 2022-12-16 08:20:55+00:00   \n",
      "\n",
      "     lat  lon  ele  \n",
      "223  0.0  0.0  0.0  \n",
      "224  0.0  0.0  0.0  \n",
      "                            id  value  feed_id                created_at  lat  \\\n",
      "54  0F6C10P6M6REX6W1YSSGYXZ4NT  195.4  2409789 2022-12-16 07:20:03+00:00  NaN   \n",
      "55  0F6C10Z78DAF96RXSV3RD5GRPJ  195.4  2409789 2022-12-16 07:20:32+00:00  NaN   \n",
      "\n",
      "    lon  ele  \n",
      "54  NaN  NaN  \n",
      "55  NaN  NaN  \n",
      "                             id  value  feed_id                created_at  \\\n",
      "175  0F6C235EE8T4SMVB796P0AYJJV   33.3  2409789 2022-12-16 08:20:18+00:00   \n",
      "176  0F6C23EFJGN5Z8XJA5WA2G8QAP   33.3  2409789 2022-12-16 08:20:47+00:00   \n",
      "\n",
      "     lat  lon  ele  \n",
      "175  NaN  NaN  NaN  \n",
      "176  NaN  NaN  NaN  \n",
      "                             id      value  feed_id                created_at  \\\n",
      "190  0F6C10P33BQ85S9Y2XXHKPZCRT  76.199997  2409715 2022-12-16 07:20:02+00:00   \n",
      "191  0F6C10XT5SAZP4BN2C99VVX81M  76.300003  2409715 2022-12-16 07:20:28+00:00   \n",
      "\n",
      "     lat  lon  ele  \n",
      "190  0.0  0.0  0.0  \n",
      "191  0.0  0.0  0.0  \n",
      "                             id  value  feed_id                created_at  \\\n",
      "327  0F6C2368ZAPMPJS078ABJ8MPYK   18.0  2409715 2022-12-16 08:20:20+00:00   \n",
      "328  0F6C23E090CRS79RV7RHC5D28E   15.3  2409715 2022-12-16 08:20:46+00:00   \n",
      "\n",
      "     lat  lon  ele  \n",
      "327  0.0  0.0  0.0  \n",
      "328  0.0  0.0  0.0  \n",
      "                            id      value  feed_id                created_at  \\\n",
      "88  0F6C10RS8MJ3GAXWQZ0W2E12DB  65.699997  2409857 2022-12-16 07:20:11+00:00   \n",
      "89  0F6C110G1WH5NFR4PKQRF47AZG  66.300003  2409857 2022-12-16 07:20:36+00:00   \n",
      "\n",
      "    lat  lon  ele  \n",
      "88  0.0  0.0  0.0  \n",
      "89  0.0  0.0  0.0  \n",
      "                             id  value  feed_id                created_at  \\\n",
      "226  0F6C2396150PWGEVGGMQTWF5WN   14.4  2409857 2022-12-16 08:20:30+00:00   \n",
      "227  0F6C23GX9QWWD2GSZAGSWVPPH7   14.2  2409857 2022-12-16 08:20:55+00:00   \n",
      "\n",
      "     lat  lon  ele  \n",
      "226  0.0  0.0  0.0  \n",
      "227  0.0  0.0  0.0  \n",
      "                            id  value  feed_id                created_at  lat  \\\n",
      "56  0F6C10NWC8DMTK4Q6M3E566EN1   89.8  2409788 2022-12-16 07:20:02+00:00  NaN   \n",
      "57  0F6C10YWTCR58ZR94S1NRFHRM3   89.8  2409788 2022-12-16 07:20:31+00:00  NaN   \n",
      "\n",
      "    lon  ele  \n",
      "56  NaN  NaN  \n",
      "57  NaN  NaN  \n",
      "                             id  value  feed_id                created_at  \\\n",
      "177  0F6C2354NVPZV6X6KW8TM46BPP   15.3  2409788 2022-12-16 08:20:17+00:00   \n",
      "178  0F6C23E56A3KBZAFN7ZN6TFGPR   15.3  2409788 2022-12-16 08:20:46+00:00   \n",
      "\n",
      "     lat  lon  ele  \n",
      "177  NaN  NaN  NaN  \n",
      "178  NaN  NaN  NaN  \n"
     ]
    }
   ],
   "source": [
    "exp1_pm10_posC = extract('data/pm10-20221223-1309.csv', (2022, 12, 16, 15, 20), (2022, 12, 16, 16, 21))\n",
    "exp1_pm10_posB = extract('data/pm10B-20221223-1310.csv', (2022, 12, 16, 15, 20), (2022, 12, 16, 16, 21))\n",
    "exp1_pm10_posA = extract('data/pm10-20221223-1312.csv', (2022, 12, 16, 15, 20), (2022, 12, 16, 16, 21))\n",
    "\n",
    "exp1_pm25_posC = extract('data/pm25-20221223-1310.csv', (2022, 12, 16, 15, 20), (2022, 12, 16, 16, 21))\n",
    "exp1_pm25_posB = extract('data/pm25B-20221223-1311.csv', (2022, 12, 16, 15, 20), (2022, 12, 16, 16, 21))\n",
    "exp1_pm25_posA = extract('data/pm25-20221223-1313.csv', (2022, 12, 16, 15, 20), (2022, 12, 16, 16, 21))\n"
   ]
  },
  {
   "cell_type": "code",
   "execution_count": 4,
   "metadata": {},
   "outputs": [
    {
     "name": "stdout",
     "output_type": "stream",
     "text": [
      "                              id       value  feed_id  \\\n",
      "1132  0F6E8Y7E50E0DBHF4FKJH2CT1P  150.800003  2408569   \n",
      "1133  0F6E8YF5A9HKTJ1C3SJKRQJ41R  141.100006  2408569   \n",
      "\n",
      "                    created_at  lat  lon  ele  \n",
      "1132 2022-12-19 02:22:16+00:00  0.0  0.0  0.0  \n",
      "1133 2022-12-19 02:22:42+00:00  0.0  0.0  0.0  \n",
      "                              id  value  feed_id                created_at  \\\n",
      "1290  0F6EA4MH14SR7MWT7R57GX4MZ2   26.5  2408569 2022-12-19 03:29:24+00:00   \n",
      "1291  0F6EA4W88W79BS1ZECMZH0AQEW   28.1  2408569 2022-12-19 03:29:49+00:00   \n",
      "\n",
      "      lat  lon  ele  \n",
      "1290  0.0  0.0  0.0  \n",
      "1291  0.0  0.0  0.0  \n",
      "                             id       value  feed_id  \\\n",
      "394  0F6E8Y4B2JSCNA1PJZGQC35J5K  152.699997  2409856   \n",
      "395  0F6E8YC276DDH62NMXNSSGZ7T4  154.199997  2409856   \n",
      "\n",
      "                   created_at  lat  lon  ele  \n",
      "394 2022-12-19 02:22:06+00:00  0.0  0.0  0.0  \n",
      "395 2022-12-19 02:22:32+00:00  0.0  0.0  0.0  \n",
      "                             id      value  feed_id                created_at  \\\n",
      "552  0F6EA4GC22X5DPXYNGX90ETFQN  32.299999  2409856 2022-12-19 03:29:10+00:00   \n",
      "553  0F6EA4R3771EGPNQ10PCB3741Z  30.299999  2409856 2022-12-19 03:29:36+00:00   \n",
      "\n",
      "     lat  lon  ele  \n",
      "552  0.0  0.0  0.0  \n",
      "553  0.0  0.0  0.0  \n",
      "                             id  value  feed_id                created_at  \\\n",
      "241  0F6E8Y3PN2JKDG8WH569EV1XC3  244.2  2409789 2022-12-19 02:22:04+00:00   \n",
      "242  0F6E8YCRB708AVSYEKNRJ3M36S  244.2  2409789 2022-12-19 02:22:34+00:00   \n",
      "\n",
      "     lat  lon  ele  \n",
      "241  NaN  NaN  NaN  \n",
      "242  NaN  NaN  NaN  \n",
      "                             id  value  feed_id                created_at  \\\n",
      "376  0F6EA4EYMAMCR8MEH4TYNVJ95K   42.0  2409789 2022-12-19 03:29:06+00:00   \n",
      "377  0F6EA4R471F4AZEHSQB5T6S99Q   42.0  2409789 2022-12-19 03:29:36+00:00   \n",
      "\n",
      "     lat  lon  ele  \n",
      "376  NaN  NaN  NaN  \n",
      "377  NaN  NaN  NaN  \n",
      "                             id      value  feed_id                created_at  \\\n",
      "486  0F6E8Y7E4N30G8BMNW01QEDGAS  65.599998  2409715 2022-12-19 02:22:16+00:00   \n",
      "487  0F6E8YF5ACHCKV1Z5CF1JSN849  64.800003  2409715 2022-12-19 02:22:42+00:00   \n",
      "\n",
      "     lat  lon  ele  \n",
      "486  0.0  0.0  0.0  \n",
      "487  0.0  0.0  0.0  \n",
      "                             id  value  feed_id                created_at  \\\n",
      "644  0F6EA4MH0F0M84B2FWN1WRZC1F   13.1  2409715 2022-12-19 03:29:24+00:00   \n",
      "645  0F6EA4W87TSYR4CFXW30FV0PZ3   14.0  2409715 2022-12-19 03:29:49+00:00   \n",
      "\n",
      "     lat  lon  ele  \n",
      "644  0.0  0.0  0.0  \n",
      "645  0.0  0.0  0.0  \n",
      "                             id      value  feed_id                created_at  \\\n",
      "397  0F6E8Y4B2WDJHAC3MRRTYCAST1  70.300003  2409857 2022-12-19 02:22:06+00:00   \n",
      "398  0F6E8YC23TGVHVX4NT3B9CBW0E  70.900002  2409857 2022-12-19 02:22:32+00:00   \n",
      "\n",
      "     lat  lon  ele  \n",
      "397  0.0  0.0  0.0  \n",
      "398  0.0  0.0  0.0  \n",
      "                             id      value  feed_id                created_at  \\\n",
      "555  0F6EA4GC23WSK1C2P582GBJQQY  16.700001  2409857 2022-12-19 03:29:10+00:00   \n",
      "556  0F6EA4R373YYM69Q60WKQBAEPY  15.400000  2409857 2022-12-19 03:29:36+00:00   \n",
      "\n",
      "     lat  lon  ele  \n",
      "555  0.0  0.0  0.0  \n",
      "556  0.0  0.0  0.0  \n",
      "                             id  value  feed_id                created_at  \\\n",
      "243  0F6E8Y3CG6E4VTXBRHXRHFRTY5   95.9  2409788 2022-12-19 02:22:03+00:00   \n",
      "244  0F6E8YCDNGPXCX4HB32WDW5WWW   95.9  2409788 2022-12-19 02:22:33+00:00   \n",
      "\n",
      "     lat  lon  ele  \n",
      "243  NaN  NaN  NaN  \n",
      "244  NaN  NaN  NaN  \n",
      "                             id  value  feed_id                created_at  \\\n",
      "378  0F6EA4EMX0NBVQTB82GYKZST5J   18.1  2409788 2022-12-19 03:29:05+00:00   \n",
      "379  0F6EA4QQXV1JKA9M3FZRA00TPT   18.1  2409788 2022-12-19 03:29:34+00:00   \n",
      "\n",
      "     lat  lon  ele  \n",
      "378  NaN  NaN  NaN  \n",
      "379  NaN  NaN  NaN  \n"
     ]
    }
   ],
   "source": [
    "exp2_pm10_posC = extract('data/pm10-20221223-1309.csv', (2022, 12, 19, 10, 22), (2022, 12, 19, 11, 30))\n",
    "exp2_pm10_posB = extract('data/pm10B-20221223-1310.csv', (2022, 12, 19, 10, 22), (2022, 12, 19, 11, 30))\n",
    "exp2_pm10_posA = extract('data/pm10-20221223-1312.csv', (2022, 12, 19, 10, 22), (2022, 12, 19, 11, 30))\n",
    "\n",
    "exp2_pm25_posC = extract('data/pm25-20221223-1310.csv', (2022, 12, 19, 10, 22), (2022, 12, 19, 11, 30))\n",
    "exp2_pm25_posB = extract('data/pm25B-20221223-1311.csv', (2022, 12, 19, 10, 22), (2022, 12, 19, 11, 30))\n",
    "exp2_pm25_posA = extract('data/pm25-20221223-1313.csv', (2022, 12, 19, 10, 22), (2022, 12, 19, 11, 30))\n"
   ]
  },
  {
   "cell_type": "code",
   "execution_count": 5,
   "metadata": {},
   "outputs": [
    {
     "name": "stdout",
     "output_type": "stream",
     "text": [
      "                              id       value  feed_id  \\\n",
      "1450  0F6EBCHG7BC0M29EDGDG1X2520  173.699997  2408569   \n",
      "1451  0F6EBCS70H61EQ4C3SB1PH2GKJ  146.199997  2408569   \n",
      "\n",
      "                    created_at  lat  lon  ele  \n",
      "1450 2022-12-19 04:39:08+00:00  0.0  0.0  0.0  \n",
      "1451 2022-12-19 04:39:34+00:00  0.0  0.0  0.0  \n",
      "                              id  value  feed_id                created_at  \\\n",
      "1601  0F6ECH8MK35HEGAKJAEPS1GR9S   26.9  2408569 2022-12-19 05:43:19+00:00   \n",
      "1602  0F6ECHG55B9BT5F8B7CQHG250S   25.4  2408569 2022-12-19 05:43:44+00:00   \n",
      "\n",
      "      lat  lon  ele  \n",
      "1601  0.0  0.0  0.0  \n",
      "1602  0.0  0.0  0.0  \n",
      "                             id       value  feed_id  \\\n",
      "713  0F6EBCFHVSC1JBTK9HMMECTPKE  168.100006  2409856   \n",
      "714  0F6EBCQBTQ4579EGGXQ1RSZ2DT  164.199997  2409856   \n",
      "\n",
      "                   created_at  lat  lon  ele  \n",
      "713 2022-12-19 04:39:02+00:00  0.0  0.0  0.0  \n",
      "714 2022-12-19 04:39:27+00:00  0.0  0.0  0.0  \n",
      "                             id      value  feed_id                created_at  \\\n",
      "864  0F6ECH7ZVDYCNYQ6GGY2WXP1PS  27.799999  2409856 2022-12-19 05:43:17+00:00   \n",
      "865  0F6ECHFY5V5XCWHDBMZBCHTNR2  26.000000  2409856 2022-12-19 05:43:43+00:00   \n",
      "\n",
      "     lat  lon  ele  \n",
      "864  0.0  0.0  0.0  \n",
      "865  0.0  0.0  0.0  \n",
      "                             id  value  feed_id                created_at  \\\n",
      "412  0F6EBCM537DPHP9VK0MV7J4MCV   34.3  2409789 2022-12-19 04:39:17+00:00   \n",
      "413  0F6EBCX8CE4YCKBBAYW70V9J8H   34.3  2409789 2022-12-19 04:39:47+00:00   \n",
      "\n",
      "     lat  lon  ele  \n",
      "412  NaN  NaN  NaN  \n",
      "413  NaN  NaN  NaN  \n",
      "                             id  value  feed_id                created_at  \\\n",
      "538  0F6ECH5XTPXX4YPWJNG2HAAEYB   28.6  2409789 2022-12-19 05:43:10+00:00   \n",
      "539  0F6ECHF1BJ7MM3N093Z6KTH9QP   28.6  2409789 2022-12-19 05:43:40+00:00   \n",
      "\n",
      "     lat  lon  ele  \n",
      "538  NaN  NaN  NaN  \n",
      "539  NaN  NaN  NaN  \n",
      "                             id       value  feed_id  \\\n",
      "804  0F6EBCHG6H8X54D35S4QTG0GR8  106.699997  2409715   \n",
      "805  0F6EBCS71C1WY6DPSSKQ0EQ3MY   89.400002  2409715   \n",
      "\n",
      "                   created_at  lat  lon  ele  \n",
      "804 2022-12-19 04:39:08+00:00  0.0  0.0  0.0  \n",
      "805 2022-12-19 04:39:34+00:00  0.0  0.0  0.0  \n",
      "                             id      value  feed_id                created_at  \\\n",
      "955  0F6ECH82XS0B2Q6R2VR14NWFGZ  16.500000  2409715 2022-12-19 05:43:17+00:00   \n",
      "956  0F6ECHG55RTFZ4CBXPJ2AQA32S  16.299999  2409715 2022-12-19 05:43:44+00:00   \n",
      "\n",
      "     lat  lon  ele  \n",
      "955  0.0  0.0  0.0  \n",
      "956  0.0  0.0  0.0  \n",
      "                             id       value  feed_id  \\\n",
      "716  0F6EBCFHTYT1NCKZWC28RB7H28  109.800003  2409857   \n",
      "717  0F6EBCQBT9A89QSBHCRM5ZMDM2  111.199997  2409857   \n",
      "\n",
      "                   created_at  lat  lon  ele  \n",
      "716 2022-12-19 04:39:02+00:00  0.0  0.0  0.0  \n",
      "717 2022-12-19 04:39:27+00:00  0.0  0.0  0.0  \n",
      "                             id      value  feed_id                created_at  \\\n",
      "867  0F6ECH7ZTE461ZZ4478NYHP9DR  19.799999  2409857 2022-12-19 05:43:17+00:00   \n",
      "868  0F6ECHFY74G675KX5538PK1JSR  18.600000  2409857 2022-12-19 05:43:43+00:00   \n",
      "\n",
      "     lat  lon  ele  \n",
      "867  0.0  0.0  0.0  \n",
      "868  0.0  0.0  0.0  \n",
      "                             id  value  feed_id                created_at  \\\n",
      "414  0F6EBCKTTFCPW7WDZYX9EWKPGQ   20.8  2409788 2022-12-19 04:39:16+00:00   \n",
      "415  0F6EBCWXVTD0WX9CT3YREPPRXZ   20.8  2409788 2022-12-19 04:39:46+00:00   \n",
      "\n",
      "     lat  lon  ele  \n",
      "414  NaN  NaN  NaN  \n",
      "415  NaN  NaN  NaN  \n",
      "                             id  value  feed_id                created_at  \\\n",
      "540  0F6ECH5KQMR6BQ7PMT4PZA692V   16.7  2409788 2022-12-19 05:43:09+00:00   \n",
      "541  0F6ECHEQGWAESJ0449X6FPC9JM   16.7  2409788 2022-12-19 05:43:39+00:00   \n",
      "\n",
      "     lat  lon  ele  \n",
      "540  NaN  NaN  NaN  \n",
      "541  NaN  NaN  NaN  \n"
     ]
    }
   ],
   "source": [
    "exp3_pm10_posC = extract('data/pm10-20221223-1309.csv', (2022, 12, 19, 12, 39), (2022, 12, 19, 13, 44))\n",
    "exp3_pm10_posB = extract('data/pm10B-20221223-1310.csv', (2022, 12, 19, 12, 39), (2022, 12, 19, 13, 44))\n",
    "exp3_pm10_posA = extract('data/pm10-20221223-1312.csv', (2022, 12, 19, 12, 39), (2022, 12, 19, 13, 44))\n",
    "\n",
    "exp3_pm25_posC = extract('data/pm25-20221223-1310.csv', (2022, 12, 19, 12, 39), (2022, 12, 19, 13, 44))\n",
    "exp3_pm25_posB = extract('data/pm25B-20221223-1311.csv', (2022, 12, 19, 12, 39), (2022, 12, 19, 13, 44))\n",
    "exp3_pm25_posA = extract('data/pm25-20221223-1313.csv', (2022, 12, 19, 12, 39), (2022, 12, 19, 13, 44))\n"
   ]
  },
  {
   "cell_type": "code",
   "execution_count": 6,
   "metadata": {},
   "outputs": [
    {
     "name": "stdout",
     "output_type": "stream",
     "text": [
      "                              id       value  feed_id  \\\n",
      "1763  0F6EDRMK11HZKHDDA99C2QF5BG  147.199997  2408569   \n",
      "1764  0F6EDRWEZ9WN6X2RXA606J0VDX  139.899994  2408569   \n",
      "\n",
      "                    created_at  lat  lon  ele  \n",
      "1763 2022-12-19 06:52:08+00:00  0.0  0.0  0.0  \n",
      "1764 2022-12-19 06:52:33+00:00  0.0  0.0  0.0  \n",
      "                              id      value  feed_id  \\\n",
      "1917  0F6EEY34SZQJGGB7KBDE8BYZF0  22.200001  2408569   \n",
      "1918  0F6EEYAVTNPDF65YW3N40XQ0C1  22.600000  2408569   \n",
      "\n",
      "                    created_at  lat  lon  ele  \n",
      "1917 2022-12-19 07:57:35+00:00  0.0  0.0  0.0  \n",
      "1918 2022-12-19 07:58:00+00:00  0.0  0.0  0.0  \n",
      "                              id       value  feed_id  \\\n",
      "1026  0F6EDRKZZ1JRNRBF4J8FB571EH  145.000000  2409856   \n",
      "1027  0F6EDRVPJEVGNZ4SQAFYV7XV09  143.300003  2409856   \n",
      "\n",
      "                    created_at  lat  lon  ele  \n",
      "1026 2022-12-19 06:52:06+00:00  0.0  0.0  0.0  \n",
      "1027 2022-12-19 06:52:31+00:00  0.0  0.0  0.0  \n",
      "                              id      value  feed_id  \\\n",
      "1180  0F6EEY20WJVTC7V0XZ189D05AD  21.600000  2409856   \n",
      "1181  0F6EEY9QZVJKN3ZQMSYRP4XBVP  22.200001  2409856   \n",
      "\n",
      "                    created_at  lat  lon  ele  \n",
      "1180 2022-12-19 07:57:31+00:00  0.0  0.0  0.0  \n",
      "1181 2022-12-19 07:57:57+00:00  0.0  0.0  0.0  \n",
      "                             id  value  feed_id                created_at  \\\n",
      "635  0F6EDRJNMV3YMP2XDFEH98G00Q  273.2  2409789 2022-12-19 06:52:01+00:00   \n",
      "636  0F6EDRVSV169HTGG3419ZXP0XG  273.2  2409789 2022-12-19 06:52:31+00:00   \n",
      "\n",
      "     lat  lon  ele  \n",
      "635  NaN  NaN  NaN  \n",
      "636  NaN  NaN  NaN  \n",
      "                             id  value  feed_id                created_at  \\\n",
      "765  0F6EEY11CXGJRXA5QXPT0HTVCS   35.7  2409789 2022-12-19 07:57:28+00:00   \n",
      "766  0F6EEYA7DSCHE72Y2FK60V6HY5   35.7  2409789 2022-12-19 07:57:58+00:00   \n",
      "\n",
      "     lat  lon  ele  \n",
      "765  NaN  NaN  NaN  \n",
      "766  NaN  NaN  NaN  \n",
      "                              id       value  feed_id  \\\n",
      "1117  0F6EDRMK1P4TVMXSZ1DF1ZP12F  112.599998  2409715   \n",
      "1118  0F6EDRWF3FQANB2Q3JT7DDX9RC  110.199997  2409715   \n",
      "\n",
      "                    created_at  lat  lon  ele  \n",
      "1117 2022-12-19 06:52:08+00:00  0.0  0.0  0.0  \n",
      "1118 2022-12-19 06:52:33+00:00  0.0  0.0  0.0  \n",
      "                              id      value  feed_id  \\\n",
      "1271  0F6EEY34RSFH98FJRZ2G8NS3QY  17.100000  2409715   \n",
      "1272  0F6EEYAVVRYDT9W2WZ8RMP6VEF  16.799999  2409715   \n",
      "\n",
      "                    created_at  lat  lon  ele  \n",
      "1271 2022-12-19 07:57:35+00:00  0.0  0.0  0.0  \n",
      "1272 2022-12-19 07:58:00+00:00  0.0  0.0  0.0  \n",
      "                              id       value  feed_id  \\\n",
      "1029  0F6EDRM03BR54PTYFM3DE0QVS6  114.300003  2409857   \n",
      "1030  0F6EDRVPH8XR5AQACRD6C5S106  115.199997  2409857   \n",
      "\n",
      "                    created_at  lat  lon  ele  \n",
      "1029 2022-12-19 06:52:06+00:00  0.0  0.0  0.0  \n",
      "1030 2022-12-19 06:52:31+00:00  0.0  0.0  0.0  \n",
      "                              id      value  feed_id  \\\n",
      "1183  0F6EEY20RQNKTN0BG7JVMSAV02  15.700000  2409857   \n",
      "1184  0F6EEY9QX35H37W48KX9G6S92K  16.799999  2409857   \n",
      "\n",
      "                    created_at  lat  lon  ele  \n",
      "1183 2022-12-19 07:57:31+00:00  0.0  0.0  0.0  \n",
      "1184 2022-12-19 07:57:57+00:00  0.0  0.0  0.0  \n",
      "                             id  value  feed_id                created_at  \\\n",
      "637  0F6EDRJBRNZG6XAG9ECTGTYCDR  176.6  2409788 2022-12-19 06:52:00+00:00   \n",
      "638  0F6EDRVFHS4HT1A2QRBH1NWS5N  176.6  2409788 2022-12-19 06:52:30+00:00   \n",
      "\n",
      "     lat  lon  ele  \n",
      "637  NaN  NaN  NaN  \n",
      "638  NaN  NaN  NaN  \n",
      "                             id  value  feed_id                created_at  \\\n",
      "767  0F6EEY0QNFKNQMT4HB52FPS4VN   22.2  2409788 2022-12-19 07:57:27+00:00   \n",
      "768  0F6EEY9XDKPKNQXK1ZV5V0AV19   22.2  2409788 2022-12-19 07:57:57+00:00   \n",
      "\n",
      "     lat  lon  ele  \n",
      "767  NaN  NaN  NaN  \n",
      "768  NaN  NaN  NaN  \n"
     ]
    }
   ],
   "source": [
    "exp4_pm10_posA = extract('data/pm10-20221223-1309.csv', (2022, 12, 19, 14, 52), (2022, 12, 19, 15, 58))\n",
    "exp4_pm10_posB = extract('data/pm10B-20221223-1310.csv', (2022, 12, 19, 14, 52), (2022, 12, 19, 15, 58))\n",
    "exp4_pm10_posC = extract('data/pm10-20221223-1312.csv', (2022, 12, 19, 14, 52), (2022, 12, 19, 15, 58))\n",
    "\n",
    "exp4_pm25_posA = extract('data/pm25-20221223-1310.csv', (2022, 12, 19, 14, 52), (2022, 12, 19, 15, 58))\n",
    "exp4_pm25_posB = extract('data/pm25B-20221223-1311.csv', (2022, 12, 19, 14, 52), (2022, 12, 19, 15, 58))\n",
    "exp4_pm25_posC = extract('data/pm25-20221223-1313.csv', (2022, 12, 19, 14, 52), (2022, 12, 19, 15, 58))\n",
    "\n"
   ]
  },
  {
   "cell_type": "code",
   "execution_count": 7,
   "metadata": {},
   "outputs": [
    {
     "name": "stdout",
     "output_type": "stream",
     "text": [
      "                              id       value  feed_id  \\\n",
      "1930  0F6EF18H0GE1DXFG467026G9KA  135.000000  2408569   \n",
      "1931  0F6EF1G7WKBX8QJXZMYK6WR1YG  132.899994  2408569   \n",
      "\n",
      "                    created_at  lat  lon  ele  \n",
      "1930 2022-12-19 08:03:07+00:00  0.0  0.0  0.0  \n",
      "1931 2022-12-19 08:03:32+00:00  0.0  0.0  0.0  \n",
      "                              id      value  feed_id  \\\n",
      "2046  0F6EFXFCQ7XCNTMT6PW3TFHAB9  35.400002  2408569   \n",
      "2047  0F6EFXQ3T1RVQ30FH3F5N47T15  35.500000  2408569   \n",
      "\n",
      "                    created_at  lat  lon  ele  \n",
      "2046 2022-12-19 08:52:26+00:00  0.0  0.0  0.0  \n",
      "2047 2022-12-19 08:52:51+00:00  0.0  0.0  0.0  \n",
      "                              id       value  feed_id  \\\n",
      "1193  0F6EF175TN93YZBTTCC99QRB7W  135.800003  2409856   \n",
      "1194  0F6EF1F0HSJEN4WN89Q89MDSRD  140.300003  2409856   \n",
      "\n",
      "                    created_at  lat  lon  ele  \n",
      "1193 2022-12-19 08:03:03+00:00  0.0  0.0  0.0  \n",
      "1194 2022-12-19 08:03:28+00:00  0.0  0.0  0.0  \n",
      "                              id      value  feed_id  \\\n",
      "1310  0F6EFXN2KE4TBSYM500AY72VYC  39.700001  2409856   \n",
      "1311  0F6EFXWWH6HHV4D6YYQKPWRZKQ  39.000000  2409856   \n",
      "\n",
      "                    created_at  lat  lon  ele  \n",
      "1310 2022-12-19 08:52:44+00:00  0.0  0.0  0.0  \n",
      "1311 2022-12-19 08:53:10+00:00  0.0  0.0  0.0  \n",
      "                             id  value  feed_id                created_at  \\\n",
      "777  0F6EF1EP7D9HN45YR49BNW9QBY  204.1  2409789 2022-12-19 08:03:27+00:00   \n",
      "778  0F6EF1QX96TSH1A0WCBXSECNNK  204.1  2409789 2022-12-19 08:03:58+00:00   \n",
      "\n",
      "     lat  lon  ele  \n",
      "777  NaN  NaN  NaN  \n",
      "778  NaN  NaN  NaN  \n",
      "                             id  value  feed_id                created_at  \\\n",
      "875  0F6EFXRYHTM41K7G3FBPF0Q1YX   54.9  2409789 2022-12-19 08:52:57+00:00   \n",
      "876  0F6EFY226K0QQ5MW9H3A8D6A1G   49.6  2409789 2022-12-19 08:53:27+00:00   \n",
      "\n",
      "     lat  lon  ele  \n",
      "875  NaN  NaN  NaN  \n",
      "876  NaN  NaN  NaN  \n",
      "                              id      value  feed_id  \\\n",
      "1284  0F6EF18H8FSH2P86J9XNS2X3SP  58.200001  2409715   \n",
      "1285  0F6EF1G7XKM34KNX9CV8FH9YBJ  58.299999  2409715   \n",
      "\n",
      "                    created_at  lat  lon  ele  \n",
      "1284 2022-12-19 08:03:07+00:00  0.0  0.0  0.0  \n",
      "1285 2022-12-19 08:03:32+00:00  0.0  0.0  0.0  \n",
      "                              id      value  feed_id  \\\n",
      "1400  0F6EFXFCQF6X22WA0BD9MFQ3K8  17.700001  2409715   \n",
      "1401  0F6EFXQ3RP5D0P4FQ8F7QN5WKJ  16.799999  2409715   \n",
      "\n",
      "                    created_at  lat  lon  ele  \n",
      "1400 2022-12-19 08:52:26+00:00  0.0  0.0  0.0  \n",
      "1401 2022-12-19 08:52:51+00:00  0.0  0.0  0.0  \n",
      "                              id      value  feed_id  \\\n",
      "1196  0F6EF175RBY3CAS2DM2K75GSZM  59.099998  2409857   \n",
      "1197  0F6EF1F0HD9ZMCYA7V2FGB7FSD  63.599998  2409857   \n",
      "\n",
      "                    created_at  lat  lon  ele  \n",
      "1196 2022-12-19 08:03:03+00:00  0.0  0.0  0.0  \n",
      "1197 2022-12-19 08:03:28+00:00  0.0  0.0  0.0  \n",
      "                              id      value  feed_id  \\\n",
      "1313  0F6EFXN2KDX58FMFWBPN2P37KK  19.400000  2409857   \n",
      "1314  0F6EFXWWG182QQJG02PET93WQK  17.299999  2409857   \n",
      "\n",
      "                    created_at  lat  lon  ele  \n",
      "1313 2022-12-19 08:52:44+00:00  0.0  0.0  0.0  \n",
      "1314 2022-12-19 08:53:10+00:00  0.0  0.0  0.0  \n",
      "                             id  value  feed_id                created_at  \\\n",
      "779  0F6EF1EC3VYKSS38W86SWVPVXF   82.9  2409788 2022-12-19 08:03:26+00:00   \n",
      "780  0F6EF1QJ679RXA1QE3XC2PKYGT   82.9  2409788 2022-12-19 08:03:56+00:00   \n",
      "\n",
      "     lat  lon  ele  \n",
      "779  NaN  NaN  NaN  \n",
      "780  NaN  NaN  NaN  \n",
      "                             id  value  feed_id                created_at  \\\n",
      "877  0F6EFXR8VP8FA24ZP49E0YMJFE   25.0  2409788 2022-12-19 08:52:55+00:00   \n",
      "878  0F6EFY1R15EGAAQZRB8S2EHAT6   21.5  2409788 2022-12-19 08:53:26+00:00   \n",
      "\n",
      "     lat  lon  ele  \n",
      "877  NaN  NaN  NaN  \n",
      "878  NaN  NaN  NaN  \n"
     ]
    }
   ],
   "source": [
    "exp5_pm10_posA = extract('data/pm10-20221223-1309.csv', (2022, 12, 19, 16, 3), (2022, 12, 19, 17, 52))\n",
    "exp5_pm10_posB = extract('data/pm10B-20221223-1310.csv', (2022, 12, 19, 16, 3), (2022, 12, 19, 17, 52))\n",
    "exp5_pm10_posC = extract('data/pm10-20221223-1312.csv', (2022, 12, 19, 16, 3), (2022, 12, 19, 17, 52))\n",
    "\n",
    "exp5_pm25_posA = extract('data/pm25-20221223-1310.csv', (2022, 12, 19, 16, 3), (2022, 12, 19, 17, 52))\n",
    "exp5_pm25_posB = extract('data/pm25B-20221223-1311.csv', (2022, 12, 19, 16, 3), (2022, 12, 19, 17, 52))\n",
    "exp5_pm25_posC = extract('data/pm25-20221223-1313.csv', (2022, 12, 19, 16, 3), (2022, 12, 19, 17, 52))"
   ]
  },
  {
   "cell_type": "code",
   "execution_count": 8,
   "metadata": {},
   "outputs": [
    {
     "name": "stdout",
     "output_type": "stream",
     "text": [
      "                              id      value  feed_id  \\\n",
      "2076  0F6F2TV6WSFY0SVFSBQZ21DFZZ  93.800003  2408569   \n",
      "2077  0F6F2V4ENWD7J7E310WNMXTBVN  89.300003  2408569   \n",
      "\n",
      "                    created_at  lat  lon  ele  \n",
      "2076 2022-12-20 02:30:23+00:00  0.0  0.0  0.0  \n",
      "2077 2022-12-20 02:30:54+00:00  0.0  0.0  0.0  \n",
      "                              id      value  feed_id  \\\n",
      "2219  0F6F44Z4PRY5J6MR9R9ZKNP5JG  46.799999  2408569   \n",
      "2220  0F6F458CKZHKAFAAXDN4DWS45A  47.700001  2408569   \n",
      "\n",
      "                    created_at  lat  lon  ele  \n",
      "2219 2022-12-20 03:44:00+00:00  0.0  0.0  0.0  \n",
      "2220 2022-12-20 03:44:30+00:00  0.0  0.0  0.0  \n",
      "                              id      value  feed_id  \\\n",
      "1338  0F6F2TPCMDAR6EQKHDA2GEBTDY  91.400002  2409856   \n",
      "1339  0F6F2TZRMZDAAE6TRTN46B2EAQ  89.000000  2409856   \n",
      "\n",
      "                    created_at  lat  lon  ele  \n",
      "1338 2022-12-20 02:30:07+00:00  0.0  0.0  0.0  \n",
      "1339 2022-12-20 02:30:38+00:00  0.0  0.0  0.0  \n",
      "                              id      value  feed_id  \\\n",
      "1482  0F6F4580N6YQ46CDEKJPGNWASS  42.400002  2409856   \n",
      "1483  0F6F45HCD98M52JQHERWM97K9A  44.599998  2409856   \n",
      "\n",
      "                    created_at  lat  lon  ele  \n",
      "1482 2022-12-20 03:44:29+00:00  0.0  0.0  0.0  \n",
      "1483 2022-12-20 03:45:00+00:00  0.0  0.0  0.0  \n",
      "                             id  value  feed_id                created_at  \\\n",
      "886  0F6F2TNA7FGFJ6ZHB5GV1CDW5P  137.0  2409789 2022-12-20 02:30:04+00:00   \n",
      "887  0F6F2TYENC7BDRCWS1CQX8GGD3  137.0  2409789 2022-12-20 02:30:34+00:00   \n",
      "\n",
      "     lat  lon  ele  \n",
      "886  NaN  NaN  NaN  \n",
      "887  NaN  NaN  NaN  \n",
      "                             id  value  feed_id                created_at  \\\n",
      "939  0F6F451VJJFPJVH7D54CW7RN0D   67.7  2409789 2022-12-20 03:44:09+00:00   \n",
      "940  0F6F45AXBWMZ92PYKBBXYV1JCG   67.7  2409789 2022-12-20 03:44:39+00:00   \n",
      "\n",
      "     lat  lon  ele  \n",
      "939  NaN  NaN  NaN  \n",
      "940  NaN  NaN  NaN  \n",
      "                              id      value  feed_id  \\\n",
      "1430  0F6F2TV6SP6ACXP64NM9EYJZH2  59.200001  2409715   \n",
      "1431  0F6F2V4EJ2H01SW7DK693ZNDT2  56.900002  2409715   \n",
      "\n",
      "                    created_at  lat  lon  ele  \n",
      "1430 2022-12-20 02:30:23+00:00  0.0  0.0  0.0  \n",
      "1431 2022-12-20 02:30:54+00:00  0.0  0.0  0.0  \n",
      "                              id      value  feed_id  \\\n",
      "1573  0F6F44Z4QTX3060604KNW4HTFT  23.000000  2409715   \n",
      "1574  0F6F458CPRMEJTH1G4X7SB4QMQ  24.200001  2409715   \n",
      "\n",
      "                    created_at  lat  lon  ele  \n",
      "1573 2022-12-20 03:44:00+00:00  0.0  0.0  0.0  \n",
      "1574 2022-12-20 03:44:30+00:00  0.0  0.0  0.0  \n",
      "                              id      value  feed_id  \\\n",
      "1343  0F6F2TPCM9CXHP1DKP4H77K6XM  56.200001  2409857   \n",
      "1344  0F6F2TZRNHQT3TEZXX2V6EQN42  53.700001  2409857   \n",
      "\n",
      "                    created_at  lat  lon  ele  \n",
      "1343 2022-12-20 02:30:07+00:00  0.0  0.0  0.0  \n",
      "1344 2022-12-20 02:30:38+00:00  0.0  0.0  0.0  \n",
      "                              id      value  feed_id  \\\n",
      "1487  0F6F4580J24GWET3D958E1ZEJH  20.600000  2409857   \n",
      "1488  0F6F45HCDJN7BPNB6T8TE3QTQE  20.700001  2409857   \n",
      "\n",
      "                    created_at  lat  lon  ele  \n",
      "1487 2022-12-20 03:44:29+00:00  0.0  0.0  0.0  \n",
      "1488 2022-12-20 03:45:00+00:00  0.0  0.0  0.0  \n",
      "                             id  value  feed_id                created_at  \\\n",
      "888  0F6F2TN09N27SVC3RC3BQR52AS   76.2  2409788 2022-12-20 02:30:03+00:00   \n",
      "889  0F6F2TY4TH1WYENB927NXXX043   76.2  2409788 2022-12-20 02:30:33+00:00   \n",
      "\n",
      "     lat  lon  ele  \n",
      "888  NaN  NaN  NaN  \n",
      "889  NaN  NaN  NaN  \n",
      "                             id  value  feed_id                created_at  \\\n",
      "941  0F6F451HX4847N3QSRQAZG7J81   30.3  2409788 2022-12-20 03:44:08+00:00   \n",
      "942  0F6F45AM03DDBC589ZBS33Q7G2   30.3  2409788 2022-12-20 03:44:38+00:00   \n",
      "\n",
      "     lat  lon  ele  \n",
      "941  NaN  NaN  NaN  \n",
      "942  NaN  NaN  NaN  \n"
     ]
    }
   ],
   "source": [
    "exp6_pm10_posC = extract('data/pm10-20221223-1309.csv', (2022, 12, 20, 10, 30), (2022, 12, 20, 11, 45))\n",
    "exp6_pm10_posB = extract('data/pm10B-20221223-1310.csv', (2022, 12, 20, 10, 30), (2022, 12, 20, 11, 45))\n",
    "exp6_pm10_posA = extract('data/pm10-20221223-1312.csv', (2022, 12, 20, 10, 30), (2022, 12, 20, 11, 45))\n",
    "\n",
    "exp6_pm25_posC = extract('data/pm25-20221223-1310.csv', (2022, 12, 20, 10, 30), (2022, 12, 20, 11, 45))\n",
    "exp6_pm25_posB = extract('data/pm25B-20221223-1311.csv', (2022, 12, 20, 10, 30), (2022, 12, 20, 11, 45))\n",
    "exp6_pm25_posA = extract('data/pm25-20221223-1313.csv', (2022, 12, 20, 10, 30), (2022, 12, 20, 11, 45))\n",
    "\n"
   ]
  },
  {
   "cell_type": "code",
   "execution_count": 9,
   "metadata": {},
   "outputs": [
    {
     "name": "stdout",
     "output_type": "stream",
     "text": [
      "                              id       value  feed_id  \\\n",
      "2249  0F6F4DQ6K89551V2B576T2PTJK  131.000000  2408569   \n",
      "2250  0F6F4E0ENHDVW25K44EE42VBW6  124.699997  2408569   \n",
      "\n",
      "                    created_at  lat  lon  ele  \n",
      "2249 2022-12-20 03:59:18+00:00  0.0  0.0  0.0  \n",
      "2250 2022-12-20 03:59:48+00:00  0.0  0.0  0.0  \n",
      "                              id  value  feed_id                created_at  \\\n",
      "2367  0F6F5G54R0W0CFHGHY03MQFAMP   22.4  2408569 2022-12-20 04:59:29+00:00   \n",
      "2368  0F6F5GECRG4AWFCDAB49FESNW0   23.0  2408569 2022-12-20 04:59:59+00:00   \n",
      "\n",
      "      lat  lon  ele  \n",
      "2367  0.0  0.0  0.0  \n",
      "2368  0.0  0.0  0.0  \n",
      "                              id       value  feed_id  \\\n",
      "1511  0F6F4DPYVJW6X0ZW67SR0CRRQY  120.500000  2409856   \n",
      "1512  0F6F4E06Y3ZN2R5XR9K9RSF4DK  122.699997  2409856   \n",
      "\n",
      "                    created_at  lat  lon  ele  \n",
      "1511 2022-12-20 03:59:17+00:00  0.0  0.0  0.0  \n",
      "1512 2022-12-20 03:59:47+00:00  0.0  0.0  0.0  \n",
      "                              id  value  feed_id                created_at  \\\n",
      "1629  0F6F5G4RT8ETJ2EQHH3G5X1S7N   19.1  2409856 2022-12-20 04:59:28+00:00   \n",
      "1630  0F6F5GE1GVSW241TBVBQH1VXB0   20.1  2409856 2022-12-20 04:59:58+00:00   \n",
      "\n",
      "      lat  lon  ele  \n",
      "1629  0.0  0.0  0.0  \n",
      "1630  0.0  0.0  0.0  \n",
      "                             id  value  feed_id                created_at  \\\n",
      "969  0F6F4DHT8R4WRXQ90554HBTJN7  236.6  2409789 2022-12-20 03:59:00+00:00   \n",
      "970  0F6F4DTWYZ61Z3XS083F6JN2E1  236.6  2409789 2022-12-20 03:59:30+00:00   \n",
      "\n",
      "     lat  lon  ele  \n",
      "969  NaN  NaN  NaN  \n",
      "970  NaN  NaN  NaN  \n",
      "                              id  value  feed_id                created_at  \\\n",
      "1090  0F6F5FXZ16RTMJSK6JGYBNGFTK   35.3  2409789 2022-12-20 04:59:05+00:00   \n",
      "1091  0F6F5G712J6138J5NAFME8WRHJ   35.3  2409789 2022-12-20 04:59:35+00:00   \n",
      "\n",
      "      lat  lon  ele  \n",
      "1090  NaN  NaN  NaN  \n",
      "1091  NaN  NaN  NaN  \n",
      "                              id      value  feed_id  \\\n",
      "1603  0F6F4DQ6KGRRBTYFR1QDZXBM8P  64.800003  2409715   \n",
      "1604  0F6F4E0EJVWN1VTWCCB0H3V8YH  63.599998  2409715   \n",
      "\n",
      "                    created_at  lat  lon  ele  \n",
      "1603 2022-12-20 03:59:18+00:00  0.0  0.0  0.0  \n",
      "1604 2022-12-20 03:59:48+00:00  0.0  0.0  0.0  \n",
      "                              id  value  feed_id                created_at  \\\n",
      "1721  0F6F5G54Q3675A77C3F137QTK1   13.2  2409715 2022-12-20 04:59:29+00:00   \n",
      "1722  0F6F5GECKP87QHD0V4GH73W2Y2   12.7  2409715 2022-12-20 04:59:59+00:00   \n",
      "\n",
      "      lat  lon  ele  \n",
      "1721  0.0  0.0  0.0  \n",
      "1722  0.0  0.0  0.0  \n",
      "                              id      value  feed_id  \\\n",
      "1516  0F6F4DPYXXZKMK61QPVHX7DH3K  58.599998  2409857   \n",
      "1517  0F6F4E06MZFCFFXSMJ7QEQ4B1X  58.299999  2409857   \n",
      "\n",
      "                    created_at  lat  lon  ele  \n",
      "1516 2022-12-20 03:59:17+00:00  0.0  0.0  0.0  \n",
      "1517 2022-12-20 03:59:47+00:00  0.0  0.0  0.0  \n",
      "                              id  value  feed_id                created_at  \\\n",
      "1634  0F6F5G4RQBCB0ZCH774PA2759M    9.9  2409857 2022-12-20 04:59:27+00:00   \n",
      "1635  0F6F5GE1G15KHNTCA05TVPZXW1   10.3  2409857 2022-12-20 04:59:58+00:00   \n",
      "\n",
      "      lat  lon  ele  \n",
      "1634  0.0  0.0  0.0  \n",
      "1635  0.0  0.0  0.0  \n",
      "                             id  value  feed_id                created_at  \\\n",
      "972  0F6F4DTK7C6MYSQW64BJZ34GQA  101.1  2409788 2022-12-20 03:59:29+00:00   \n",
      "973  0F6F4E3M3VKRNYAZ0T3KS0TJRR  101.1  2409788 2022-12-20 03:59:59+00:00   \n",
      "\n",
      "     lat  lon  ele  \n",
      "972  NaN  NaN  NaN  \n",
      "973  NaN  NaN  NaN  \n",
      "                              id  value  feed_id                created_at  \\\n",
      "1092  0F6F5FXNRW6JTZSJF1HTH3721G   16.7  2409788 2022-12-20 04:59:04+00:00   \n",
      "1093  0F6F5G6QRCDP74GC5F21CYYCBS   16.7  2409788 2022-12-20 04:59:34+00:00   \n",
      "\n",
      "      lat  lon  ele  \n",
      "1092  NaN  NaN  NaN  \n",
      "1093  NaN  NaN  NaN  \n"
     ]
    }
   ],
   "source": [
    "\n",
    "exp7_pm10_posC = extract('data/pm10-20221223-1309.csv', (2022, 12, 20, 11, 59), (2022, 12, 20, 13, 0))\n",
    "exp7_pm10_posB = extract('data/pm10B-20221223-1310.csv', (2022, 12, 20, 11, 59), (2022, 12, 20, 13, 0))\n",
    "exp7_pm10_posA = extract('data/pm10-20221223-1312.csv', (2022, 12, 20, 11, 59), (2022, 12, 20, 13, 0))\n",
    "\n",
    "exp7_pm25_posC = extract('data/pm25-20221223-1310.csv', (2022, 12, 20, 11, 59), (2022, 12, 20, 13, 0))\n",
    "exp7_pm25_posB = extract('data/pm25B-20221223-1311.csv', (2022, 12, 20, 11, 59), (2022, 12, 20, 13, 0))\n",
    "exp7_pm25_posA = extract('data/pm25-20221223-1313.csv', (2022, 12, 20, 11, 59), (2022, 12, 20, 13, 0))\n"
   ]
  },
  {
   "cell_type": "code",
   "execution_count": 10,
   "metadata": {},
   "outputs": [
    {
     "name": "stdout",
     "output_type": "stream",
     "text": [
      "                              id       value  feed_id  \\\n",
      "2454  0F6F67CDTQ8HY9ZFEYCZ7QQW1Y  163.500000  2408569   \n",
      "2455  0F6F67M4PEM1DCF1TF1RX6RP6H  156.899994  2408569   \n",
      "\n",
      "                    created_at  lat  lon  ele  \n",
      "2454 2022-12-20 05:40:04+00:00  0.0  0.0  0.0  \n",
      "2455 2022-12-20 05:40:30+00:00  0.0  0.0  0.0  \n",
      "                              id      value  feed_id  \\\n",
      "2594  0F6F79CRFAJY4RS4AV8EZPPXGC  28.299999  2408569   \n",
      "2595  0F6F79MJJCNRVY5EP736SJ4HB4  27.400000  2408569   \n",
      "\n",
      "                    created_at  lat  lon  ele  \n",
      "2594 2022-12-20 06:39:31+00:00  0.0  0.0  0.0  \n",
      "2595 2022-12-20 06:39:56+00:00  0.0  0.0  0.0  \n",
      "                              id       value  feed_id  \\\n",
      "1708  0F6F67DZPVXABHG93S52JQN3CT  149.199997  2409856   \n",
      "1709  0F6F67NPS4EZX5E1N5HCAWGJM9  149.000000  2409856   \n",
      "\n",
      "                    created_at  lat  lon  ele  \n",
      "1708 2022-12-20 05:40:09+00:00  0.0  0.0  0.0  \n",
      "1709 2022-12-20 05:40:35+00:00  0.0  0.0  0.0  \n",
      "                              id  value  feed_id                created_at  \\\n",
      "1847  0F6F799T7XEDPJVKBTG4YH3NV0   24.5  2409856 2022-12-20 06:39:21+00:00   \n",
      "1848  0F6F79HMH9816RN4BX2NYJJ0CM   24.6  2409856 2022-12-20 06:39:47+00:00   \n",
      "\n",
      "      lat  lon  ele  \n",
      "1847  0.0  0.0  0.0  \n",
      "1848  0.0  0.0  0.0  \n",
      "                              id  value  feed_id                created_at  \\\n",
      "1137  0F6F67KGHH4AFF300SVGH1Q96Y  225.6  2409789 2022-12-20 05:40:28+00:00   \n",
      "1138  0F6F67WJ0GQ61565VY2BTK6S24  225.6  2409789 2022-12-20 05:40:57+00:00   \n",
      "\n",
      "      lat  lon  ele  \n",
      "1137  NaN  NaN  NaN  \n",
      "1138  NaN  NaN  NaN  \n",
      "                              id  value  feed_id                created_at  \\\n",
      "1217  0F6F6YXQVHXRPABYGYR9PT9Z93   64.5  2409789 2022-12-20 06:21:13+00:00   \n",
      "1218  0F6F6Z6TGEMQCAGGWSZ9SY0VA1   64.5  2409789 2022-12-20 06:21:43+00:00   \n",
      "\n",
      "      lat  lon  ele  \n",
      "1217  NaN  NaN  NaN  \n",
      "1218  NaN  NaN  NaN  \n",
      "                              id      value  feed_id  \\\n",
      "1808  0F6F67CDT5AF5G1Q0GK0ZQDX26  87.300003  2409715   \n",
      "1809  0F6F67M4QRCTGSRKV75GRM49FG  85.599998  2409715   \n",
      "\n",
      "                    created_at  lat  lon  ele  \n",
      "1808 2022-12-20 05:40:04+00:00  0.0  0.0  0.0  \n",
      "1809 2022-12-20 05:40:30+00:00  0.0  0.0  0.0  \n",
      "                              id  value  feed_id                created_at  \\\n",
      "1948  0F6F79CRF6N72FWEMTPADN746M   15.6  2409715 2022-12-20 06:39:31+00:00   \n",
      "1949  0F6F79MJKJYDNMKAH28VR0KPHY   15.8  2409715 2022-12-20 06:39:56+00:00   \n",
      "\n",
      "      lat  lon  ele  \n",
      "1948  0.0  0.0  0.0  \n",
      "1949  0.0  0.0  0.0  \n",
      "                              id      value  feed_id  \\\n",
      "1713  0F6F67DZQCC1XQS4BPEKFNFK71  75.400002  2409857   \n",
      "1714  0F6F67NPRQ2YM8785QDZ6861CB  74.699997  2409857   \n",
      "\n",
      "                    created_at  lat  lon  ele  \n",
      "1713 2022-12-20 05:40:09+00:00  0.0  0.0  0.0  \n",
      "1714 2022-12-20 05:40:35+00:00  0.0  0.0  0.0  \n",
      "                              id  value  feed_id                created_at  \\\n",
      "1852  0F6F799T66015284F1RJCHFV3A   13.5  2409857 2022-12-20 06:39:21+00:00   \n",
      "1853  0F6F79HMGKPFZGRCKPJJ3KECSS   13.3  2409857 2022-12-20 06:39:47+00:00   \n",
      "\n",
      "      lat  lon  ele  \n",
      "1852  0.0  0.0  0.0  \n",
      "1853  0.0  0.0  0.0  \n",
      "                              id  value  feed_id                created_at  \\\n",
      "1140  0F6F67K6GXR5CBM14RXC4D3XS8  108.0  2409788 2022-12-20 05:40:27+00:00   \n",
      "1141  0F6F67W8MBES32CZT3N49PAPDY  108.0  2409788 2022-12-20 05:40:56+00:00   \n",
      "\n",
      "      lat  lon  ele  \n",
      "1140  NaN  NaN  NaN  \n",
      "1141  NaN  NaN  NaN  \n",
      "                              id  value  feed_id                created_at  \\\n",
      "1220  0F6F6YXE4HK63A0CRYYRRPGVNS   32.7  2409788 2022-12-20 06:21:12+00:00   \n",
      "1221  0F6F6Z6GD39Q5EBENJT7SGFXAZ   32.7  2409788 2022-12-20 06:21:42+00:00   \n",
      "\n",
      "      lat  lon  ele  \n",
      "1220  NaN  NaN  NaN  \n",
      "1221  NaN  NaN  NaN  \n"
     ]
    }
   ],
   "source": [
    "exp8_pm10_posA = extract('data/pm10-20221223-1309.csv', (2022, 12, 20, 13, 40), (2022, 12, 20, 14, 40))\n",
    "exp8_pm10_posB = extract('data/pm10B-20221223-1310.csv', (2022, 12, 20, 13, 40), (2022, 12, 20, 14, 40))\n",
    "exp8_pm10_posC = extract('data/pm10-20221223-1312.csv', (2022, 12, 20, 13, 40), (2022, 12, 20, 14, 40))\n",
    "\n",
    "exp8_pm25_posA = extract('data/pm25-20221223-1310.csv', (2022, 12, 20, 13, 40), (2022, 12, 20, 14, 40))\n",
    "exp8_pm25_posB = extract('data/pm25B-20221223-1311.csv', (2022, 12, 20, 13, 40), (2022, 12, 20, 14, 40))\n",
    "exp8_pm25_posC = extract('data/pm25-20221223-1313.csv', (2022, 12, 20, 13, 40), (2022, 12, 20, 14, 40))\n",
    "\n"
   ]
  },
  {
   "cell_type": "code",
   "execution_count": 11,
   "metadata": {},
   "outputs": [
    {
     "name": "stdout",
     "output_type": "stream",
     "text": [
      "                              id       value  feed_id  \\\n",
      "2636  0F6F7KK8RXX7A4JW0PFRNR8ZJV  163.800003  2408569   \n",
      "2637  0F6F7KV2K8DQTP6CMYDZ7CZ797  164.600006  2408569   \n",
      "\n",
      "                    created_at  lat  lon  ele  \n",
      "2636 2022-12-20 06:57:20+00:00  0.0  0.0  0.0  \n",
      "2637 2022-12-20 06:57:46+00:00  0.0  0.0  0.0  \n",
      "                              id      value  feed_id  \\\n",
      "2775  0F6F8NBHPP7Y8EJK767HV498Y8  29.299999  2408569   \n",
      "2776  0F6F8NK8MDJ9M2K6Y0KAPAD2N8  28.400000  2408569   \n",
      "\n",
      "                    created_at  lat  lon  ele  \n",
      "2775 2022-12-20 07:56:20+00:00  0.0  0.0  0.0  \n",
      "2776 2022-12-20 07:56:46+00:00  0.0  0.0  0.0  \n",
      "                              id       value  feed_id  \\\n",
      "1889  0F6F7KGRPXX31MF1KXDFER0T9F  156.500000  2409856   \n",
      "1890  0F6F7KRKP14SHJP0TY18SGGQ2F  150.100006  2409856   \n",
      "\n",
      "                    created_at  lat  lon  ele  \n",
      "1889 2022-12-20 06:57:12+00:00  0.0  0.0  0.0  \n",
      "1890 2022-12-20 06:57:38+00:00  0.0  0.0  0.0  \n",
      "                              id      value  feed_id  \\\n",
      "2028  0F6F8NBHQV1DVJCZBG2F3DNPDS  25.600000  2409856   \n",
      "2029  0F6F8NK90MTKV7BP804AQ2JHY3  28.299999  2409856   \n",
      "\n",
      "                    created_at  lat  lon  ele  \n",
      "2028 2022-12-20 07:56:20+00:00  0.0  0.0  0.0  \n",
      "2029 2022-12-20 07:56:46+00:00  0.0  0.0  0.0  \n",
      "                              id  value  feed_id                created_at  \\\n",
      "1219  0F6F7KFZXM6FP0WBZM5YKF7Y02  258.2  2409789 2022-12-20 06:57:10+00:00   \n",
      "1220  0F6F7KS36FRRQZMM7BEC0NT19X  258.2  2409789 2022-12-20 06:57:40+00:00   \n",
      "\n",
      "      lat  lon  ele  \n",
      "1219  NaN  NaN  NaN  \n",
      "1220  NaN  NaN  NaN  \n",
      "                              id  value  feed_id                created_at  \\\n",
      "1288  0F6F87627A21DBKD94PM3VTWFB   70.6  2409789 2022-12-20 07:31:34+00:00   \n",
      "1289  0F6F87F486EAKAJEZ79Y7Q784C   70.6  2409789 2022-12-20 07:32:04+00:00   \n",
      "\n",
      "      lat  lon  ele  \n",
      "1288  NaN  NaN  NaN  \n",
      "1289  NaN  NaN  NaN  \n",
      "                              id       value  feed_id  \\\n",
      "1990  0F6F7KK8P7ND34B7P321EXZ5PQ  113.500000  2409715   \n",
      "1991  0F6F7KV2K4G7ZYNVCDH6J015JG  114.400002  2409715   \n",
      "\n",
      "                    created_at  lat  lon  ele  \n",
      "1990 2022-12-20 06:57:20+00:00  0.0  0.0  0.0  \n",
      "1991 2022-12-20 06:57:46+00:00  0.0  0.0  0.0  \n",
      "                              id  value  feed_id                created_at  \\\n",
      "2129  0F6F8NBHRAP4T21AMA1CNT6W3B   20.4  2409715 2022-12-20 07:56:20+00:00   \n",
      "2130  0F6F8NK8KPZ96JRQSRVYP6SM15   19.9  2409715 2022-12-20 07:56:46+00:00   \n",
      "\n",
      "      lat  lon  ele  \n",
      "2129  0.0  0.0  0.0  \n",
      "2130  0.0  0.0  0.0  \n",
      "                              id       value  feed_id  \\\n",
      "1894  0F6F7KGRQ8JKJ3YB3PCREHF9K6  101.599998  2409857   \n",
      "1895  0F6F7KRKKSSDHJVNCWGNGZFANC   99.800003  2409857   \n",
      "\n",
      "                    created_at  lat  lon  ele  \n",
      "1894 2022-12-20 06:57:12+00:00  0.0  0.0  0.0  \n",
      "1895 2022-12-20 06:57:38+00:00  0.0  0.0  0.0  \n",
      "                              id      value  feed_id  \\\n",
      "2033  0F6F8NBHP8M13BZMGNWZS637FJ  17.200001  2409857   \n",
      "2034  0F6F8NK908D9Q9SNKZTSSGNVER  17.900000  2409857   \n",
      "\n",
      "                    created_at  lat  lon  ele  \n",
      "2033 2022-12-20 07:56:20+00:00  0.0  0.0  0.0  \n",
      "2034 2022-12-20 07:56:46+00:00  0.0  0.0  0.0  \n",
      "                              id  value  feed_id                created_at  \\\n",
      "1222  0F6F7KFP06HYQVTSRPDMT0QTAB  153.7  2409788 2022-12-20 06:57:09+00:00   \n",
      "1223  0F6F7KRS87XTPXHSNAF3C04574  153.7  2409788 2022-12-20 06:57:39+00:00   \n",
      "\n",
      "      lat  lon  ele  \n",
      "1222  NaN  NaN  NaN  \n",
      "1223  NaN  NaN  NaN  \n",
      "                              id  value  feed_id                created_at  \\\n",
      "1291  0F6F875R4T3QMXR07FR3ZDEACF   43.4  2409788 2022-12-20 07:31:33+00:00   \n",
      "1292  0F6F87ETFNK03X0C0C2A6ZAD0P   43.4  2409788 2022-12-20 07:32:03+00:00   \n",
      "\n",
      "      lat  lon  ele  \n",
      "1291  NaN  NaN  NaN  \n",
      "1292  NaN  NaN  NaN  \n"
     ]
    }
   ],
   "source": [
    "exp9_pm10_posA = extract('data/pm10-20221223-1309.csv', (2022, 12, 20, 14, 57), (2022, 12, 20, 15, 57))\n",
    "exp9_pm10_posB = extract('data/pm10B-20221223-1310.csv', (2022, 12, 20, 14, 57), (2022, 12, 20, 15, 57))\n",
    "exp9_pm10_posC = extract('data/pm10-20221223-1312.csv', (2022, 12, 20, 14, 57), (2022, 12, 20, 15, 57))\n",
    "\n",
    "exp9_pm25_posA = extract('data/pm25-20221223-1310.csv', (2022, 12, 20, 14, 57), (2022, 12, 20, 15, 57))\n",
    "exp9_pm25_posB = extract('data/pm25B-20221223-1311.csv', (2022, 12, 20, 14, 57), (2022, 12, 20, 15, 57))\n",
    "exp9_pm25_posC = extract('data/pm25-20221223-1313.csv', (2022, 12, 20, 14, 57), (2022, 12, 20, 15, 57))\n",
    "\n"
   ]
  },
  {
   "cell_type": "code",
   "execution_count": 12,
   "metadata": {},
   "outputs": [
    {
     "name": "stdout",
     "output_type": "stream",
     "text": [
      "                              id       value  feed_id  \\\n",
      "2925  0F6FV61ZZ013B0MMGC3G91628P  149.199997  2408569   \n",
      "2926  0F6FV69PGM2AWQYXGGKG9RXC08  144.500000  2408569   \n",
      "\n",
      "                    created_at  lat  lon  ele  \n",
      "2925 2022-12-21 01:12:10+00:00  0.0  0.0  0.0  \n",
      "2926 2022-12-21 01:12:35+00:00  0.0  0.0  0.0  \n",
      "                              id  value  feed_id                created_at  \\\n",
      "3064  0F6FW7TW8ADWCCP4Q13Q2YN0YJ   21.1  2408569 2022-12-21 02:11:11+00:00   \n",
      "3065  0F6FW82PAT6NKTHDWJBCFEC1JE   20.0  2408569 2022-12-21 02:11:37+00:00   \n",
      "\n",
      "      lat  lon  ele  \n",
      "3064  0.0  0.0  0.0  \n",
      "3065  0.0  0.0  0.0  \n",
      "                              id       value  feed_id  \\\n",
      "2176  0F6FV614CGPHNRDMSQ7XC57PWZ  143.100006  2409856   \n",
      "2177  0F6FV68W0DAGNG2HHCQ684CSDZ  142.300003  2409856   \n",
      "\n",
      "                    created_at  lat  lon  ele  \n",
      "2176 2022-12-21 01:12:07+00:00  0.0  0.0  0.0  \n",
      "2177 2022-12-21 01:12:32+00:00  0.0  0.0  0.0  \n",
      "                              id      value  feed_id  \\\n",
      "2315  0F6FW7TDCAD9EMMFQSZB7QB28F  18.299999  2409856   \n",
      "2316  0F6FW824HJBZTAWKVSNDM7RV6Y  18.500000  2409856   \n",
      "\n",
      "                    created_at  lat  lon  ele  \n",
      "2315 2022-12-21 02:11:10+00:00  0.0  0.0  0.0  \n",
      "2316 2022-12-21 02:11:35+00:00  0.0  0.0  0.0  \n",
      "                              id  value  feed_id                created_at  \\\n",
      "1392  0F6FV5ZZ5DAWXR50FEKBB3BJZX  166.6  2409789 2022-12-21 01:12:03+00:00   \n",
      "1393  0F6FV69D3BDSGBKNGWDBR74XDR  182.0  2409789 2022-12-21 01:12:34+00:00   \n",
      "\n",
      "      lat  lon  ele  \n",
      "1392  NaN  NaN  NaN  \n",
      "1393  NaN  NaN  NaN  \n",
      "                              id  value  feed_id                created_at  \\\n",
      "1498  0F6FW7TMMZK7Z6HGAE5SWYXXJ5   28.7  2409789 2022-12-21 02:11:11+00:00   \n",
      "1499  0F6FW83R8TGKS6FTZXR13FZMJF   28.7  2409789 2022-12-21 02:11:41+00:00   \n",
      "\n",
      "      lat  lon  ele  \n",
      "1498  NaN  NaN  NaN  \n",
      "1499  NaN  NaN  NaN  \n",
      "                              id       value  feed_id  \\\n",
      "2279  0F6FV61ZPZPCNDHMFS157REGXM  129.699997  2409715   \n",
      "2280  0F6FV69PJ00EYQC58SFBM4F63H  124.199997  2409715   \n",
      "\n",
      "                    created_at  lat  lon  ele  \n",
      "2279 2022-12-21 01:12:10+00:00  0.0  0.0  0.0  \n",
      "2280 2022-12-21 01:12:35+00:00  0.0  0.0  0.0  \n",
      "                              id      value  feed_id  \\\n",
      "2418  0F6FW7TW9RD1M9KNQG7R5PY8CF  17.200001  2409715   \n",
      "2419  0F6FW82P9NCDP9EXTDFVYGGTX2  17.500000  2409715   \n",
      "\n",
      "                    created_at  lat  lon  ele  \n",
      "2418 2022-12-21 02:11:11+00:00  0.0  0.0  0.0  \n",
      "2419 2022-12-21 02:11:37+00:00  0.0  0.0  0.0  \n",
      "                              id       value  feed_id  \\\n",
      "2181  0F6FV614E7JSYC355GDKHB8FME  121.900002  2409857   \n",
      "2182  0F6FV68VSXRCNGZ200BBT56Q7P  115.800003  2409857   \n",
      "\n",
      "                    created_at  lat  lon  ele  \n",
      "2181 2022-12-21 01:12:07+00:00  0.0  0.0  0.0  \n",
      "2182 2022-12-21 01:12:32+00:00  0.0  0.0  0.0  \n",
      "                              id  value  feed_id                created_at  \\\n",
      "2320  0F6FW7TDBBXWNF7E6QCA4C8T1H   15.1  2409857 2022-12-21 02:11:10+00:00   \n",
      "2321  0F6FW824FZQC4N0RCYZ6H2AMCG   14.4  2409857 2022-12-21 02:11:35+00:00   \n",
      "\n",
      "      lat  lon  ele  \n",
      "2320  0.0  0.0  0.0  \n",
      "2321  0.0  0.0  0.0  \n",
      "                              id  value  feed_id                created_at  \\\n",
      "1395  0F6FV5ZJKNF13VDWBN2RWXQ5PX  119.6  2409788 2022-12-21 01:12:02+00:00   \n",
      "1396  0F6FV6929Z89C1W641XKRK2RF5  133.7  2409788 2022-12-21 01:12:33+00:00   \n",
      "\n",
      "      lat  lon  ele  \n",
      "1395  NaN  NaN  NaN  \n",
      "1396  NaN  NaN  NaN  \n",
      "                              id  value  feed_id                created_at  \\\n",
      "1501  0F6FW7TAPJZ988FB1QASS0D1TQ   21.0  2409788 2022-12-21 02:11:10+00:00   \n",
      "1502  0F6FW83DSZYFZ4S6R0M363VYAV   21.0  2409788 2022-12-21 02:11:39+00:00   \n",
      "\n",
      "      lat  lon  ele  \n",
      "1501  NaN  NaN  NaN  \n",
      "1502  NaN  NaN  NaN  \n"
     ]
    }
   ],
   "source": [
    "exp10_pm10_posA = extract('data/pm10-20221223-1309.csv', (2022, 12, 21, 9, 12), (2022, 12, 21, 10, 12))\n",
    "exp10_pm10_posB = extract('data/pm10B-20221223-1310.csv', (2022, 12, 21, 9, 12), (2022, 12, 21, 10, 12))\n",
    "exp10_pm10_posC = extract('data/pm10-20221223-1312.csv', (2022, 12, 21, 9, 12), (2022, 12, 21, 10, 12))\n",
    "\n",
    "exp10_pm25_posA = extract('data/pm25-20221223-1310.csv', (2022, 12, 21, 9, 12), (2022, 12, 21, 10, 12))\n",
    "exp10_pm25_posB = extract('data/pm25B-20221223-1311.csv', (2022, 12, 21, 9, 12), (2022, 12, 21, 10, 12))\n",
    "exp10_pm25_posC = extract('data/pm25-20221223-1313.csv', (2022, 12, 21, 9, 12), (2022, 12, 21, 10, 12))\n"
   ]
  },
  {
   "cell_type": "code",
   "execution_count": 13,
   "metadata": {},
   "outputs": [
    {
     "name": "stdout",
     "output_type": "stream",
     "text": [
      "                              id       value  feed_id  \\\n",
      "3111  0F6FWK85HTXQ41X74T2RY7804A  188.199997  2408569   \n",
      "3112  0F6FWKFZH3F4XV76YY4P9516VY  185.000000  2408569   \n",
      "\n",
      "                    created_at  lat  lon  ele  \n",
      "3111 2022-12-21 02:31:08+00:00  0.0  0.0  0.0  \n",
      "3112 2022-12-21 02:31:34+00:00  0.0  0.0  0.0  \n",
      "                              id      value  feed_id  \\\n",
      "3253  0F6FXNRD56KQ27ZG22V1R9CA7G  25.700001  2408569   \n",
      "3254  0F6FXP099XTZPF9HG4K7YD0KYX  25.500000  2408569   \n",
      "\n",
      "                    created_at  lat  lon  ele  \n",
      "3253 2022-12-21 03:31:27+00:00  0.0  0.0  0.0  \n",
      "3254 2022-12-21 03:31:53+00:00  0.0  0.0  0.0  \n",
      "                              id       value  feed_id  \\\n",
      "2362  0F6FWK8X6QGH1RFPYNGVGSEFRZ  175.100006  2409856   \n",
      "2363  0F6FWKGJHTJAJQETW51AP2NCC0  175.699997  2409856   \n",
      "\n",
      "                    created_at  lat  lon  ele  \n",
      "2362 2022-12-21 02:31:11+00:00  0.0  0.0  0.0  \n",
      "2363 2022-12-21 02:31:36+00:00  0.0  0.0  0.0  \n",
      "                              id      value  feed_id  \\\n",
      "2504  0F6FXNTH800JK0KFEZHRH7HDNZ  23.700001  2409856   \n",
      "2505  0F6FXP28F8D2SV95FABTKWA4ZY  23.400000  2409856   \n",
      "\n",
      "                    created_at  lat  lon  ele  \n",
      "2504 2022-12-21 03:31:34+00:00  0.0  0.0  0.0  \n",
      "2505 2022-12-21 03:31:59+00:00  0.0  0.0  0.0  \n",
      "                              id  value  feed_id                created_at  \\\n",
      "1538  0F6FWKBKQ4A44DAD9Z5CWFYJF9  232.2  2409789 2022-12-21 02:31:20+00:00   \n",
      "1539  0F6FWKMP76CVHH54T9F99XSWH7  232.2  2409789 2022-12-21 02:31:49+00:00   \n",
      "\n",
      "      lat  lon  ele  \n",
      "1538  NaN  NaN  NaN  \n",
      "1539  NaN  NaN  NaN  \n",
      "                              id  value  feed_id                created_at  \\\n",
      "1621  0F6FXNRVWFX26MPVATMQ5D6Y67   40.6  2409789 2022-12-21 03:31:28+00:00   \n",
      "1622  0F6FXP27HSXYC0S2BCWNZ8WYXW   40.6  2409789 2022-12-21 03:31:59+00:00   \n",
      "\n",
      "      lat  lon  ele  \n",
      "1621  NaN  NaN  NaN  \n",
      "1622  NaN  NaN  NaN  \n",
      "                              id       value  feed_id  \\\n",
      "2465  0F6FWK85HM7MVP4587G9NVYBBV  105.000000  2409715   \n",
      "2466  0F6FWKFZDYZVS5GT4XQ24368PF  102.800003  2409715   \n",
      "\n",
      "                    created_at  lat  lon  ele  \n",
      "2465 2022-12-21 02:31:08+00:00  0.0  0.0  0.0  \n",
      "2466 2022-12-21 02:31:34+00:00  0.0  0.0  0.0  \n",
      "                              id  value  feed_id                created_at  \\\n",
      "2607  0F6FXNRD5FQ0KAW6417TKG20D0   14.9  2409715 2022-12-21 03:31:27+00:00   \n",
      "2608  0F6FXP09BM23AMRA8X4CVE8RK3   13.8  2409715 2022-12-21 03:31:53+00:00   \n",
      "\n",
      "      lat  lon  ele  \n",
      "2607  0.0  0.0  0.0  \n",
      "2608  0.0  0.0  0.0  \n",
      "                              id      value  feed_id  \\\n",
      "2367  0F6FWK8X6MKJWZ7VEZCM8RQVYH  96.699997  2409857   \n",
      "2368  0F6FWKGJGRH8Z0ZZGCV5XT2846  96.800003  2409857   \n",
      "\n",
      "                    created_at  lat  lon  ele  \n",
      "2367 2022-12-21 02:31:11+00:00  0.0  0.0  0.0  \n",
      "2368 2022-12-21 02:31:36+00:00  0.0  0.0  0.0  \n",
      "                              id  value  feed_id                created_at  \\\n",
      "2509  0F6FXNTH79MESZ4ZXST7EZ4BQE   13.0  2409857 2022-12-21 03:31:34+00:00   \n",
      "2510  0F6FXP28A4HDS1P0KSYAB1485D   13.1  2409857 2022-12-21 03:31:59+00:00   \n",
      "\n",
      "      lat  lon  ele  \n",
      "2509  0.0  0.0  0.0  \n",
      "2510  0.0  0.0  0.0  \n",
      "                              id  value  feed_id                created_at  \\\n",
      "1541  0F6FWKB9H6X3J5D1QTV1QTHQN3  102.6  2409788 2022-12-21 02:31:19+00:00   \n",
      "1542  0F6FWKMCENF88TDN62TR7SJXDT  102.6  2409788 2022-12-21 02:31:48+00:00   \n",
      "\n",
      "      lat  lon  ele  \n",
      "1541  NaN  NaN  NaN  \n",
      "1542  NaN  NaN  NaN  \n",
      "                              id  value  feed_id                created_at  \\\n",
      "1624  0F6FXNRJ03K92E6SCN9Q1DS94C   21.8  2409788 2022-12-21 03:31:27+00:00   \n",
      "1625  0F6FXP1VFWAXFENMH8RX9MRA2D   21.8  2409788 2022-12-21 03:31:58+00:00   \n",
      "\n",
      "      lat  lon  ele  \n",
      "1624  NaN  NaN  NaN  \n",
      "1625  NaN  NaN  NaN  \n"
     ]
    }
   ],
   "source": [
    "exp11_pm10_posA = extract('data/pm10-20221223-1309.csv', (2022, 12, 21, 10, 31), (2022, 12, 21, 11, 32))\n",
    "exp11_pm10_posB = extract('data/pm10B-20221223-1310.csv', (2022, 12, 21, 10, 31), (2022, 12, 21, 11, 32))\n",
    "exp11_pm10_posC = extract('data/pm10-20221223-1312.csv', (2022, 12, 21, 10, 31), (2022, 12, 21, 11, 32))\n",
    "\n",
    "exp11_pm25_posA = extract('data/pm25-20221223-1310.csv', (2022, 12, 21, 10, 31), (2022, 12, 21, 11, 32))\n",
    "exp11_pm25_posB = extract('data/pm25B-20221223-1311.csv', (2022, 12, 21, 10, 31), (2022, 12, 21, 11, 32))\n",
    "exp11_pm25_posC = extract('data/pm25-20221223-1313.csv', (2022, 12, 21, 10, 31), (2022, 12, 21, 11, 32))\n"
   ]
  },
  {
   "cell_type": "code",
   "execution_count": 14,
   "metadata": {},
   "outputs": [
    {
     "name": "stdout",
     "output_type": "stream",
     "text": [
      "                              id       value  feed_id  \\\n",
      "3288  0F6FXY8NFJKMAT3MBSAHJFMBZ7  162.100006  2408569   \n",
      "3289  0F6FXYGC57D2AVEDMZ6XD4W0T6  162.600006  2408569   \n",
      "\n",
      "                    created_at  lat  lon  ele  \n",
      "3288 2022-12-21 03:46:19+00:00  0.0  0.0  0.0  \n",
      "3289 2022-12-21 03:46:44+00:00  0.0  0.0  0.0  \n",
      "                              id  value  feed_id                created_at  \\\n",
      "3427  0F6FZ02715WSP2QN3DQA711N25   25.0  2408569 2022-12-21 04:45:23+00:00   \n",
      "3428  0F6FZ0A2ZVV1AV702BDN2J5SQ6   22.0  2408569 2022-12-21 04:45:49+00:00   \n",
      "\n",
      "      lat  lon  ele  \n",
      "3427  0.0  0.0  0.0  \n",
      "3428  0.0  0.0  0.0  \n",
      "                              id       value  feed_id  \\\n",
      "2538  0F6FXY329NNWYGFCQ8WJKFTXS1  159.199997  2409856   \n",
      "2539  0F6FXYAW52VNK8JQEN87N0TDG0  155.399994  2409856   \n",
      "\n",
      "                    created_at  lat  lon  ele  \n",
      "2538 2022-12-21 03:46:01+00:00  0.0  0.0  0.0  \n",
      "2539 2022-12-21 03:46:26+00:00  0.0  0.0  0.0  \n",
      "                              id      value  feed_id  \\\n",
      "2677  0F6FZ00J9V5SDF5B00JMM5HA01  20.900000  2409856   \n",
      "2678  0F6FZ08H5BW19QV4C12WNREWDV  22.299999  2409856   \n",
      "\n",
      "                    created_at  lat  lon  ele  \n",
      "2677 2022-12-21 04:45:18+00:00  0.0  0.0  0.0  \n",
      "2678 2022-12-21 04:45:44+00:00  0.0  0.0  0.0  \n",
      "                              id  value  feed_id                created_at  \\\n",
      "1650  0F6FXY3YGFBDQ2CG3T72WZMCXX  185.0  2409789 2022-12-21 03:46:03+00:00   \n",
      "1651  0F6FXYD3JK2K43NW551HED0Y0G  185.0  2409789 2022-12-21 03:46:33+00:00   \n",
      "\n",
      "      lat  lon  ele  \n",
      "1650  NaN  NaN  NaN  \n",
      "1651  NaN  NaN  NaN  \n",
      "                              id  value  feed_id                created_at  \\\n",
      "1696  0F6FYEQ3QZN3HAQGNRFK39JKQW   84.6  2409789 2022-12-21 04:15:04+00:00   \n",
      "1697  0F6FZ0D9SZBGYWFPK3R7JMWZGP   35.1  2409789 2022-12-21 04:45:59+00:00   \n",
      "\n",
      "      lat  lon  ele  \n",
      "1696  NaN  NaN  NaN  \n",
      "1697  NaN  NaN  NaN  \n",
      "                              id       value  feed_id  \\\n",
      "2642  0F6FXY8NGERV16JVJ76J3NHJ4G   98.400002  2409715   \n",
      "2643  0F6FXYGC5P0ECXV3BWM6XMVJ28  102.500000  2409715   \n",
      "\n",
      "                    created_at  lat  lon  ele  \n",
      "2642 2022-12-21 03:46:19+00:00  0.0  0.0  0.0  \n",
      "2643 2022-12-21 03:46:44+00:00  0.0  0.0  0.0  \n",
      "                              id  value  feed_id                created_at  \\\n",
      "2781  0F6FZ027097DDZ80B3QY9SXKPA   16.1  2409715 2022-12-21 04:45:23+00:00   \n",
      "2782  0F6FZ0A2YYW4369Y7P43020KBA   13.8  2409715 2022-12-21 04:45:49+00:00   \n",
      "\n",
      "      lat  lon  ele  \n",
      "2781  0.0  0.0  0.0  \n",
      "2782  0.0  0.0  0.0  \n",
      "                              id      value  feed_id  \\\n",
      "2543  0F6FXY329N68CH3EYZJBZZFPRM  98.300003  2409857   \n",
      "2544  0F6FXYAW5Q2605H2TET49AS1MF  95.300003  2409857   \n",
      "\n",
      "                    created_at  lat  lon  ele  \n",
      "2543 2022-12-21 03:46:01+00:00  0.0  0.0  0.0  \n",
      "2544 2022-12-21 03:46:26+00:00  0.0  0.0  0.0  \n",
      "                              id  value  feed_id                created_at  \\\n",
      "2682  0F6FZ00JDQ4HEW9YQ4PHEBXZ7J   12.5  2409857 2022-12-21 04:45:18+00:00   \n",
      "2683  0F6FZ08H4E7Z72J750P0S6DH54   13.2  2409857 2022-12-21 04:45:44+00:00   \n",
      "\n",
      "      lat  lon  ele  \n",
      "2682  0.0  0.0  0.0  \n",
      "2683  0.0  0.0  0.0  \n",
      "                              id  value  feed_id                created_at  \\\n",
      "1653  0F6FXY3MCBPKD9SXBMFHFW32Q7   86.7  2409788 2022-12-21 03:46:02+00:00   \n",
      "1654  0F6FXYCT30EWNGZ8SKBKV7DR1D   86.7  2409788 2022-12-21 03:46:32+00:00   \n",
      "\n",
      "      lat  lon  ele  \n",
      "1653  NaN  NaN  NaN  \n",
      "1654  NaN  NaN  NaN  \n",
      "                              id  value  feed_id                created_at  \\\n",
      "1699  0F6FYEPRY4SJZHBJ5PAKPVNDZZ   46.5  2409788 2022-12-21 04:15:03+00:00   \n",
      "1700  0F6FZ0CYYB621323JPJMPP65HA   19.4  2409788 2022-12-21 04:45:58+00:00   \n",
      "\n",
      "      lat  lon  ele  \n",
      "1699  NaN  NaN  NaN  \n",
      "1700  NaN  NaN  NaN  \n"
     ]
    }
   ],
   "source": [
    "exp12_pm10_posA = extract('data/pm10-20221223-1309.csv', (2022, 12, 21, 11, 46), (2022, 12, 21, 12, 46))\n",
    "exp12_pm10_posB = extract('data/pm10B-20221223-1310.csv', (2022, 12, 21, 11, 46), (2022, 12, 21, 12, 46))\n",
    "exp12_pm10_posC = extract('data/pm10-20221223-1312.csv', (2022, 12, 21, 11, 46), (2022, 12, 21, 12, 46))\n",
    "\n",
    "exp12_pm25_posA = extract('data/pm25-20221223-1310.csv', (2022, 12, 21, 11, 46), (2022, 12, 21, 12, 46))\n",
    "exp12_pm25_posB = extract('data/pm25B-20221223-1311.csv', (2022, 12, 21, 11, 46), (2022, 12, 21, 12, 46))\n",
    "exp12_pm25_posC = extract('data/pm25-20221223-1313.csv', (2022, 12, 21, 11, 46), (2022, 12, 21, 12, 46))\n"
   ]
  },
  {
   "cell_type": "code",
   "execution_count": 15,
   "metadata": {},
   "outputs": [
    {
     "name": "stdout",
     "output_type": "stream",
     "text": [
      "                              id       value  feed_id  \\\n",
      "3464  0F6FZ921BJ3QNPKZ102JGKTNGM  142.300003  2408569   \n",
      "3465  0F6FZ99QZSW341W2DCNP90Z1QY  141.899994  2408569   \n",
      "\n",
      "                    created_at  lat  lon  ele  \n",
      "3464 2022-12-21 05:01:06+00:00  0.0  0.0  0.0  \n",
      "3465 2022-12-21 05:01:31+00:00  0.0  0.0  0.0  \n",
      "                              id      value  feed_id  \\\n",
      "3604  0F6G0B3139WF7VH50PE3ZFDCAV  20.400000  2408569   \n",
      "3605  0F6G0BATTJ09AMC7G1QP873Q79  20.700001  2408569   \n",
      "\n",
      "                    created_at  lat  lon  ele  \n",
      "3604 2022-12-21 06:00:34+00:00  0.0  0.0  0.0  \n",
      "3605 2022-12-21 06:01:00+00:00  0.0  0.0  0.0  \n",
      "                              id       value  feed_id  \\\n",
      "2714  0F6FZ90R2HG1JWVMHHK2V8R7D2  142.399994  2409856   \n",
      "2715  0F6FZ98K48MM40M4KJ9VQWG4PV  140.300003  2409856   \n",
      "\n",
      "                    created_at  lat  lon  ele  \n",
      "2714 2022-12-21 05:01:02+00:00  0.0  0.0  0.0  \n",
      "2715 2022-12-21 05:01:28+00:00  0.0  0.0  0.0  \n",
      "                              id  value  feed_id                created_at  \\\n",
      "2854  0F6G0B2982AX267BW4CF7T6HG0   18.0  2409856 2022-12-21 06:00:32+00:00   \n",
      "2855  0F6G0BA04AAXPY6WQXAXYCKG29   18.1  2409856 2022-12-21 06:00:57+00:00   \n",
      "\n",
      "      lat  lon  ele  \n",
      "2854  0.0  0.0  0.0  \n",
      "2855  0.0  0.0  0.0  \n",
      "                              id  value  feed_id                created_at  \\\n",
      "1727  0F6FZ92E0M8T8WSZK9H03ZDJFF  194.5  2409789 2022-12-21 05:01:07+00:00   \n",
      "1728  0F6FZ9BHZXS8158BCHPVW36QQA  194.5  2409789 2022-12-21 05:01:37+00:00   \n",
      "\n",
      "      lat  lon  ele  \n",
      "1727  NaN  NaN  NaN  \n",
      "1728  NaN  NaN  NaN  \n",
      "                              id  value  feed_id                created_at  \\\n",
      "1781  0F6G0AV70Y27G4KRZVA5KARXD5   29.5  2409789 2022-12-21 06:00:09+00:00   \n",
      "1782  0F6G0B4BFM9Z2FADD0Z35FKJGQ   29.5  2409789 2022-12-21 06:00:39+00:00   \n",
      "\n",
      "      lat  lon  ele  \n",
      "1781  NaN  NaN  NaN  \n",
      "1782  NaN  NaN  NaN  \n",
      "                              id      value  feed_id  \\\n",
      "2818  0F6FZ921BX4YJNJEE0FB2RT4FZ  95.500000  2409715   \n",
      "2819  0F6FZ99QZVHBNPKPR0H3JJ306D  92.199997  2409715   \n",
      "\n",
      "                    created_at  lat  lon  ele  \n",
      "2818 2022-12-21 05:01:06+00:00  0.0  0.0  0.0  \n",
      "2819 2022-12-21 05:01:31+00:00  0.0  0.0  0.0  \n",
      "                              id  value  feed_id                created_at  \\\n",
      "2958  0F6G0B313MAZ874FKV0RQ88CW9   14.0  2409715 2022-12-21 06:00:34+00:00   \n",
      "2959  0F6G0BATW923HVBNQCB5HXQB67   14.6  2409715 2022-12-21 06:01:00+00:00   \n",
      "\n",
      "      lat  lon  ele  \n",
      "2958  0.0  0.0  0.0  \n",
      "2959  0.0  0.0  0.0  \n",
      "                              id      value  feed_id  \\\n",
      "2719  0F6FZ90R2W8TGBJMKMS0DGN45W  93.900002  2409857   \n",
      "2720  0F6FZ98K38BJRBP6MGG8M6CBVY  93.199997  2409857   \n",
      "\n",
      "                    created_at  lat  lon  ele  \n",
      "2719 2022-12-21 05:01:02+00:00  0.0  0.0  0.0  \n",
      "2720 2022-12-21 05:01:28+00:00  0.0  0.0  0.0  \n",
      "                              id  value  feed_id                created_at  \\\n",
      "2859  0F6G0B297BKXEK0JJJJ59S2S3Y   12.0  2409857 2022-12-21 06:00:32+00:00   \n",
      "2860  0F6G0BA0663XG4RAHJ9H5XR4HM   11.7  2409857 2022-12-21 06:00:57+00:00   \n",
      "\n",
      "      lat  lon  ele  \n",
      "2859  0.0  0.0  0.0  \n",
      "2860  0.0  0.0  0.0  \n",
      "                              id  value  feed_id                created_at  \\\n",
      "1730  0F6FZ91SR67X4DS58M6EYZXDG2  105.9  2409788 2022-12-21 05:01:05+00:00   \n",
      "1731  0F6FZ9B7WJXDX7BZESPTARAVZP  105.9  2409788 2022-12-21 05:01:36+00:00   \n",
      "\n",
      "      lat  lon  ele  \n",
      "1730  NaN  NaN  NaN  \n",
      "1731  NaN  NaN  NaN  \n",
      "                              id  value  feed_id                created_at  \\\n",
      "1784  0F6G0ATXF2CE1KWY4AKGE18PEB   17.4  2409788 2022-12-21 06:00:08+00:00   \n",
      "1785  0F6G0B4175D8EJAV7XCD3BHFDY   17.4  2409788 2022-12-21 06:00:38+00:00   \n",
      "\n",
      "      lat  lon  ele  \n",
      "1784  NaN  NaN  NaN  \n",
      "1785  NaN  NaN  NaN  \n"
     ]
    }
   ],
   "source": [
    "exp13_pm10_posA = extract('data/pm10-20221223-1309.csv', (2022, 12, 21, 13, 1), (2022, 12, 21, 14, 1))\n",
    "exp13_pm10_posB = extract('data/pm10B-20221223-1310.csv', (2022, 12, 21, 13, 1), (2022, 12, 21, 14, 1))\n",
    "exp13_pm10_posC = extract('data/pm10-20221223-1312.csv', (2022, 12, 21, 13, 1), (2022, 12, 21, 14, 1))\n",
    "\n",
    "exp13_pm25_posA = extract('data/pm25-20221223-1310.csv', (2022, 12, 21, 13, 1), (2022, 12, 21, 14, 1))\n",
    "exp13_pm25_posB = extract('data/pm25B-20221223-1311.csv', (2022, 12, 21, 13, 1), (2022, 12, 21, 14, 1))\n",
    "exp13_pm25_posC = extract('data/pm25-20221223-1313.csv', (2022, 12, 21, 13, 1), (2022, 12, 21, 14, 1))\n"
   ]
  },
  {
   "cell_type": "code",
   "execution_count": 16,
   "metadata": {},
   "outputs": [
    {
     "name": "stdout",
     "output_type": "stream",
     "text": [
      "                              id       value  feed_id  \\\n",
      "3634  0F6G0JC5S2QEZ5JDZM31WSZJWV  166.800003  2408569   \n",
      "3635  0F6G0JKZSAVK875WB46VA9M7AD  163.899994  2408569   \n",
      "\n",
      "                    created_at  lat  lon  ele  \n",
      "3634 2022-12-21 06:13:18+00:00  0.0  0.0  0.0  \n",
      "3635 2022-12-21 06:13:44+00:00  0.0  0.0  0.0  \n",
      "                              id      value  feed_id  \\\n",
      "3813  0F6G1XY107SARJEYRZXE1Q3G4P  19.400000  2408569   \n",
      "3814  0F6G1Y5QQGPHXES6MTWRJQFGX5  18.700001  2408569   \n",
      "\n",
      "                    created_at  lat  lon  ele  \n",
      "3813 2022-12-21 07:29:26+00:00  0.0  0.0  0.0  \n",
      "3814 2022-12-21 07:29:51+00:00  0.0  0.0  0.0  \n",
      "                              id       value  feed_id  \\\n",
      "2884  0F6G0JBSZA78B73MYP8Z4E7W93  158.100006  2409856   \n",
      "2885  0F6G0JKH3MM4KK37MF1ZAG35KF  152.800003  2409856   \n",
      "\n",
      "                    created_at  lat  lon  ele  \n",
      "2884 2022-12-21 06:13:17+00:00  0.0  0.0  0.0  \n",
      "2885 2022-12-21 06:13:43+00:00  0.0  0.0  0.0  \n",
      "                              id      value  feed_id  \\\n",
      "3063  0F6G1XXXTD4Q6FAH6Y04FCVCHN  16.200001  2409856   \n",
      "3064  0F6G1Y5N8KV7D9J28PPDZYEZ2W  15.700000  2409856   \n",
      "\n",
      "                    created_at  lat  lon  ele  \n",
      "3063 2022-12-21 07:29:25+00:00  0.0  0.0  0.0  \n",
      "3064 2022-12-21 07:29:51+00:00  0.0  0.0  0.0  \n",
      "                              id  value  feed_id                created_at  \\\n",
      "1807  0F6G0JBHXD8SXNYYXHHMAHJ0CS  237.8  2409789 2022-12-21 06:13:16+00:00   \n",
      "1808  0F6G0JMMVA7BWQ7EX5C9WXV4P8  237.8  2409789 2022-12-21 06:13:46+00:00   \n",
      "\n",
      "      lat  lon  ele  \n",
      "1807  NaN  NaN  NaN  \n",
      "1808  NaN  NaN  NaN  \n",
      "                              id  value  feed_id                created_at  \\\n",
      "1956  0F6G1XS1VBZ06QEP6Z72MBM1SG   27.6  2409789 2022-12-21 07:29:10+00:00   \n",
      "1957  0F6G1Y264E65TJ81W0PQSHVQSN   27.6  2409789 2022-12-21 07:29:39+00:00   \n",
      "\n",
      "      lat  lon  ele  \n",
      "1956  NaN  NaN  NaN  \n",
      "1957  NaN  NaN  NaN  \n",
      "                              id      value  feed_id  \\\n",
      "2988  0F6G0JC5TCEMNGY7ZN93C1D1CZ  94.599998  2409715   \n",
      "2989  0F6G0JKZRMP18HK6ET6C08QHSX  92.800003  2409715   \n",
      "\n",
      "                    created_at  lat  lon  ele  \n",
      "2988 2022-12-21 06:13:18+00:00  0.0  0.0  0.0  \n",
      "2989 2022-12-21 06:13:44+00:00  0.0  0.0  0.0  \n",
      "                              id  value  feed_id                created_at  \\\n",
      "3167  0F6G1XY0SWYK5KM60CBHVFFA0R   11.7  2409715 2022-12-21 07:29:26+00:00   \n",
      "3168  0F6G1Y5QQQPKZZ211TN6NM0QQ1   11.8  2409715 2022-12-21 07:29:51+00:00   \n",
      "\n",
      "      lat  lon  ele  \n",
      "3167  0.0  0.0  0.0  \n",
      "3168  0.0  0.0  0.0  \n",
      "                              id      value  feed_id  \\\n",
      "2889  0F6G0JBSXY3659KAKV39QKGCPK  84.800003  2409857   \n",
      "2890  0F6G0JKH1B7AQJCWXXG04FGAFT  79.699997  2409857   \n",
      "\n",
      "                    created_at  lat  lon  ele  \n",
      "2889 2022-12-21 06:13:17+00:00  0.0  0.0  0.0  \n",
      "2890 2022-12-21 06:13:43+00:00  0.0  0.0  0.0  \n",
      "                              id  value  feed_id                created_at  \\\n",
      "3068  0F6G1XXXSTC2NN1NFZDCE6XM1J    9.5  2409857 2022-12-21 07:29:25+00:00   \n",
      "3069  0F6G1Y5N6NBYPKY2A7ZZSGBPYP    9.4  2409857 2022-12-21 07:29:51+00:00   \n",
      "\n",
      "      lat  lon  ele  \n",
      "3068  0.0  0.0  0.0  \n",
      "3069  0.0  0.0  0.0  \n",
      "                              id  value  feed_id                created_at  \\\n",
      "1810  0F6G0JB7HTN4P955NNQYYHTYSX  124.1  2409788 2022-12-21 06:13:15+00:00   \n",
      "1811  0F6G0JMACM85MYFFY07S1EM2DV  124.1  2409788 2022-12-21 06:13:45+00:00   \n",
      "\n",
      "      lat  lon  ele  \n",
      "1810  NaN  NaN  NaN  \n",
      "1811  NaN  NaN  NaN  \n",
      "                              id  value  feed_id                created_at  \\\n",
      "1959  0F6G1XRQKFQBVPDQJ3CKM7X7ZP   16.2  2409788 2022-12-21 07:29:08+00:00   \n",
      "1960  0F6G1Y1VWZQTT2RXND93BF1HJ4   16.2  2409788 2022-12-21 07:29:38+00:00   \n",
      "\n",
      "      lat  lon  ele  \n",
      "1959  NaN  NaN  NaN  \n",
      "1960  NaN  NaN  NaN  \n"
     ]
    }
   ],
   "source": [
    "exp14_pm10_posA = extract('data/pm10-20221223-1309.csv', (2022, 12, 21, 14, 13), (2022, 12, 21, 15, 30))\n",
    "exp14_pm10_posB = extract('data/pm10B-20221223-1310.csv', (2022, 12, 21, 14, 13), (2022, 12, 21, 15, 30))\n",
    "exp14_pm10_posC = extract('data/pm10-20221223-1312.csv', (2022, 12, 21, 14, 13), (2022, 12, 21, 15, 30))\n",
    "\n",
    "exp14_pm25_posA = extract('data/pm25-20221223-1310.csv', (2022, 12, 21, 14, 13), (2022, 12, 21, 15, 30))\n",
    "exp14_pm25_posB = extract('data/pm25B-20221223-1311.csv', (2022, 12, 21, 14, 13), (2022, 12, 21, 15, 30))\n",
    "exp14_pm25_posC = extract('data/pm25-20221223-1313.csv', (2022, 12, 21, 14, 13), (2022, 12, 21, 15, 30))\n"
   ]
  },
  {
   "attachments": {},
   "cell_type": "markdown",
   "metadata": {},
   "source": [
    "## Visualisation"
   ]
  },
  {
   "cell_type": "code",
   "execution_count": 17,
   "metadata": {},
   "outputs": [
    {
     "data": {
      "text/plain": [
       "[<matplotlib.lines.Line2D at 0x7fca13685d00>]"
      ]
     },
     "execution_count": 17,
     "metadata": {},
     "output_type": "execute_result"
    },
    {
     "data": {
      "image/png": "[encoded data removed]",
      "text/plain": [
       "<Figure size 432x288 with 1 Axes>"
      ]
     },
     "metadata": {
      "needs_background": "light"
     },
     "output_type": "display_data"
    }
   ],
   "source": [
    "plt.plot(exp7_pm10_posB.created_at+pd.Timedelta(minutes=-61), exp7_pm10_posB['value'])"
   ]
  },
  {
   "cell_type": "code",
   "execution_count": 18,
   "metadata": {},
   "outputs": [
    {
     "data": {
      "text/plain": [
       "<matplotlib.legend.Legend at 0x7fca161089d0>"
      ]
     },
     "execution_count": 18,
     "metadata": {},
     "output_type": "execute_result"
    },
    {
     "data": {
      "image/png": "[encoded data removed]",
      "text/plain": [
       "<Figure size 864x576 with 1 Axes>"
      ]
     },
     "metadata": {
      "needs_background": "light"
     },
     "output_type": "display_data"
    }
   ],
   "source": [
    "# plt.plot(exp13_pm25_posA.created_at, exp13_pm25_posA['value'],'r')\n",
    "plt.figure(figsize=(12, 8))\n",
    "plt.plot(exp7_pm10_posB.created_at+pd.Timedelta(days=1)+pd.Timedelta(minutes=141), exp7_pm10_posB['value'], 'r', label=\"front middle not elevated ac\")\n",
    "plt.plot(exp14_pm10_posB.created_at, exp14_pm10_posB['value'], 'b', label=\"front middle not elevated ac\")\n",
    "# plt.plot(exp13_pm10_posA.created_at+pd.Timedelta(minutes=75), exp13_pm10_posA['value'],'g', label =\"middle elevated ac\")\n",
    "plt.legend(loc='upper right')\n"
   ]
  },
  {
   "cell_type": "code",
   "execution_count": 224,
   "metadata": {},
   "outputs": [
    {
     "name": "stderr",
     "output_type": "stream",
     "text": [
      "<ipython-input-19-0dc35ba314ad>:2: RuntimeWarning: overflow encountered in exp\n",
      "  return a * np.exp(-b * x) + c\n"
     ]
    },
    {
     "data": {
      "image/png": "[encoded data removed]",
      "text/plain": [
       "<Figure size 432x288 with 1 Axes>"
      ]
     },
     "metadata": {
      "needs_background": "light"
     },
     "output_type": "display_data"
    },
    {
     "data": {
      "text/plain": [
       "(array([1.20111582e+02, 1.47844290e-02, 5.26312394e-01]),\n",
       " array([[ 1.92478711e+00, -5.10440666e-04, -2.12810124e+00],\n",
       "        [-5.10440666e-04,  2.00175772e-07,  7.20807181e-04],\n",
       "        [-2.12810124e+00,  7.20807181e-04,  2.76562966e+00]]))"
      ]
     },
     "execution_count": 224,
     "metadata": {},
     "output_type": "execute_result"
    }
   ],
   "source": [
    "produce_best_fit(exp7_pm10_posB, func)"
   ]
  },
  {
   "cell_type": "code",
   "execution_count": 232,
   "metadata": {},
   "outputs": [
    {
     "name": "stderr",
     "output_type": "stream",
     "text": [
      "<ipython-input-19-0dc35ba314ad>:2: RuntimeWarning: overflow encountered in exp\n",
      "  return a * np.exp(-b * x) + c\n"
     ]
    },
    {
     "data": {
      "image/png": "[encoded data removed]",
      "text/plain": [
       "<Figure size 432x288 with 1 Axes>"
      ]
     },
     "metadata": {
      "needs_background": "light"
     },
     "output_type": "display_data"
    },
    {
     "data": {
      "text/plain": [
       "(array([1.14303220e+02, 1.78892178e-02, 9.72763945e+00]),\n",
       " array([[ 2.65006861e-01, -6.37724462e-05, -2.16165390e-01],\n",
       "        [-6.37724462e-05,  6.40076868e-08,  1.40892552e-04],\n",
       "        [-2.16165390e-01,  1.40892552e-04,  3.51661059e-01]]))"
      ]
     },
     "execution_count": 232,
     "metadata": {},
     "output_type": "execute_result"
    }
   ],
   "source": [
    "produce_best_fit(exp14_pm10_posA[20:], func)"
   ]
  },
  {
   "attachments": {},
   "cell_type": "markdown",
   "metadata": {},
   "source": [
    "## Fitting Models"
   ]
  },
  {
   "attachments": {},
   "cell_type": "markdown",
   "metadata": {},
   "source": [
    "### curve fitting"
   ]
  },
  {
   "attachments": {},
   "cell_type": "markdown",
   "metadata": {},
   "source": [
    "When the air cleaner and/or ventilation system were/was operated, the indoor air was filtered by the filter used in each device, and thus, the particle number concentration decreased over time, and the decrease rate varied depending on the experimental condi- tions; however, it reduced exponentially in all cases. Therefore, the curve fitting method\n",
    "was applied to the experimental data using Equation (1) [23,25].\n",
    "\n",
    "$$C(t) = y_0 + A exp(-\\frac{t}{m})$$ \n",
    "$$C(t) = A exp(-\\frac{t}{B})+C$$ "
   ]
  },
  {
   "cell_type": "code",
   "execution_count": 374,
   "metadata": {},
   "outputs": [
    {
     "data": {
      "text/plain": [
       "array([0.98822773, 0.01431712, 0.04915712])"
      ]
     },
     "execution_count": 374,
     "metadata": {},
     "output_type": "execute_result"
    }
   ],
   "source": [
    "popt3"
   ]
  },
  {
   "cell_type": "code",
   "execution_count": 19,
   "metadata": {},
   "outputs": [],
   "source": [
    "def func(x, a, b, c):\n",
    "    return a * np.exp(-b * x) + c\n",
    "\n",
    "def produce_best_fit(dataset, func):\n",
    "    data = dataset.set_index('created_at')\n",
    "    data = data.resample('0.5T').mean()\n",
    "    data['time_col'] = data.index\n",
    "    data['time_col'] = data.time_col.dt.tz_localize(None)\n",
    "\n",
    "    x=np.array(range(len(data.value)))\n",
    "    y=data.value\n",
    "\n",
    "    finiteMask = np.isfinite([x, y]).all(axis=0)\n",
    "    Yclean = y[finiteMask]\n",
    "    Xclean = x[finiteMask]\n",
    "\n",
    "\n",
    "    from scipy.optimize import curve_fit\n",
    "    popt, pcov = curve_fit(func, Xclean, Yclean)\n",
    "\n",
    "\n",
    "    plt.figure()\n",
    "    plt.plot(x, y, 'ko', label=\"Original Noised Data\")\n",
    "    plt.plot(x, func(x, *popt), 'r-', label=\"Fitted Curve\")\n",
    "    plt.legend()\n",
    "    plt.show()\n",
    "\n",
    "\n",
    "    return popt, pcov\n",
    "\n",
    "    "
   ]
  },
  {
   "cell_type": "code",
   "execution_count": 371,
   "metadata": {},
   "outputs": [
    {
     "name": "stdout",
     "output_type": "stream",
     "text": [
      "1.0\n",
      "1.0\n",
      "1.0\n"
     ]
    },
    {
     "data": {
      "image/png": "[encoded data removed]",
      "text/plain": [
       "<Figure size 864x576 with 1 Axes>"
      ]
     },
     "metadata": {
      "needs_background": "light"
     },
     "output_type": "display_data"
    }
   ],
   "source": [
    "data = exp4_pm10_posB.set_index('created_at')\n",
    "data = data.resample('0.5T').mean()\n",
    "data['time_col'] = data.index\n",
    "data['time_col'] = data.time_col.dt.tz_localize(None)\n",
    "\n",
    "\n",
    "\n",
    "\n",
    "data2 = exp2_pm10_posB.set_index('created_at')\n",
    "data2 = data2.resample('0.5T').mean()\n",
    "data2['time_col'] = data2.index\n",
    "data2['time_col'] = data2.time_col.dt.tz_localize(None)\n",
    "\n",
    "\n",
    "\n",
    "\n",
    "data3 = exp5_pm10_posB.set_index('created_at')\n",
    "data3 = data3.resample('0.5T').mean()\n",
    "data3['time_col'] = data3.index\n",
    "data3['time_col'] = data3.time_col.dt.tz_localize(None)\n",
    "\n",
    "x=np.array(range(len(data.value)))\n",
    "y=data.value/data.value[0]\n",
    "print(y[0])\n",
    "\n",
    "x2=np.array(range(len(data2.value)))\n",
    "y2=data2.value/data2.value[0]\n",
    "print(y2[0])\n",
    "\n",
    "x3=np.array(range(len(data3.value)))\n",
    "y3=data3.value/data3.value[0]\n",
    "print(y3[0])\n",
    "\n",
    "\n",
    "\n",
    "\n",
    "\n",
    "from scipy.optimize import curve_fit\n",
    "popt, pcov = curve_fit(func, x, y)\n",
    "\n",
    "popt2, pcov2 = curve_fit(func, x2, y2)\n",
    "\n",
    "popt3, pcov3 = curve_fit(func, x3, y3)\n",
    "\n",
    "\n",
    "fig = plt.figure(figsize=(12,8))\n",
    "\n",
    "\n",
    "plt.plot(x, y, 'ro')\n",
    "plt.plot(x, func(x, *popt), 'r-', label=\"air filter elevated, with air-conditioning\")\n",
    "\n",
    "plt.plot(x2, y2, 'bo')\n",
    "plt.plot(x2, func(x2, *popt2), 'b-', label=\"air filter not elevated, with air-conditioning\")\n",
    "\n",
    "plt.plot(x3, y3, 'go')\n",
    "plt.plot(x3, func(x3, *popt3), 'g-', label=\"air filter not elevated, with no air-conditioning\")\n",
    "\n",
    "plt.legend(prop={'size': 20})\n",
    "plt.xlabel(\"time [0.5min]\", fontdict = {'fontsize' : 20})\n",
    "plt.ylabel(\"y(t)/y(0)\", fontdict = {'fontsize' : 20})\n",
    "\n",
    "plt.show()\n",
    "fig.savefig(\"hello\")\n"
   ]
  },
  {
   "cell_type": "code",
   "execution_count": 364,
   "metadata": {},
   "outputs": [
    {
     "name": "stdout",
     "output_type": "stream",
     "text": [
      "Mean Squared Error:  0.00011876422998028487\n",
      "Root mean squared error: 0.010897900255566889\n",
      "Mean R-squared : 0.9977401557118634\n"
     ]
    }
   ],
   "source": [
    "print(\"Mean Squared Error: \", np.mean((y2-func(x2, *popt2))**2))\n",
    "print(\"Root mean squared error:\", np.sqrt(np.mean((y2-func(x2, *popt2))**2)))\n",
    "\n",
    "ss_res = np.dot((y2 - func(x2, *popt2)),(y2 - func(x2, *popt2)))\n",
    "ymean = np.mean(y2)\n",
    "ss_tot = np.dot((y2-ymean),(y2-ymean))\n",
    "print(\"Mean R-squared :\",  1-ss_res/ss_tot)"
   ]
  },
  {
   "cell_type": "code",
   "execution_count": 233,
   "metadata": {},
   "outputs": [
    {
     "data": {
      "text/html": [
       "<div>\n",
       "<style scoped>\n",
       "    .dataframe tbody tr th:only-of-type {\n",
       "        vertical-align: middle;\n",
       "    }\n",
       "\n",
       "    .dataframe tbody tr th {\n",
       "        vertical-align: top;\n",
       "    }\n",
       "\n",
       "    .dataframe thead th {\n",
       "        text-align: right;\n",
       "    }\n",
       "</style>\n",
       "<table border=\"1\" class=\"dataframe\">\n",
       "  <thead>\n",
       "    <tr style=\"text-align: right;\">\n",
       "      <th></th>\n",
       "      <th>value</th>\n",
       "      <th>created_at</th>\n",
       "    </tr>\n",
       "  </thead>\n",
       "  <tbody>\n",
       "    <tr>\n",
       "      <th>2884</th>\n",
       "      <td>158.100006</td>\n",
       "      <td>2022-12-21 06:13:17+00:00</td>\n",
       "    </tr>\n",
       "    <tr>\n",
       "      <th>2885</th>\n",
       "      <td>152.800003</td>\n",
       "      <td>2022-12-21 06:13:43+00:00</td>\n",
       "    </tr>\n",
       "    <tr>\n",
       "      <th>2886</th>\n",
       "      <td>155.199997</td>\n",
       "      <td>2022-12-21 06:14:08+00:00</td>\n",
       "    </tr>\n",
       "    <tr>\n",
       "      <th>2887</th>\n",
       "      <td>151.300003</td>\n",
       "      <td>2022-12-21 06:14:34+00:00</td>\n",
       "    </tr>\n",
       "    <tr>\n",
       "      <th>2888</th>\n",
       "      <td>150.199997</td>\n",
       "      <td>2022-12-21 06:14:59+00:00</td>\n",
       "    </tr>\n",
       "  </tbody>\n",
       "</table>\n",
       "</div>"
      ],
      "text/plain": [
       "           value                created_at\n",
       "2884  158.100006 2022-12-21 06:13:17+00:00\n",
       "2885  152.800003 2022-12-21 06:13:43+00:00\n",
       "2886  155.199997 2022-12-21 06:14:08+00:00\n",
       "2887  151.300003 2022-12-21 06:14:34+00:00\n",
       "2888  150.199997 2022-12-21 06:14:59+00:00"
      ]
     },
     "execution_count": 233,
     "metadata": {},
     "output_type": "execute_result"
    }
   ],
   "source": [
    "exp14_pm10_posB.head()"
   ]
  },
  {
   "cell_type": "code",
   "execution_count": 23,
   "metadata": {},
   "outputs": [
    {
     "name": "stderr",
     "output_type": "stream",
     "text": [
      "<ipython-input-19-0dc35ba314ad>:2: RuntimeWarning: overflow encountered in exp\n",
      "  return a * np.exp(-b * x) + c\n"
     ]
    },
    {
     "name": "stdout",
     "output_type": "stream",
     "text": [
      "1\n"
     ]
    },
    {
     "data": {
      "image/png": "[encoded data removed]",
      "text/plain": [
       "<Figure size 432x288 with 1 Axes>"
      ]
     },
     "metadata": {
      "needs_background": "light"
     },
     "output_type": "display_data"
    },
    {
     "name": "stderr",
     "output_type": "stream",
     "text": [
      "<ipython-input-19-0dc35ba314ad>:2: RuntimeWarning: overflow encountered in exp\n",
      "  return a * np.exp(-b * x) + c\n"
     ]
    },
    {
     "data": {
      "image/png": "[encoded data removed]",
      "text/plain": [
       "<Figure size 432x288 with 1 Axes>"
      ]
     },
     "metadata": {
      "needs_background": "light"
     },
     "output_type": "display_data"
    },
    {
     "name": "stdout",
     "output_type": "stream",
     "text": [
      "1 [ 1.67520522e+02  1.03428263e-02 -2.17328824e+01] [ 1.67520522e+02  1.03428263e-02 -2.17328824e+01]\n",
      "2\n"
     ]
    },
    {
     "data": {
      "image/png": "[encoded data removed]",
      "text/plain": [
       "<Figure size 432x288 with 1 Axes>"
      ]
     },
     "metadata": {
      "needs_background": "light"
     },
     "output_type": "display_data"
    },
    {
     "name": "stderr",
     "output_type": "stream",
     "text": [
      "<ipython-input-19-0dc35ba314ad>:2: RuntimeWarning: overflow encountered in exp\n",
      "  return a * np.exp(-b * x) + c\n"
     ]
    },
    {
     "data": {
      "image/png": "[encoded data removed]",
      "text/plain": [
       "<Figure size 432x288 with 1 Axes>"
      ]
     },
     "metadata": {
      "needs_background": "light"
     },
     "output_type": "display_data"
    },
    {
     "name": "stderr",
     "output_type": "stream",
     "text": [
      "<ipython-input-19-0dc35ba314ad>:2: RuntimeWarning: overflow encountered in multiply\n",
      "  return a * np.exp(-b * x) + c\n"
     ]
    },
    {
     "name": "stdout",
     "output_type": "stream",
     "text": [
      "2 [ 2.09496825e+02  6.87986074e-03 -5.76712022e+01] [ 1.81340079e+02  8.10695627e-03 -3.93917208e+01]\n",
      "3\n"
     ]
    },
    {
     "data": {
      "image/png": "[encoded data removed]",
      "text/plain": [
       "<Figure size 432x288 with 1 Axes>"
      ]
     },
     "metadata": {
      "needs_background": "light"
     },
     "output_type": "display_data"
    },
    {
     "name": "stdout",
     "output_type": "stream",
     "text": [
      "3 [1, 1, 1] [1, 1, 1]\n",
      "4\n"
     ]
    },
    {
     "data": {
      "image/png": "[encoded data removed]",
      "text/plain": [
       "<Figure size 432x288 with 1 Axes>"
      ]
     },
     "metadata": {
      "needs_background": "light"
     },
     "output_type": "display_data"
    },
    {
     "name": "stderr",
     "output_type": "stream",
     "text": [
      "<ipython-input-19-0dc35ba314ad>:2: RuntimeWarning: overflow encountered in exp\n",
      "  return a * np.exp(-b * x) + c\n"
     ]
    },
    {
     "data": {
      "image/png": "[encoded data removed]",
      "text/plain": [
       "<Figure size 432x288 with 1 Axes>"
      ]
     },
     "metadata": {
      "needs_background": "light"
     },
     "output_type": "display_data"
    },
    {
     "name": "stdout",
     "output_type": "stream",
     "text": [
      "4 [2.06595057e+02 1.82982333e-02 1.67339746e+01] [1.14219600e+02 2.09856212e-02 2.12194331e+01]\n",
      "5\n"
     ]
    },
    {
     "data": {
      "image/png": "[encoded data removed]",
      "text/plain": [
       "<Figure size 432x288 with 1 Axes>"
      ]
     },
     "metadata": {
      "needs_background": "light"
     },
     "output_type": "display_data"
    },
    {
     "name": "stderr",
     "output_type": "stream",
     "text": [
      "<ipython-input-19-0dc35ba314ad>:2: RuntimeWarning: overflow encountered in exp\n",
      "  return a * np.exp(-b * x) + c\n",
      "<ipython-input-19-0dc35ba314ad>:2: RuntimeWarning: overflow encountered in multiply\n",
      "  return a * np.exp(-b * x) + c\n"
     ]
    },
    {
     "data": {
      "image/png": "[encoded data removed]",
      "text/plain": [
       "<Figure size 432x288 with 1 Axes>"
      ]
     },
     "metadata": {
      "needs_background": "light"
     },
     "output_type": "display_data"
    },
    {
     "name": "stdout",
     "output_type": "stream",
     "text": [
      "5 [2.05940143e+02 1.62657663e-02 9.30905348e+00] [1.14270479e+02 1.86669381e-02 2.04099263e+01]\n",
      "6\n",
      "6 [1, 1, 1] [1, 1, 1]\n",
      "7\n"
     ]
    },
    {
     "data": {
      "image/png": "[encoded data removed]",
      "text/plain": [
       "<Figure size 432x288 with 1 Axes>"
      ]
     },
     "metadata": {
      "needs_background": "light"
     },
     "output_type": "display_data"
    },
    {
     "name": "stderr",
     "output_type": "stream",
     "text": [
      "<ipython-input-19-0dc35ba314ad>:2: RuntimeWarning: overflow encountered in exp\n",
      "  return a * np.exp(-b * x) + c\n"
     ]
    },
    {
     "data": {
      "image/png": "[encoded data removed]",
      "text/plain": [
       "<Figure size 432x288 with 1 Axes>"
      ]
     },
     "metadata": {
      "needs_background": "light"
     },
     "output_type": "display_data"
    },
    {
     "name": "stdout",
     "output_type": "stream",
     "text": [
      "7 [ 1.28063422e+02  1.33517195e-02 -2.54337997e+00] [ 1.28063422e+02  1.33517195e-02 -2.54337997e+00]\n",
      "8\n"
     ]
    },
    {
     "data": {
      "image/png": "[encoded data removed]",
      "text/plain": [
       "<Figure size 432x288 with 1 Axes>"
      ]
     },
     "metadata": {
      "needs_background": "light"
     },
     "output_type": "display_data"
    },
    {
     "name": "stderr",
     "output_type": "stream",
     "text": [
      "<ipython-input-19-0dc35ba314ad>:2: RuntimeWarning: overflow encountered in exp\n",
      "  return a * np.exp(-b * x) + c\n"
     ]
    },
    {
     "data": {
      "image/png": "[encoded data removed]",
      "text/plain": [
       "<Figure size 432x288 with 1 Axes>"
      ]
     },
     "metadata": {
      "needs_background": "light"
     },
     "output_type": "display_data"
    },
    {
     "name": "stdout",
     "output_type": "stream",
     "text": [
      "8 [2.18037603e+02 1.87394475e-02 1.84295357e+01] [ 1.70481453e+02  1.11798440e-02 -2.89013054e+01]\n",
      "9\n"
     ]
    },
    {
     "data": {
      "image/png": "[encoded data removed]",
      "text/plain": [
       "<Figure size 432x288 with 1 Axes>"
      ]
     },
     "metadata": {
      "needs_background": "light"
     },
     "output_type": "display_data"
    },
    {
     "name": "stderr",
     "output_type": "stream",
     "text": [
      "<ipython-input-19-0dc35ba314ad>:2: RuntimeWarning: overflow encountered in exp\n",
      "  return a * np.exp(-b * x) + c\n"
     ]
    },
    {
     "data": {
      "image/png": "[encoded data removed]",
      "text/plain": [
       "<Figure size 432x288 with 1 Axes>"
      ]
     },
     "metadata": {
      "needs_background": "light"
     },
     "output_type": "display_data"
    },
    {
     "name": "stdout",
     "output_type": "stream",
     "text": [
      "9 [2.19609045e+02 2.43952634e-02 3.27166392e+01] [ 2.89880153e+02  7.04266880e-03 -1.43209136e+02]\n",
      "10\n"
     ]
    },
    {
     "data": {
      "image/png": "[encoded data removed]",
      "text/plain": [
       "<Figure size 432x288 with 1 Axes>"
      ]
     },
     "metadata": {
      "needs_background": "light"
     },
     "output_type": "display_data"
    },
    {
     "name": "stderr",
     "output_type": "stream",
     "text": [
      "<ipython-input-19-0dc35ba314ad>:2: RuntimeWarning: overflow encountered in exp\n",
      "  return a * np.exp(-b * x) + c\n"
     ]
    },
    {
     "data": {
      "image/png": "[encoded data removed]",
      "text/plain": [
       "<Figure size 432x288 with 1 Axes>"
      ]
     },
     "metadata": {
      "needs_background": "light"
     },
     "output_type": "display_data"
    },
    {
     "name": "stdout",
     "output_type": "stream",
     "text": [
      "10 [1.88612457e+02 1.73945190e-02 3.17289741e+00] [1.28095527e+02 1.74383747e-02 4.21232451e+00]\n",
      "11\n"
     ]
    },
    {
     "data": {
      "image/png": "[encoded data removed]",
      "text/plain": [
       "<Figure size 432x288 with 1 Axes>"
      ]
     },
     "metadata": {
      "needs_background": "light"
     },
     "output_type": "display_data"
    },
    {
     "name": "stderr",
     "output_type": "stream",
     "text": [
      "<ipython-input-19-0dc35ba314ad>:2: RuntimeWarning: overflow encountered in exp\n",
      "  return a * np.exp(-b * x) + c\n"
     ]
    },
    {
     "data": {
      "image/png": "[encoded data removed]",
      "text/plain": [
       "<Figure size 432x288 with 1 Axes>"
      ]
     },
     "metadata": {
      "needs_background": "light"
     },
     "output_type": "display_data"
    },
    {
     "name": "stdout",
     "output_type": "stream",
     "text": [
      "11 [ 2.99723731e+02  1.32479856e-02 -2.53024941e+01] [ 1.43092627e+02  1.48153008e-02 -7.57663108e+00]\n",
      "12\n"
     ]
    },
    {
     "data": {
      "image/png": "[encoded data removed]",
      "text/plain": [
       "<Figure size 432x288 with 1 Axes>"
      ]
     },
     "metadata": {
      "needs_background": "light"
     },
     "output_type": "display_data"
    },
    {
     "name": "stderr",
     "output_type": "stream",
     "text": [
      "<ipython-input-19-0dc35ba314ad>:2: RuntimeWarning: overflow encountered in exp\n",
      "  return a * np.exp(-b * x) + c\n"
     ]
    },
    {
     "data": {
      "image/png": "[encoded data removed]",
      "text/plain": [
       "<Figure size 432x288 with 1 Axes>"
      ]
     },
     "metadata": {
      "needs_background": "light"
     },
     "output_type": "display_data"
    },
    {
     "name": "stdout",
     "output_type": "stream",
     "text": [
      "12 [ 2.74987929e+02  1.29364335e-02 -4.22862779e+01] [1.19508456e+02 2.26300280e-02 1.66339000e+01]\n",
      "13\n"
     ]
    },
    {
     "data": {
      "image/png": "[encoded data removed]",
      "text/plain": [
       "<Figure size 432x288 with 1 Axes>"
      ]
     },
     "metadata": {
      "needs_background": "light"
     },
     "output_type": "display_data"
    },
    {
     "name": "stderr",
     "output_type": "stream",
     "text": [
      "<ipython-input-19-0dc35ba314ad>:2: RuntimeWarning: overflow encountered in exp\n",
      "  return a * np.exp(-b * x) + c\n",
      "<ipython-input-19-0dc35ba314ad>:2: RuntimeWarning: overflow encountered in multiply\n",
      "  return a * np.exp(-b * x) + c\n"
     ]
    },
    {
     "data": {
      "image/png": "[encoded data removed]",
      "text/plain": [
       "<Figure size 432x288 with 1 Axes>"
      ]
     },
     "metadata": {
      "needs_background": "light"
     },
     "output_type": "display_data"
    },
    {
     "name": "stdout",
     "output_type": "stream",
     "text": [
      "13 [1.91888105e+02 1.80845935e-02 5.93097304e+00] [1.25111977e+02 1.78529640e-02 5.82966329e+00]\n",
      "14\n"
     ]
    },
    {
     "data": {
      "image/png": "[encoded data removed]",
      "text/plain": [
       "<Figure size 432x288 with 1 Axes>"
      ]
     },
     "metadata": {
      "needs_background": "light"
     },
     "output_type": "display_data"
    },
    {
     "name": "stderr",
     "output_type": "stream",
     "text": [
      "<ipython-input-19-0dc35ba314ad>:2: RuntimeWarning: overflow encountered in exp\n",
      "  return a * np.exp(-b * x) + c\n"
     ]
    },
    {
     "data": {
      "image/png": "[encoded data removed]",
      "text/plain": [
       "<Figure size 432x288 with 1 Axes>"
      ]
     },
     "metadata": {
      "needs_background": "light"
     },
     "output_type": "display_data"
    },
    {
     "name": "stdout",
     "output_type": "stream",
     "text": [
      "14 [2.33164027e+02 1.79767915e-02 1.44682784e+01] [1.42664355e+02 1.48278758e-02 4.50063374e+00]\n"
     ]
    }
   ],
   "source": [
    "count = 0\n",
    "a = []\n",
    "b = []\n",
    "c = []\n",
    "a1 = []\n",
    "b1 = []\n",
    "c1 = []\n",
    "\n",
    "for i in [exp1_pm10_posC, exp2_pm10_posC, exp3_pm10_posC, exp4_pm10_posC, exp5_pm10_posC, exp6_pm10_posC, exp7_pm10_posC, exp8_pm10_posC, exp9_pm10_posC, exp10_pm10_posC, exp11_pm10_posC, exp12_pm10_posC, exp13_pm10_posC, exp14_pm10_posC]:\n",
    "    count += 1\n",
    "    try: \n",
    "        print(count)\n",
    "        if count == 3:\n",
    "            r = produce_best_fit(i[5::], func)[0]\n",
    "            r2 = produce_best_fit(i[5::][i.value], func)[0]\n",
    "        else:\n",
    "            r = produce_best_fit(i[0::], func)[0]\n",
    "            r2 = produce_best_fit(i[i.value<=140], func)[0]\n",
    "    except:\n",
    "        r = [1, 1, 1]\n",
    "        r2 = [1, 1, 1]\n",
    "    print(count, r, r2)\n",
    "\n",
    "    a.append(r[0])\n",
    "    b.append(r[1])\n",
    "    c.append(r[2])\n",
    "    a1.append(r2[0])\n",
    "    b1.append(r2[1])\n",
    "    c1.append(r2[2])\n"
   ]
  },
  {
   "cell_type": "code",
   "execution_count": 24,
   "metadata": {},
   "outputs": [],
   "source": [
    "aaa = pd.DataFrame([a, b, c, a1, b1, c1])\n",
    "# aaa.transpose().to_csv(\"posCpm10.csv\")"
   ]
  },
  {
   "attachments": {},
   "cell_type": "markdown",
   "metadata": {},
   "source": [
    "### Exponential Smoothing"
   ]
  },
  {
   "cell_type": "code",
   "execution_count": 25,
   "metadata": {},
   "outputs": [],
   "source": [
    "dataset = exp10_pm10_posA\n",
    "\n",
    "data = dataset.set_index('created_at')\n",
    "data = data.resample('0.5T').mean()\n",
    "data['time_col'] = data.index\n",
    "data['time_col'] = data.time_col.dt.tz_localize(None)"
   ]
  },
  {
   "cell_type": "code",
   "execution_count": 26,
   "metadata": {},
   "outputs": [],
   "source": [
    "import pandas as pd\n",
    "from darts import TimeSeries\n",
    "series = TimeSeries.from_dataframe(data, 'time_col', 'value')\n",
    "train, val = series.split_after(pd.Timestamp('202212210200'))"
   ]
  },
  {
   "cell_type": "code",
   "execution_count": 27,
   "metadata": {},
   "outputs": [
    {
     "name": "stderr",
     "output_type": "stream",
     "text": [
      "/Library/Frameworks/Python.framework/Versions/3.8/lib/python3.8/site-packages/torchvision/io/image.py:11: UserWarning: Failed to load image Python extension: dlopen(/Library/Frameworks/Python.framework/Versions/3.8/lib/python3.8/site-packages/torchvision/image.so, 0x0006): Symbol not found: __ZN2at4_ops19empty_memory_format4callEN3c108ArrayRefIxEENS2_8optionalINS2_10ScalarTypeEEENS5_INS2_6LayoutEEENS5_INS2_6DeviceEEENS5_IbEENS5_INS2_12MemoryFormatEEE\n",
      "  Referenced from: <FF5B8A6C-2049-373D-A954-842586418E83> /Library/Frameworks/Python.framework/Versions/3.8/lib/python3.8/site-packages/torchvision/image.so\n",
      "  Expected in:     <FBA9DC2F-7120-37E5-BFE5-DEE36ED4EAF1> /Library/Frameworks/Python.framework/Versions/3.8/lib/python3.8/site-packages/torch/lib/libtorch_cpu.dylib\n",
      "  warn(f\"Failed to load image Python extension: {e}\")\n"
     ]
    }
   ],
   "source": [
    "from darts.models import ExponentialSmoothing\n",
    "from darts.utils.utils import SeasonalityMode\n",
    "model1 = ExponentialSmoothing(seasonal= SeasonalityMode.NONE)\n",
    "model1.fit(train)\n",
    "prediction1 = model1.predict(len(val), num_samples=50)"
   ]
  },
  {
   "cell_type": "code",
   "execution_count": 28,
   "metadata": {},
   "outputs": [
    {
     "data": {
      "text/plain": [
       "<matplotlib.legend.Legend at 0x7fca049a85e0>"
      ]
     },
     "execution_count": 28,
     "metadata": {},
     "output_type": "execute_result"
    },
    {
     "data": {
      "image/png": "[encoded data removed]",
      "text/plain": [
       "<Figure size 864x576 with 1 Axes>"
      ]
     },
     "metadata": {
      "needs_background": "light"
     },
     "output_type": "display_data"
    }
   ],
   "source": [
    "plt.figure(figsize=(12, 8))\n",
    "series.plot()\n",
    "prediction1.plot(label='forecast', low_quantile=0.05, high_quantile=0.95)\n",
    "plt.legend()"
   ]
  },
  {
   "attachments": {},
   "cell_type": "markdown",
   "metadata": {},
   "source": [
    "### Linear Regression"
   ]
  },
  {
   "cell_type": "code",
   "execution_count": 29,
   "metadata": {},
   "outputs": [],
   "source": [
    "from darts.models import LinearRegressionModel\n",
    "model2 = LinearRegressionModel(lags=4)\n",
    "model2.fit(train)\n",
    "prediction2 = model2.predict(len(val), num_samples=1)"
   ]
  },
  {
   "cell_type": "code",
   "execution_count": 30,
   "metadata": {},
   "outputs": [
    {
     "data": {
      "text/plain": [
       "<matplotlib.legend.Legend at 0x7fca04ae2910>"
      ]
     },
     "execution_count": 30,
     "metadata": {},
     "output_type": "execute_result"
    },
    {
     "data": {
      "image/png": "[encoded data removed]",
      "text/plain": [
       "<Figure size 864x576 with 1 Axes>"
      ]
     },
     "metadata": {
      "needs_background": "light"
     },
     "output_type": "display_data"
    }
   ],
   "source": [
    "plt.figure(figsize=(12, 8))\n",
    "series.plot()\n",
    "prediction2.plot(label='forecast', low_quantile=0.05, high_quantile=0.95)\n",
    "plt.legend()"
   ]
  },
  {
   "attachments": {},
   "cell_type": "markdown",
   "metadata": {},
   "source": [
    "## model for fitted results & configuration"
   ]
  },
  {
   "attachments": {},
   "cell_type": "markdown",
   "metadata": {},
   "source": [
    "ok, so our four parameters:\n",
    "\n",
    "1. distance from sensor to air filter\n",
    "2. distance from aircon to air filter\n",
    "3. aircon on/off\n",
    "4. sensor elevated/grounded\n",
    "\n",
    "**so maybe we do a multivariate regression?**"
   ]
  },
  {
   "attachments": {},
   "cell_type": "markdown",
   "metadata": {},
   "source": [
    "MLR: $$y=β_0 + β_1x_1 + β_2x_2 + ... + β_Kx_K + u$$\n",
    "\n",
    "total number of explanatory variables: $$K: k = 1, ..., K$$\n",
    "\n",
    "value of explanatory varible k for observation i: $$x_{i,k}$$\n",
    "\n",
    "effect on y of a 1-unit increase in x_k, all else constant: $$β_k$$\n",
    "\n",
    "\"error\" term that embeds all unobserved factors affecting y: $$u$$"
   ]
  },
  {
   "cell_type": "code",
   "execution_count": 31,
   "metadata": {},
   "outputs": [],
   "source": [
    "import pandas as pd\n",
    "import numpy as np\n",
    "from sklearn import linear_model"
   ]
  },
  {
   "attachments": {},
   "cell_type": "markdown",
   "metadata": {},
   "source": [
    "### pm25 model"
   ]
  },
  {
   "cell_type": "code",
   "execution_count": 207,
   "metadata": {},
   "outputs": [],
   "source": [
    "df = pd.read_csv('curves/posApm10.csv')\n",
    "posApm10 = df.drop(['Unnamed: 0'], axis=1)\n",
    "store = []\n",
    "\n",
    "\n",
    "for i in ['posApm10','posApm25','posBpm10','posBpm25','posCpm10','posCpm25']:\n",
    "    df = pd.read_csv(f'curves/{i}.csv')\n",
    "    store.append(df.drop(['Unnamed: 0'], axis=1))\n",
    "    \n",
    "\n"
   ]
  },
  {
   "cell_type": "code",
   "execution_count": 208,
   "metadata": {},
   "outputs": [],
   "source": [
    "store[0].loc[::, ['af_distance_to_aircon','A_af','B_af','C_af','af_elevated','aircon_on']]\n",
    "\n",
    "store[1]+ store[0].loc[::, ['af_distance_to_aircon','A_af','B_af','C_af','af_elevated','aircon_on']]\n",
    "posApm25 = pd.concat([store[1], store[0].loc[::, ['af_distance_to_aircon','A_af','B_af','C_af','af_elevated','aircon_on']]], join='outer', axis=1)\n",
    "posBpm10 = pd.concat([store[2], store[0].loc[::, ['af_distance_to_aircon','A_af','B_af','C_af','af_elevated','aircon_on']]], join='outer', axis=1)\n",
    "posBpm25 = pd.concat([store[3], store[0].loc[::, ['af_distance_to_aircon','A_af','B_af','C_af','af_elevated','aircon_on']]], join='outer', axis=1)\n",
    "posCpm10 = pd.concat([store[4], store[0].loc[::, ['af_distance_to_aircon','A_af','B_af','C_af','af_elevated','aircon_on']]], join='outer', axis=1)\n",
    "posCpm25 = pd.concat([store[5], store[0].loc[::, ['af_distance_to_aircon','A_af','B_af','C_af','af_elevated','aircon_on']]], join='outer', axis=1)\n",
    "\n"
   ]
  },
  {
   "cell_type": "code",
   "execution_count": 209,
   "metadata": {},
   "outputs": [],
   "source": [
    "posApm25 = posBpm25.drop(5, axis=0).drop(['0','1','2','3','5','B_af','C_af'], axis=1)\n",
    "posApm25 = posApm25.rename(columns={'A_af':'sensor_af'})\n",
    "posBpm25 = posBpm25.drop(5, axis=0).drop(['0','1','2','3','5','A_af','C_af'], axis=1)\n",
    "posBpm25 = posBpm25.rename(columns={'B_af':'sensor_af'})\n",
    "posCpm25 = posCpm25.iloc[0:3].drop(['0','1','2','3','5','A_af','B_af'], axis=1)\n",
    "posCpm25 = posCpm25.rename(columns={'C_af':'sensor_af'})"
   ]
  },
  {
   "cell_type": "code",
   "execution_count": 210,
   "metadata": {},
   "outputs": [
    {
     "data": {
      "text/html": [
       "<div>\n",
       "<style scoped>\n",
       "    .dataframe tbody tr th:only-of-type {\n",
       "        vertical-align: middle;\n",
       "    }\n",
       "\n",
       "    .dataframe tbody tr th {\n",
       "        vertical-align: top;\n",
       "    }\n",
       "\n",
       "    .dataframe thead th {\n",
       "        text-align: right;\n",
       "    }\n",
       "</style>\n",
       "<table border=\"1\" class=\"dataframe\">\n",
       "  <thead>\n",
       "    <tr style=\"text-align: right;\">\n",
       "      <th></th>\n",
       "      <th>4</th>\n",
       "      <th>af_distance_to_aircon</th>\n",
       "      <th>sensor_af</th>\n",
       "      <th>af_elevated</th>\n",
       "      <th>aircon_on</th>\n",
       "    </tr>\n",
       "  </thead>\n",
       "  <tbody>\n",
       "    <tr>\n",
       "      <th>0</th>\n",
       "      <td>0.010162</td>\n",
       "      <td>2.68</td>\n",
       "      <td>2.8960</td>\n",
       "      <td>0</td>\n",
       "      <td>0</td>\n",
       "    </tr>\n",
       "    <tr>\n",
       "      <th>1</th>\n",
       "      <td>0.010262</td>\n",
       "      <td>2.68</td>\n",
       "      <td>3.4230</td>\n",
       "      <td>0</td>\n",
       "      <td>0</td>\n",
       "    </tr>\n",
       "    <tr>\n",
       "      <th>2</th>\n",
       "      <td>0.016248</td>\n",
       "      <td>1.61</td>\n",
       "      <td>1.2400</td>\n",
       "      <td>0</td>\n",
       "      <td>0</td>\n",
       "    </tr>\n",
       "    <tr>\n",
       "      <th>3</th>\n",
       "      <td>0.018712</td>\n",
       "      <td>2.68</td>\n",
       "      <td>2.6840</td>\n",
       "      <td>0</td>\n",
       "      <td>0</td>\n",
       "    </tr>\n",
       "    <tr>\n",
       "      <th>4</th>\n",
       "      <td>0.011664</td>\n",
       "      <td>4.90</td>\n",
       "      <td>4.6740</td>\n",
       "      <td>0</td>\n",
       "      <td>0</td>\n",
       "    </tr>\n",
       "    <tr>\n",
       "      <th>6</th>\n",
       "      <td>0.013022</td>\n",
       "      <td>2.68</td>\n",
       "      <td>2.6840</td>\n",
       "      <td>0</td>\n",
       "      <td>1</td>\n",
       "    </tr>\n",
       "    <tr>\n",
       "      <th>7</th>\n",
       "      <td>0.018873</td>\n",
       "      <td>4.90</td>\n",
       "      <td>4.6740</td>\n",
       "      <td>0</td>\n",
       "      <td>1</td>\n",
       "    </tr>\n",
       "    <tr>\n",
       "      <th>8</th>\n",
       "      <td>0.021585</td>\n",
       "      <td>4.90</td>\n",
       "      <td>4.6740</td>\n",
       "      <td>1</td>\n",
       "      <td>1</td>\n",
       "    </tr>\n",
       "    <tr>\n",
       "      <th>9</th>\n",
       "      <td>0.020730</td>\n",
       "      <td>2.68</td>\n",
       "      <td>2.6840</td>\n",
       "      <td>1</td>\n",
       "      <td>1</td>\n",
       "    </tr>\n",
       "    <tr>\n",
       "      <th>10</th>\n",
       "      <td>0.021141</td>\n",
       "      <td>1.61</td>\n",
       "      <td>1.2400</td>\n",
       "      <td>1</td>\n",
       "      <td>1</td>\n",
       "    </tr>\n",
       "    <tr>\n",
       "      <th>11</th>\n",
       "      <td>0.022491</td>\n",
       "      <td>2.68</td>\n",
       "      <td>3.4230</td>\n",
       "      <td>0</td>\n",
       "      <td>1</td>\n",
       "    </tr>\n",
       "    <tr>\n",
       "      <th>12</th>\n",
       "      <td>0.022029</td>\n",
       "      <td>2.68</td>\n",
       "      <td>3.4230</td>\n",
       "      <td>1</td>\n",
       "      <td>1</td>\n",
       "    </tr>\n",
       "    <tr>\n",
       "      <th>13</th>\n",
       "      <td>0.017701</td>\n",
       "      <td>2.68</td>\n",
       "      <td>2.6840</td>\n",
       "      <td>0</td>\n",
       "      <td>1</td>\n",
       "    </tr>\n",
       "    <tr>\n",
       "      <th>0</th>\n",
       "      <td>0.010162</td>\n",
       "      <td>2.68</td>\n",
       "      <td>3.8020</td>\n",
       "      <td>0</td>\n",
       "      <td>0</td>\n",
       "    </tr>\n",
       "    <tr>\n",
       "      <th>1</th>\n",
       "      <td>0.010262</td>\n",
       "      <td>2.68</td>\n",
       "      <td>0.4243</td>\n",
       "      <td>0</td>\n",
       "      <td>0</td>\n",
       "    </tr>\n",
       "    <tr>\n",
       "      <th>2</th>\n",
       "      <td>0.016248</td>\n",
       "      <td>1.61</td>\n",
       "      <td>2.8270</td>\n",
       "      <td>0</td>\n",
       "      <td>0</td>\n",
       "    </tr>\n",
       "    <tr>\n",
       "      <th>3</th>\n",
       "      <td>0.018712</td>\n",
       "      <td>2.68</td>\n",
       "      <td>0.9487</td>\n",
       "      <td>0</td>\n",
       "      <td>0</td>\n",
       "    </tr>\n",
       "    <tr>\n",
       "      <th>4</th>\n",
       "      <td>0.011664</td>\n",
       "      <td>4.90</td>\n",
       "      <td>2.1200</td>\n",
       "      <td>0</td>\n",
       "      <td>0</td>\n",
       "    </tr>\n",
       "    <tr>\n",
       "      <th>6</th>\n",
       "      <td>0.013022</td>\n",
       "      <td>2.68</td>\n",
       "      <td>0.9487</td>\n",
       "      <td>0</td>\n",
       "      <td>1</td>\n",
       "    </tr>\n",
       "    <tr>\n",
       "      <th>7</th>\n",
       "      <td>0.018873</td>\n",
       "      <td>4.90</td>\n",
       "      <td>2.1200</td>\n",
       "      <td>0</td>\n",
       "      <td>1</td>\n",
       "    </tr>\n",
       "    <tr>\n",
       "      <th>8</th>\n",
       "      <td>0.021585</td>\n",
       "      <td>4.90</td>\n",
       "      <td>2.1200</td>\n",
       "      <td>1</td>\n",
       "      <td>1</td>\n",
       "    </tr>\n",
       "    <tr>\n",
       "      <th>9</th>\n",
       "      <td>0.020730</td>\n",
       "      <td>2.68</td>\n",
       "      <td>0.9487</td>\n",
       "      <td>1</td>\n",
       "      <td>1</td>\n",
       "    </tr>\n",
       "    <tr>\n",
       "      <th>10</th>\n",
       "      <td>0.021141</td>\n",
       "      <td>1.61</td>\n",
       "      <td>2.8270</td>\n",
       "      <td>1</td>\n",
       "      <td>1</td>\n",
       "    </tr>\n",
       "    <tr>\n",
       "      <th>11</th>\n",
       "      <td>0.022491</td>\n",
       "      <td>2.68</td>\n",
       "      <td>0.4243</td>\n",
       "      <td>0</td>\n",
       "      <td>1</td>\n",
       "    </tr>\n",
       "    <tr>\n",
       "      <th>12</th>\n",
       "      <td>0.022029</td>\n",
       "      <td>2.68</td>\n",
       "      <td>0.4243</td>\n",
       "      <td>1</td>\n",
       "      <td>1</td>\n",
       "    </tr>\n",
       "    <tr>\n",
       "      <th>13</th>\n",
       "      <td>0.017701</td>\n",
       "      <td>2.68</td>\n",
       "      <td>0.9487</td>\n",
       "      <td>0</td>\n",
       "      <td>1</td>\n",
       "    </tr>\n",
       "    <tr>\n",
       "      <th>0</th>\n",
       "      <td>0.010447</td>\n",
       "      <td>2.68</td>\n",
       "      <td>6.1320</td>\n",
       "      <td>0</td>\n",
       "      <td>0</td>\n",
       "    </tr>\n",
       "    <tr>\n",
       "      <th>1</th>\n",
       "      <td>0.005544</td>\n",
       "      <td>2.68</td>\n",
       "      <td>2.9330</td>\n",
       "      <td>0</td>\n",
       "      <td>0</td>\n",
       "    </tr>\n",
       "    <tr>\n",
       "      <th>2</th>\n",
       "      <td>0.017748</td>\n",
       "      <td>1.61</td>\n",
       "      <td>5.5950</td>\n",
       "      <td>0</td>\n",
       "      <td>0</td>\n",
       "    </tr>\n",
       "  </tbody>\n",
       "</table>\n",
       "</div>"
      ],
      "text/plain": [
       "           4  af_distance_to_aircon  sensor_af  af_elevated  aircon_on\n",
       "0   0.010162                   2.68     2.8960            0          0\n",
       "1   0.010262                   2.68     3.4230            0          0\n",
       "2   0.016248                   1.61     1.2400            0          0\n",
       "3   0.018712                   2.68     2.6840            0          0\n",
       "4   0.011664                   4.90     4.6740            0          0\n",
       "6   0.013022                   2.68     2.6840            0          1\n",
       "7   0.018873                   4.90     4.6740            0          1\n",
       "8   0.021585                   4.90     4.6740            1          1\n",
       "9   0.020730                   2.68     2.6840            1          1\n",
       "10  0.021141                   1.61     1.2400            1          1\n",
       "11  0.022491                   2.68     3.4230            0          1\n",
       "12  0.022029                   2.68     3.4230            1          1\n",
       "13  0.017701                   2.68     2.6840            0          1\n",
       "0   0.010162                   2.68     3.8020            0          0\n",
       "1   0.010262                   2.68     0.4243            0          0\n",
       "2   0.016248                   1.61     2.8270            0          0\n",
       "3   0.018712                   2.68     0.9487            0          0\n",
       "4   0.011664                   4.90     2.1200            0          0\n",
       "6   0.013022                   2.68     0.9487            0          1\n",
       "7   0.018873                   4.90     2.1200            0          1\n",
       "8   0.021585                   4.90     2.1200            1          1\n",
       "9   0.020730                   2.68     0.9487            1          1\n",
       "10  0.021141                   1.61     2.8270            1          1\n",
       "11  0.022491                   2.68     0.4243            0          1\n",
       "12  0.022029                   2.68     0.4243            1          1\n",
       "13  0.017701                   2.68     0.9487            0          1\n",
       "0   0.010447                   2.68     6.1320            0          0\n",
       "1   0.005544                   2.68     2.9330            0          0\n",
       "2   0.017748                   1.61     5.5950            0          0"
      ]
     },
     "execution_count": 210,
     "metadata": {},
     "output_type": "execute_result"
    }
   ],
   "source": [
    "rs25 = pd.concat([posApm25, posBpm25, posCpm25])\n",
    "rs25"
   ]
  },
  {
   "cell_type": "code",
   "execution_count": 211,
   "metadata": {},
   "outputs": [
    {
     "data": {
      "text/html": [
       "<style>#sk-container-id-8 {color: black;background-color: white;}#sk-container-id-8 pre{padding: 0;}#sk-container-id-8 div.sk-toggleable {background-color: white;}#sk-container-id-8 label.sk-toggleable__label {cursor: pointer;display: block;width: 100%;margin-bottom: 0;padding: 0.3em;box-sizing: border-box;text-align: center;}#sk-container-id-8 label.sk-toggleable__label-arrow:before {content: \"▸\";float: left;margin-right: 0.25em;color: #696969;}#sk-container-id-8 label.sk-toggleable__label-arrow:hover:before {color: black;}#sk-container-id-8 div.sk-estimator:hover label.sk-toggleable__label-arrow:before {color: black;}#sk-container-id-8 div.sk-toggleable__content {max-height: 0;max-width: 0;overflow: hidden;text-align: left;background-color: #f0f8ff;}#sk-container-id-8 div.sk-toggleable__content pre {margin: 0.2em;color: black;border-radius: 0.25em;background-color: #f0f8ff;}#sk-container-id-8 input.sk-toggleable__control:checked~div.sk-toggleable__content {max-height: 200px;max-width: 100%;overflow: auto;}#sk-container-id-8 input.sk-toggleable__control:checked~label.sk-toggleable__label-arrow:before {content: \"▾\";}#sk-container-id-8 div.sk-estimator input.sk-toggleable__control:checked~label.sk-toggleable__label {background-color: #d4ebff;}#sk-container-id-8 div.sk-label input.sk-toggleable__control:checked~label.sk-toggleable__label {background-color: #d4ebff;}#sk-container-id-8 input.sk-hidden--visually {border: 0;clip: rect(1px 1px 1px 1px);clip: rect(1px, 1px, 1px, 1px);height: 1px;margin: -1px;overflow: hidden;padding: 0;position: absolute;width: 1px;}#sk-container-id-8 div.sk-estimator {font-family: monospace;background-color: #f0f8ff;border: 1px dotted black;border-radius: 0.25em;box-sizing: border-box;margin-bottom: 0.5em;}#sk-container-id-8 div.sk-estimator:hover {background-color: #d4ebff;}#sk-container-id-8 div.sk-parallel-item::after {content: \"\";width: 100%;border-bottom: 1px solid gray;flex-grow: 1;}#sk-container-id-8 div.sk-label:hover label.sk-toggleable__label {background-color: #d4ebff;}#sk-container-id-8 div.sk-serial::before {content: \"\";position: absolute;border-left: 1px solid gray;box-sizing: border-box;top: 0;bottom: 0;left: 50%;z-index: 0;}#sk-container-id-8 div.sk-serial {display: flex;flex-direction: column;align-items: center;background-color: white;padding-right: 0.2em;padding-left: 0.2em;position: relative;}#sk-container-id-8 div.sk-item {position: relative;z-index: 1;}#sk-container-id-8 div.sk-parallel {display: flex;align-items: stretch;justify-content: center;background-color: white;position: relative;}#sk-container-id-8 div.sk-item::before, #sk-container-id-8 div.sk-parallel-item::before {content: \"\";position: absolute;border-left: 1px solid gray;box-sizing: border-box;top: 0;bottom: 0;left: 50%;z-index: -1;}#sk-container-id-8 div.sk-parallel-item {display: flex;flex-direction: column;z-index: 1;position: relative;background-color: white;}#sk-container-id-8 div.sk-parallel-item:first-child::after {align-self: flex-end;width: 50%;}#sk-container-id-8 div.sk-parallel-item:last-child::after {align-self: flex-start;width: 50%;}#sk-container-id-8 div.sk-parallel-item:only-child::after {width: 0;}#sk-container-id-8 div.sk-dashed-wrapped {border: 1px dashed gray;margin: 0 0.4em 0.5em 0.4em;box-sizing: border-box;padding-bottom: 0.4em;background-color: white;}#sk-container-id-8 div.sk-label label {font-family: monospace;font-weight: bold;display: inline-block;line-height: 1.2em;}#sk-container-id-8 div.sk-label-container {text-align: center;}#sk-container-id-8 div.sk-container {/* jupyter's `normalize.less` sets `[hidden] { display: none; }` but bootstrap.min.css set `[hidden] { display: none !important; }` so we also need the `!important` here to be able to override the default hidden behavior on the sphinx rendered scikit-learn.org. See: https://github.com/scikit-learn/scikit-learn/issues/21755 */display: inline-block !important;position: relative;}#sk-container-id-8 div.sk-text-repr-fallback {display: none;}</style><div id=\"sk-container-id-8\" class=\"sk-top-container\"><div class=\"sk-text-repr-fallback\"><pre>LinearRegression()</pre><b>In a Jupyter environment, please rerun this cell to show the HTML representation or trust the notebook. <br />On GitHub, the HTML representation is unable to render, please try loading this page with nbviewer.org.</b></div><div class=\"sk-container\" hidden><div class=\"sk-item\"><div class=\"sk-estimator sk-toggleable\"><input class=\"sk-toggleable__control sk-hidden--visually\" id=\"sk-estimator-id-8\" type=\"checkbox\" checked><label for=\"sk-estimator-id-8\" class=\"sk-toggleable__label sk-toggleable__label-arrow\">LinearRegression</label><div class=\"sk-toggleable__content\"><pre>LinearRegression()</pre></div></div></div></div></div>"
      ],
      "text/plain": [
       "LinearRegression()"
      ]
     },
     "execution_count": 211,
     "metadata": {},
     "output_type": "execute_result"
    }
   ],
   "source": [
    "reg25 = linear_model.LinearRegression()\n",
    "reg25.fit(rs25.drop('4',axis=1),rs25['4'])"
   ]
  },
  {
   "cell_type": "code",
   "execution_count": 212,
   "metadata": {},
   "outputs": [
    {
     "name": "stdout",
     "output_type": "stream",
     "text": [
      "[0.02065564]\n",
      "[0.02155013]\n"
     ]
    },
    {
     "name": "stderr",
     "output_type": "stream",
     "text": [
      "/Library/Frameworks/Python.framework/Versions/3.8/lib/python3.8/site-packages/sklearn/base.py:450: UserWarning: X does not have valid feature names, but LinearRegression was fitted with feature names\n",
      "  warnings.warn(\n",
      "/Library/Frameworks/Python.framework/Versions/3.8/lib/python3.8/site-packages/sklearn/base.py:450: UserWarning: X does not have valid feature names, but LinearRegression was fitted with feature names\n",
      "  warnings.warn(\n"
     ]
    }
   ],
   "source": [
    "print(reg25.predict([[4.90,2.1200,1,1]]))\n",
    "print(reg25.predict([[2.68,0.9487,1,1]]))"
   ]
  },
  {
   "cell_type": "code",
   "execution_count": 213,
   "metadata": {},
   "outputs": [
    {
     "name": "stdout",
     "output_type": "stream",
     "text": [
      "[0.02052035]\n",
      "[0.02193592]\n",
      "[0.01820647]\n"
     ]
    },
    {
     "name": "stderr",
     "output_type": "stream",
     "text": [
      "/Library/Frameworks/Python.framework/Versions/3.8/lib/python3.8/site-packages/sklearn/base.py:450: UserWarning: X does not have valid feature names, but LinearRegression was fitted with feature names\n",
      "  warnings.warn(\n",
      "/Library/Frameworks/Python.framework/Versions/3.8/lib/python3.8/site-packages/sklearn/base.py:450: UserWarning: X does not have valid feature names, but LinearRegression was fitted with feature names\n",
      "  warnings.warn(\n",
      "/Library/Frameworks/Python.framework/Versions/3.8/lib/python3.8/site-packages/sklearn/base.py:450: UserWarning: X does not have valid feature names, but LinearRegression was fitted with feature names\n",
      "  warnings.warn(\n"
     ]
    }
   ],
   "source": [
    "print(reg25.predict([[4.900000, 4.674000, 1, 1]]))\n",
    "print(reg25.predict([[1.610000, 1.24, 1, 1]]))\n",
    "print(reg25.predict([[2.680000, 2.684000, 0, 1]]))"
   ]
  },
  {
   "cell_type": "code",
   "execution_count": 214,
   "metadata": {},
   "outputs": [
    {
     "data": {
      "text/plain": [
       "array([-3.74976187e-04, -5.29700735e-05,  3.25173544e-03,  5.24102421e-03])"
      ]
     },
     "execution_count": 214,
     "metadata": {},
     "output_type": "execute_result"
    }
   ],
   "source": [
    "reg25.coef_"
   ]
  },
  {
   "cell_type": "code",
   "execution_count": 215,
   "metadata": {},
   "outputs": [
    {
     "data": {
      "text/plain": [
       "0.014112558576166077"
      ]
     },
     "execution_count": 215,
     "metadata": {},
     "output_type": "execute_result"
    }
   ],
   "source": [
    "reg25.intercept_"
   ]
  },
  {
   "cell_type": "code",
   "execution_count": 220,
   "metadata": {},
   "outputs": [
    {
     "data": {
      "text/html": [
       "<div>\n",
       "<style scoped>\n",
       "    .dataframe tbody tr th:only-of-type {\n",
       "        vertical-align: middle;\n",
       "    }\n",
       "\n",
       "    .dataframe tbody tr th {\n",
       "        vertical-align: top;\n",
       "    }\n",
       "\n",
       "    .dataframe thead th {\n",
       "        text-align: right;\n",
       "    }\n",
       "</style>\n",
       "<table border=\"1\" class=\"dataframe\">\n",
       "  <thead>\n",
       "    <tr style=\"text-align: right;\">\n",
       "      <th></th>\n",
       "      <th>4</th>\n",
       "      <th>af_distance_to_aircon</th>\n",
       "      <th>sensor_af</th>\n",
       "      <th>af_elevated</th>\n",
       "      <th>aircon_on</th>\n",
       "    </tr>\n",
       "  </thead>\n",
       "  <tbody>\n",
       "    <tr>\n",
       "      <th>0</th>\n",
       "      <td>0.010162</td>\n",
       "      <td>2.68</td>\n",
       "      <td>2.896</td>\n",
       "      <td>0</td>\n",
       "      <td>0</td>\n",
       "    </tr>\n",
       "    <tr>\n",
       "      <th>1</th>\n",
       "      <td>0.010262</td>\n",
       "      <td>2.68</td>\n",
       "      <td>3.423</td>\n",
       "      <td>0</td>\n",
       "      <td>0</td>\n",
       "    </tr>\n",
       "    <tr>\n",
       "      <th>2</th>\n",
       "      <td>0.016248</td>\n",
       "      <td>1.61</td>\n",
       "      <td>1.240</td>\n",
       "      <td>0</td>\n",
       "      <td>0</td>\n",
       "    </tr>\n",
       "    <tr>\n",
       "      <th>3</th>\n",
       "      <td>0.018712</td>\n",
       "      <td>2.68</td>\n",
       "      <td>2.684</td>\n",
       "      <td>0</td>\n",
       "      <td>0</td>\n",
       "    </tr>\n",
       "    <tr>\n",
       "      <th>4</th>\n",
       "      <td>0.011664</td>\n",
       "      <td>4.90</td>\n",
       "      <td>4.674</td>\n",
       "      <td>0</td>\n",
       "      <td>0</td>\n",
       "    </tr>\n",
       "    <tr>\n",
       "      <th>6</th>\n",
       "      <td>0.013022</td>\n",
       "      <td>2.68</td>\n",
       "      <td>2.684</td>\n",
       "      <td>0</td>\n",
       "      <td>1</td>\n",
       "    </tr>\n",
       "    <tr>\n",
       "      <th>7</th>\n",
       "      <td>0.018873</td>\n",
       "      <td>4.90</td>\n",
       "      <td>4.674</td>\n",
       "      <td>0</td>\n",
       "      <td>1</td>\n",
       "    </tr>\n",
       "    <tr>\n",
       "      <th>8</th>\n",
       "      <td>0.021585</td>\n",
       "      <td>4.90</td>\n",
       "      <td>4.674</td>\n",
       "      <td>1</td>\n",
       "      <td>1</td>\n",
       "    </tr>\n",
       "    <tr>\n",
       "      <th>9</th>\n",
       "      <td>0.020730</td>\n",
       "      <td>2.68</td>\n",
       "      <td>2.684</td>\n",
       "      <td>1</td>\n",
       "      <td>1</td>\n",
       "    </tr>\n",
       "    <tr>\n",
       "      <th>10</th>\n",
       "      <td>0.021141</td>\n",
       "      <td>1.61</td>\n",
       "      <td>1.240</td>\n",
       "      <td>1</td>\n",
       "      <td>1</td>\n",
       "    </tr>\n",
       "    <tr>\n",
       "      <th>11</th>\n",
       "      <td>0.022491</td>\n",
       "      <td>2.68</td>\n",
       "      <td>3.423</td>\n",
       "      <td>0</td>\n",
       "      <td>1</td>\n",
       "    </tr>\n",
       "    <tr>\n",
       "      <th>12</th>\n",
       "      <td>0.022029</td>\n",
       "      <td>2.68</td>\n",
       "      <td>3.423</td>\n",
       "      <td>1</td>\n",
       "      <td>1</td>\n",
       "    </tr>\n",
       "    <tr>\n",
       "      <th>13</th>\n",
       "      <td>0.017701</td>\n",
       "      <td>2.68</td>\n",
       "      <td>2.684</td>\n",
       "      <td>0</td>\n",
       "      <td>1</td>\n",
       "    </tr>\n",
       "  </tbody>\n",
       "</table>\n",
       "</div>"
      ],
      "text/plain": [
       "           4  af_distance_to_aircon  sensor_af  af_elevated  aircon_on\n",
       "0   0.010162                   2.68      2.896            0          0\n",
       "1   0.010262                   2.68      3.423            0          0\n",
       "2   0.016248                   1.61      1.240            0          0\n",
       "3   0.018712                   2.68      2.684            0          0\n",
       "4   0.011664                   4.90      4.674            0          0\n",
       "6   0.013022                   2.68      2.684            0          1\n",
       "7   0.018873                   4.90      4.674            0          1\n",
       "8   0.021585                   4.90      4.674            1          1\n",
       "9   0.020730                   2.68      2.684            1          1\n",
       "10  0.021141                   1.61      1.240            1          1\n",
       "11  0.022491                   2.68      3.423            0          1\n",
       "12  0.022029                   2.68      3.423            1          1\n",
       "13  0.017701                   2.68      2.684            0          1"
      ]
     },
     "execution_count": 220,
     "metadata": {},
     "output_type": "execute_result"
    }
   ],
   "source": [
    "posApm25"
   ]
  },
  {
   "attachments": {},
   "cell_type": "markdown",
   "metadata": {},
   "source": [
    "### pm10 model"
   ]
  },
  {
   "cell_type": "code",
   "execution_count": 195,
   "metadata": {},
   "outputs": [
    {
     "data": {
      "text/html": [
       "<div>\n",
       "<style scoped>\n",
       "    .dataframe tbody tr th:only-of-type {\n",
       "        vertical-align: middle;\n",
       "    }\n",
       "\n",
       "    .dataframe tbody tr th {\n",
       "        vertical-align: top;\n",
       "    }\n",
       "\n",
       "    .dataframe thead th {\n",
       "        text-align: right;\n",
       "    }\n",
       "</style>\n",
       "<table border=\"1\" class=\"dataframe\">\n",
       "  <thead>\n",
       "    <tr style=\"text-align: right;\">\n",
       "      <th></th>\n",
       "      <th>0</th>\n",
       "      <th>1</th>\n",
       "      <th>2</th>\n",
       "      <th>3</th>\n",
       "      <th>4</th>\n",
       "      <th>5</th>\n",
       "      <th>af_distance_to_aircon</th>\n",
       "      <th>A_af</th>\n",
       "      <th>B_af</th>\n",
       "      <th>C_af</th>\n",
       "      <th>af_elevated</th>\n",
       "      <th>aircon_on</th>\n",
       "    </tr>\n",
       "  </thead>\n",
       "  <tbody>\n",
       "    <tr>\n",
       "      <th>0</th>\n",
       "      <td>188.510589</td>\n",
       "      <td>0.025079</td>\n",
       "      <td>25.144634</td>\n",
       "      <td>88.771776</td>\n",
       "      <td>0.014878</td>\n",
       "      <td>7.618200</td>\n",
       "      <td>2.68</td>\n",
       "      <td>2.896</td>\n",
       "      <td>3.8020</td>\n",
       "      <td>6.132</td>\n",
       "      <td>0</td>\n",
       "      <td>0</td>\n",
       "    </tr>\n",
       "    <tr>\n",
       "      <th>1</th>\n",
       "      <td>240.083289</td>\n",
       "      <td>0.015297</td>\n",
       "      <td>10.524202</td>\n",
       "      <td>125.787620</td>\n",
       "      <td>0.008676</td>\n",
       "      <td>-30.881542</td>\n",
       "      <td>2.68</td>\n",
       "      <td>3.423</td>\n",
       "      <td>0.4243</td>\n",
       "      <td>2.933</td>\n",
       "      <td>0</td>\n",
       "      <td>0</td>\n",
       "    </tr>\n",
       "    <tr>\n",
       "      <th>2</th>\n",
       "      <td>200.245824</td>\n",
       "      <td>0.026002</td>\n",
       "      <td>23.644705</td>\n",
       "      <td>115.193501</td>\n",
       "      <td>0.022521</td>\n",
       "      <td>19.640844</td>\n",
       "      <td>1.61</td>\n",
       "      <td>1.240</td>\n",
       "      <td>2.8270</td>\n",
       "      <td>5.595</td>\n",
       "      <td>0</td>\n",
       "      <td>0</td>\n",
       "    </tr>\n",
       "    <tr>\n",
       "      <th>3</th>\n",
       "      <td>141.194440</td>\n",
       "      <td>0.016403</td>\n",
       "      <td>6.894456</td>\n",
       "      <td>96.903828</td>\n",
       "      <td>0.013571</td>\n",
       "      <td>-0.383336</td>\n",
       "      <td>2.68</td>\n",
       "      <td>2.684</td>\n",
       "      <td>0.9487</td>\n",
       "      <td>3.693</td>\n",
       "      <td>0</td>\n",
       "      <td>0</td>\n",
       "    </tr>\n",
       "    <tr>\n",
       "      <th>4</th>\n",
       "      <td>124.668985</td>\n",
       "      <td>0.015458</td>\n",
       "      <td>8.907060</td>\n",
       "      <td>91.818905</td>\n",
       "      <td>0.013289</td>\n",
       "      <td>1.578756</td>\n",
       "      <td>4.90</td>\n",
       "      <td>4.674</td>\n",
       "      <td>2.1200</td>\n",
       "      <td>2.717</td>\n",
       "      <td>0</td>\n",
       "      <td>0</td>\n",
       "    </tr>\n",
       "    <tr>\n",
       "      <th>5</th>\n",
       "      <td>-1.000000</td>\n",
       "      <td>-1.000000</td>\n",
       "      <td>-1.000000</td>\n",
       "      <td>-1.000000</td>\n",
       "      <td>-1.000000</td>\n",
       "      <td>-1.000000</td>\n",
       "      <td>1.61</td>\n",
       "      <td>1.240</td>\n",
       "      <td>2.8270</td>\n",
       "      <td>5.595</td>\n",
       "      <td>0</td>\n",
       "      <td>1</td>\n",
       "    </tr>\n",
       "    <tr>\n",
       "      <th>6</th>\n",
       "      <td>194.310474</td>\n",
       "      <td>0.021111</td>\n",
       "      <td>22.203045</td>\n",
       "      <td>84.704782</td>\n",
       "      <td>0.013648</td>\n",
       "      <td>-0.019226</td>\n",
       "      <td>2.68</td>\n",
       "      <td>2.684</td>\n",
       "      <td>0.9487</td>\n",
       "      <td>3.693</td>\n",
       "      <td>0</td>\n",
       "      <td>1</td>\n",
       "    </tr>\n",
       "    <tr>\n",
       "      <th>7</th>\n",
       "      <td>142.086196</td>\n",
       "      <td>0.019006</td>\n",
       "      <td>13.089177</td>\n",
       "      <td>85.055579</td>\n",
       "      <td>0.016814</td>\n",
       "      <td>8.457439</td>\n",
       "      <td>4.90</td>\n",
       "      <td>4.674</td>\n",
       "      <td>2.1200</td>\n",
       "      <td>2.717</td>\n",
       "      <td>0</td>\n",
       "      <td>1</td>\n",
       "    </tr>\n",
       "    <tr>\n",
       "      <th>8</th>\n",
       "      <td>147.804446</td>\n",
       "      <td>0.021180</td>\n",
       "      <td>16.668806</td>\n",
       "      <td>81.844108</td>\n",
       "      <td>0.018527</td>\n",
       "      <td>11.875493</td>\n",
       "      <td>4.90</td>\n",
       "      <td>4.674</td>\n",
       "      <td>2.1200</td>\n",
       "      <td>2.717</td>\n",
       "      <td>1</td>\n",
       "      <td>1</td>\n",
       "    </tr>\n",
       "    <tr>\n",
       "      <th>9</th>\n",
       "      <td>133.077794</td>\n",
       "      <td>0.020435</td>\n",
       "      <td>10.265151</td>\n",
       "      <td>86.082971</td>\n",
       "      <td>0.018029</td>\n",
       "      <td>5.814381</td>\n",
       "      <td>2.68</td>\n",
       "      <td>2.684</td>\n",
       "      <td>0.9487</td>\n",
       "      <td>3.693</td>\n",
       "      <td>1</td>\n",
       "      <td>1</td>\n",
       "    </tr>\n",
       "    <tr>\n",
       "      <th>10</th>\n",
       "      <td>179.725000</td>\n",
       "      <td>0.019817</td>\n",
       "      <td>9.826179</td>\n",
       "      <td>86.859380</td>\n",
       "      <td>0.018544</td>\n",
       "      <td>7.074048</td>\n",
       "      <td>1.61</td>\n",
       "      <td>1.240</td>\n",
       "      <td>2.8270</td>\n",
       "      <td>5.595</td>\n",
       "      <td>1</td>\n",
       "      <td>1</td>\n",
       "    </tr>\n",
       "    <tr>\n",
       "      <th>11</th>\n",
       "      <td>154.913619</td>\n",
       "      <td>0.020999</td>\n",
       "      <td>11.119385</td>\n",
       "      <td>80.901233</td>\n",
       "      <td>0.020550</td>\n",
       "      <td>10.508981</td>\n",
       "      <td>2.68</td>\n",
       "      <td>3.423</td>\n",
       "      <td>0.4243</td>\n",
       "      <td>2.933</td>\n",
       "      <td>0</td>\n",
       "      <td>1</td>\n",
       "    </tr>\n",
       "    <tr>\n",
       "      <th>12</th>\n",
       "      <td>131.851959</td>\n",
       "      <td>0.020529</td>\n",
       "      <td>9.654272</td>\n",
       "      <td>85.808360</td>\n",
       "      <td>0.020009</td>\n",
       "      <td>8.904285</td>\n",
       "      <td>2.68</td>\n",
       "      <td>3.423</td>\n",
       "      <td>0.4243</td>\n",
       "      <td>2.933</td>\n",
       "      <td>1</td>\n",
       "      <td>1</td>\n",
       "    </tr>\n",
       "    <tr>\n",
       "      <th>13</th>\n",
       "      <td>157.235389</td>\n",
       "      <td>0.018589</td>\n",
       "      <td>10.947413</td>\n",
       "      <td>87.197353</td>\n",
       "      <td>0.015795</td>\n",
       "      <td>5.860568</td>\n",
       "      <td>2.68</td>\n",
       "      <td>2.684</td>\n",
       "      <td>0.9487</td>\n",
       "      <td>3.693</td>\n",
       "      <td>0</td>\n",
       "      <td>1</td>\n",
       "    </tr>\n",
       "  </tbody>\n",
       "</table>\n",
       "</div>"
      ],
      "text/plain": [
       "             0         1          2           3         4          5  \\\n",
       "0   188.510589  0.025079  25.144634   88.771776  0.014878   7.618200   \n",
       "1   240.083289  0.015297  10.524202  125.787620  0.008676 -30.881542   \n",
       "2   200.245824  0.026002  23.644705  115.193501  0.022521  19.640844   \n",
       "3   141.194440  0.016403   6.894456   96.903828  0.013571  -0.383336   \n",
       "4   124.668985  0.015458   8.907060   91.818905  0.013289   1.578756   \n",
       "5    -1.000000 -1.000000  -1.000000   -1.000000 -1.000000  -1.000000   \n",
       "6   194.310474  0.021111  22.203045   84.704782  0.013648  -0.019226   \n",
       "7   142.086196  0.019006  13.089177   85.055579  0.016814   8.457439   \n",
       "8   147.804446  0.021180  16.668806   81.844108  0.018527  11.875493   \n",
       "9   133.077794  0.020435  10.265151   86.082971  0.018029   5.814381   \n",
       "10  179.725000  0.019817   9.826179   86.859380  0.018544   7.074048   \n",
       "11  154.913619  0.020999  11.119385   80.901233  0.020550  10.508981   \n",
       "12  131.851959  0.020529   9.654272   85.808360  0.020009   8.904285   \n",
       "13  157.235389  0.018589  10.947413   87.197353  0.015795   5.860568   \n",
       "\n",
       "    af_distance_to_aircon   A_af    B_af   C_af  af_elevated  aircon_on  \n",
       "0                    2.68  2.896  3.8020  6.132            0          0  \n",
       "1                    2.68  3.423  0.4243  2.933            0          0  \n",
       "2                    1.61  1.240  2.8270  5.595            0          0  \n",
       "3                    2.68  2.684  0.9487  3.693            0          0  \n",
       "4                    4.90  4.674  2.1200  2.717            0          0  \n",
       "5                    1.61  1.240  2.8270  5.595            0          1  \n",
       "6                    2.68  2.684  0.9487  3.693            0          1  \n",
       "7                    4.90  4.674  2.1200  2.717            0          1  \n",
       "8                    4.90  4.674  2.1200  2.717            1          1  \n",
       "9                    2.68  2.684  0.9487  3.693            1          1  \n",
       "10                   1.61  1.240  2.8270  5.595            1          1  \n",
       "11                   2.68  3.423  0.4243  2.933            0          1  \n",
       "12                   2.68  3.423  0.4243  2.933            1          1  \n",
       "13                   2.68  2.684  0.9487  3.693            0          1  "
      ]
     },
     "execution_count": 195,
     "metadata": {},
     "output_type": "execute_result"
    }
   ],
   "source": [
    "posApm10"
   ]
  },
  {
   "cell_type": "code",
   "execution_count": 217,
   "metadata": {},
   "outputs": [],
   "source": [
    "posApm10 = posBpm10.drop(5, axis=0).drop(['0','1','2','3','5','B_af','C_af'], axis=1)\n",
    "posApm10 = posApm10.rename(columns={'A_af':'sensor_af'})\n",
    "posBpm10 = posBpm10.drop(5, axis=0).drop(['0','1','2','3','5','A_af','C_af'], axis=1)\n",
    "posBpm10 = posBpm10.rename(columns={'B_af':'sensor_af'})\n",
    "posCpm10 = posCpm10.iloc[0:2].drop(['0','1','2','3','5','A_af','B_af'], axis=1)\n",
    "posCpm10 = posCpm10.rename(columns={'C_af':'sensor_af'})"
   ]
  },
  {
   "cell_type": "code",
   "execution_count": 218,
   "metadata": {},
   "outputs": [
    {
     "data": {
      "text/html": [
       "<div>\n",
       "<style scoped>\n",
       "    .dataframe tbody tr th:only-of-type {\n",
       "        vertical-align: middle;\n",
       "    }\n",
       "\n",
       "    .dataframe tbody tr th {\n",
       "        vertical-align: top;\n",
       "    }\n",
       "\n",
       "    .dataframe thead th {\n",
       "        text-align: right;\n",
       "    }\n",
       "</style>\n",
       "<table border=\"1\" class=\"dataframe\">\n",
       "  <thead>\n",
       "    <tr style=\"text-align: right;\">\n",
       "      <th></th>\n",
       "      <th>4</th>\n",
       "      <th>af_distance_to_aircon</th>\n",
       "      <th>sensor_af</th>\n",
       "      <th>af_elevated</th>\n",
       "      <th>aircon_on</th>\n",
       "    </tr>\n",
       "  </thead>\n",
       "  <tbody>\n",
       "    <tr>\n",
       "      <th>0</th>\n",
       "      <td>0.011265</td>\n",
       "      <td>2.68</td>\n",
       "      <td>2.8960</td>\n",
       "      <td>0</td>\n",
       "      <td>0</td>\n",
       "    </tr>\n",
       "    <tr>\n",
       "      <th>1</th>\n",
       "      <td>0.011580</td>\n",
       "      <td>2.68</td>\n",
       "      <td>3.4230</td>\n",
       "      <td>0</td>\n",
       "      <td>0</td>\n",
       "    </tr>\n",
       "    <tr>\n",
       "      <th>2</th>\n",
       "      <td>-1.000000</td>\n",
       "      <td>1.61</td>\n",
       "      <td>1.2400</td>\n",
       "      <td>0</td>\n",
       "      <td>0</td>\n",
       "    </tr>\n",
       "    <tr>\n",
       "      <th>3</th>\n",
       "      <td>0.017914</td>\n",
       "      <td>2.68</td>\n",
       "      <td>2.6840</td>\n",
       "      <td>0</td>\n",
       "      <td>0</td>\n",
       "    </tr>\n",
       "    <tr>\n",
       "      <th>4</th>\n",
       "      <td>0.014174</td>\n",
       "      <td>4.90</td>\n",
       "      <td>4.6740</td>\n",
       "      <td>0</td>\n",
       "      <td>0</td>\n",
       "    </tr>\n",
       "    <tr>\n",
       "      <th>6</th>\n",
       "      <td>0.014784</td>\n",
       "      <td>2.68</td>\n",
       "      <td>2.6840</td>\n",
       "      <td>0</td>\n",
       "      <td>1</td>\n",
       "    </tr>\n",
       "    <tr>\n",
       "      <th>7</th>\n",
       "      <td>0.017981</td>\n",
       "      <td>4.90</td>\n",
       "      <td>4.6740</td>\n",
       "      <td>0</td>\n",
       "      <td>1</td>\n",
       "    </tr>\n",
       "    <tr>\n",
       "      <th>8</th>\n",
       "      <td>0.021233</td>\n",
       "      <td>4.90</td>\n",
       "      <td>4.6740</td>\n",
       "      <td>1</td>\n",
       "      <td>1</td>\n",
       "    </tr>\n",
       "    <tr>\n",
       "      <th>9</th>\n",
       "      <td>0.021215</td>\n",
       "      <td>2.68</td>\n",
       "      <td>2.6840</td>\n",
       "      <td>1</td>\n",
       "      <td>1</td>\n",
       "    </tr>\n",
       "    <tr>\n",
       "      <th>10</th>\n",
       "      <td>0.018128</td>\n",
       "      <td>1.61</td>\n",
       "      <td>1.2400</td>\n",
       "      <td>1</td>\n",
       "      <td>1</td>\n",
       "    </tr>\n",
       "    <tr>\n",
       "      <th>11</th>\n",
       "      <td>0.021925</td>\n",
       "      <td>2.68</td>\n",
       "      <td>3.4230</td>\n",
       "      <td>0</td>\n",
       "      <td>1</td>\n",
       "    </tr>\n",
       "    <tr>\n",
       "      <th>12</th>\n",
       "      <td>0.020366</td>\n",
       "      <td>2.68</td>\n",
       "      <td>3.4230</td>\n",
       "      <td>1</td>\n",
       "      <td>1</td>\n",
       "    </tr>\n",
       "    <tr>\n",
       "      <th>13</th>\n",
       "      <td>0.017696</td>\n",
       "      <td>2.68</td>\n",
       "      <td>2.6840</td>\n",
       "      <td>0</td>\n",
       "      <td>1</td>\n",
       "    </tr>\n",
       "    <tr>\n",
       "      <th>0</th>\n",
       "      <td>0.011265</td>\n",
       "      <td>2.68</td>\n",
       "      <td>3.8020</td>\n",
       "      <td>0</td>\n",
       "      <td>0</td>\n",
       "    </tr>\n",
       "    <tr>\n",
       "      <th>1</th>\n",
       "      <td>0.011580</td>\n",
       "      <td>2.68</td>\n",
       "      <td>0.4243</td>\n",
       "      <td>0</td>\n",
       "      <td>0</td>\n",
       "    </tr>\n",
       "    <tr>\n",
       "      <th>2</th>\n",
       "      <td>-1.000000</td>\n",
       "      <td>1.61</td>\n",
       "      <td>2.8270</td>\n",
       "      <td>0</td>\n",
       "      <td>0</td>\n",
       "    </tr>\n",
       "    <tr>\n",
       "      <th>3</th>\n",
       "      <td>0.017914</td>\n",
       "      <td>2.68</td>\n",
       "      <td>0.9487</td>\n",
       "      <td>0</td>\n",
       "      <td>0</td>\n",
       "    </tr>\n",
       "    <tr>\n",
       "      <th>4</th>\n",
       "      <td>0.014174</td>\n",
       "      <td>4.90</td>\n",
       "      <td>2.1200</td>\n",
       "      <td>0</td>\n",
       "      <td>0</td>\n",
       "    </tr>\n",
       "    <tr>\n",
       "      <th>6</th>\n",
       "      <td>0.014784</td>\n",
       "      <td>2.68</td>\n",
       "      <td>0.9487</td>\n",
       "      <td>0</td>\n",
       "      <td>1</td>\n",
       "    </tr>\n",
       "    <tr>\n",
       "      <th>7</th>\n",
       "      <td>0.017981</td>\n",
       "      <td>4.90</td>\n",
       "      <td>2.1200</td>\n",
       "      <td>0</td>\n",
       "      <td>1</td>\n",
       "    </tr>\n",
       "    <tr>\n",
       "      <th>8</th>\n",
       "      <td>0.021233</td>\n",
       "      <td>4.90</td>\n",
       "      <td>2.1200</td>\n",
       "      <td>1</td>\n",
       "      <td>1</td>\n",
       "    </tr>\n",
       "    <tr>\n",
       "      <th>9</th>\n",
       "      <td>0.021215</td>\n",
       "      <td>2.68</td>\n",
       "      <td>0.9487</td>\n",
       "      <td>1</td>\n",
       "      <td>1</td>\n",
       "    </tr>\n",
       "    <tr>\n",
       "      <th>10</th>\n",
       "      <td>0.018128</td>\n",
       "      <td>1.61</td>\n",
       "      <td>2.8270</td>\n",
       "      <td>1</td>\n",
       "      <td>1</td>\n",
       "    </tr>\n",
       "    <tr>\n",
       "      <th>11</th>\n",
       "      <td>0.021925</td>\n",
       "      <td>2.68</td>\n",
       "      <td>0.4243</td>\n",
       "      <td>0</td>\n",
       "      <td>1</td>\n",
       "    </tr>\n",
       "    <tr>\n",
       "      <th>12</th>\n",
       "      <td>0.020366</td>\n",
       "      <td>2.68</td>\n",
       "      <td>0.4243</td>\n",
       "      <td>1</td>\n",
       "      <td>1</td>\n",
       "    </tr>\n",
       "    <tr>\n",
       "      <th>13</th>\n",
       "      <td>0.017696</td>\n",
       "      <td>2.68</td>\n",
       "      <td>0.9487</td>\n",
       "      <td>0</td>\n",
       "      <td>1</td>\n",
       "    </tr>\n",
       "    <tr>\n",
       "      <th>0</th>\n",
       "      <td>0.010343</td>\n",
       "      <td>2.68</td>\n",
       "      <td>6.1320</td>\n",
       "      <td>0</td>\n",
       "      <td>0</td>\n",
       "    </tr>\n",
       "    <tr>\n",
       "      <th>1</th>\n",
       "      <td>0.008107</td>\n",
       "      <td>2.68</td>\n",
       "      <td>2.9330</td>\n",
       "      <td>0</td>\n",
       "      <td>0</td>\n",
       "    </tr>\n",
       "  </tbody>\n",
       "</table>\n",
       "</div>"
      ],
      "text/plain": [
       "           4  af_distance_to_aircon  sensor_af  af_elevated  aircon_on\n",
       "0   0.011265                   2.68     2.8960            0          0\n",
       "1   0.011580                   2.68     3.4230            0          0\n",
       "2  -1.000000                   1.61     1.2400            0          0\n",
       "3   0.017914                   2.68     2.6840            0          0\n",
       "4   0.014174                   4.90     4.6740            0          0\n",
       "6   0.014784                   2.68     2.6840            0          1\n",
       "7   0.017981                   4.90     4.6740            0          1\n",
       "8   0.021233                   4.90     4.6740            1          1\n",
       "9   0.021215                   2.68     2.6840            1          1\n",
       "10  0.018128                   1.61     1.2400            1          1\n",
       "11  0.021925                   2.68     3.4230            0          1\n",
       "12  0.020366                   2.68     3.4230            1          1\n",
       "13  0.017696                   2.68     2.6840            0          1\n",
       "0   0.011265                   2.68     3.8020            0          0\n",
       "1   0.011580                   2.68     0.4243            0          0\n",
       "2  -1.000000                   1.61     2.8270            0          0\n",
       "3   0.017914                   2.68     0.9487            0          0\n",
       "4   0.014174                   4.90     2.1200            0          0\n",
       "6   0.014784                   2.68     0.9487            0          1\n",
       "7   0.017981                   4.90     2.1200            0          1\n",
       "8   0.021233                   4.90     2.1200            1          1\n",
       "9   0.021215                   2.68     0.9487            1          1\n",
       "10  0.018128                   1.61     2.8270            1          1\n",
       "11  0.021925                   2.68     0.4243            0          1\n",
       "12  0.020366                   2.68     0.4243            1          1\n",
       "13  0.017696                   2.68     0.9487            0          1\n",
       "0   0.010343                   2.68     6.1320            0          0\n",
       "1   0.008107                   2.68     2.9330            0          0"
      ]
     },
     "execution_count": 218,
     "metadata": {},
     "output_type": "execute_result"
    }
   ],
   "source": [
    "rs10 = pd.concat([posApm10, posBpm10, posCpm10])\n",
    "rs10"
   ]
  },
  {
   "cell_type": "code",
   "execution_count": 219,
   "metadata": {},
   "outputs": [
    {
     "data": {
      "text/html": [
       "<style>#sk-container-id-9 {color: black;background-color: white;}#sk-container-id-9 pre{padding: 0;}#sk-container-id-9 div.sk-toggleable {background-color: white;}#sk-container-id-9 label.sk-toggleable__label {cursor: pointer;display: block;width: 100%;margin-bottom: 0;padding: 0.3em;box-sizing: border-box;text-align: center;}#sk-container-id-9 label.sk-toggleable__label-arrow:before {content: \"▸\";float: left;margin-right: 0.25em;color: #696969;}#sk-container-id-9 label.sk-toggleable__label-arrow:hover:before {color: black;}#sk-container-id-9 div.sk-estimator:hover label.sk-toggleable__label-arrow:before {color: black;}#sk-container-id-9 div.sk-toggleable__content {max-height: 0;max-width: 0;overflow: hidden;text-align: left;background-color: #f0f8ff;}#sk-container-id-9 div.sk-toggleable__content pre {margin: 0.2em;color: black;border-radius: 0.25em;background-color: #f0f8ff;}#sk-container-id-9 input.sk-toggleable__control:checked~div.sk-toggleable__content {max-height: 200px;max-width: 100%;overflow: auto;}#sk-container-id-9 input.sk-toggleable__control:checked~label.sk-toggleable__label-arrow:before {content: \"▾\";}#sk-container-id-9 div.sk-estimator input.sk-toggleable__control:checked~label.sk-toggleable__label {background-color: #d4ebff;}#sk-container-id-9 div.sk-label input.sk-toggleable__control:checked~label.sk-toggleable__label {background-color: #d4ebff;}#sk-container-id-9 input.sk-hidden--visually {border: 0;clip: rect(1px 1px 1px 1px);clip: rect(1px, 1px, 1px, 1px);height: 1px;margin: -1px;overflow: hidden;padding: 0;position: absolute;width: 1px;}#sk-container-id-9 div.sk-estimator {font-family: monospace;background-color: #f0f8ff;border: 1px dotted black;border-radius: 0.25em;box-sizing: border-box;margin-bottom: 0.5em;}#sk-container-id-9 div.sk-estimator:hover {background-color: #d4ebff;}#sk-container-id-9 div.sk-parallel-item::after {content: \"\";width: 100%;border-bottom: 1px solid gray;flex-grow: 1;}#sk-container-id-9 div.sk-label:hover label.sk-toggleable__label {background-color: #d4ebff;}#sk-container-id-9 div.sk-serial::before {content: \"\";position: absolute;border-left: 1px solid gray;box-sizing: border-box;top: 0;bottom: 0;left: 50%;z-index: 0;}#sk-container-id-9 div.sk-serial {display: flex;flex-direction: column;align-items: center;background-color: white;padding-right: 0.2em;padding-left: 0.2em;position: relative;}#sk-container-id-9 div.sk-item {position: relative;z-index: 1;}#sk-container-id-9 div.sk-parallel {display: flex;align-items: stretch;justify-content: center;background-color: white;position: relative;}#sk-container-id-9 div.sk-item::before, #sk-container-id-9 div.sk-parallel-item::before {content: \"\";position: absolute;border-left: 1px solid gray;box-sizing: border-box;top: 0;bottom: 0;left: 50%;z-index: -1;}#sk-container-id-9 div.sk-parallel-item {display: flex;flex-direction: column;z-index: 1;position: relative;background-color: white;}#sk-container-id-9 div.sk-parallel-item:first-child::after {align-self: flex-end;width: 50%;}#sk-container-id-9 div.sk-parallel-item:last-child::after {align-self: flex-start;width: 50%;}#sk-container-id-9 div.sk-parallel-item:only-child::after {width: 0;}#sk-container-id-9 div.sk-dashed-wrapped {border: 1px dashed gray;margin: 0 0.4em 0.5em 0.4em;box-sizing: border-box;padding-bottom: 0.4em;background-color: white;}#sk-container-id-9 div.sk-label label {font-family: monospace;font-weight: bold;display: inline-block;line-height: 1.2em;}#sk-container-id-9 div.sk-label-container {text-align: center;}#sk-container-id-9 div.sk-container {/* jupyter's `normalize.less` sets `[hidden] { display: none; }` but bootstrap.min.css set `[hidden] { display: none !important; }` so we also need the `!important` here to be able to override the default hidden behavior on the sphinx rendered scikit-learn.org. See: https://github.com/scikit-learn/scikit-learn/issues/21755 */display: inline-block !important;position: relative;}#sk-container-id-9 div.sk-text-repr-fallback {display: none;}</style><div id=\"sk-container-id-9\" class=\"sk-top-container\"><div class=\"sk-text-repr-fallback\"><pre>LinearRegression()</pre><b>In a Jupyter environment, please rerun this cell to show the HTML representation or trust the notebook. <br />On GitHub, the HTML representation is unable to render, please try loading this page with nbviewer.org.</b></div><div class=\"sk-container\" hidden><div class=\"sk-item\"><div class=\"sk-estimator sk-toggleable\"><input class=\"sk-toggleable__control sk-hidden--visually\" id=\"sk-estimator-id-9\" type=\"checkbox\" checked><label for=\"sk-estimator-id-9\" class=\"sk-toggleable__label sk-toggleable__label-arrow\">LinearRegression</label><div class=\"sk-toggleable__content\"><pre>LinearRegression()</pre></div></div></div></div></div>"
      ],
      "text/plain": [
       "LinearRegression()"
      ]
     },
     "execution_count": 219,
     "metadata": {},
     "output_type": "execute_result"
    }
   ],
   "source": [
    "reg10 = linear_model.LinearRegression()\n",
    "reg10.fit(rs10.drop('4',axis=1),rs10['4'])"
   ]
  },
  {
   "cell_type": "code",
   "execution_count": 221,
   "metadata": {},
   "outputs": [
    {
     "data": {
      "text/plain": [
       "array([0.08028262, 0.00775549, 0.02319369, 0.14958248])"
      ]
     },
     "execution_count": 221,
     "metadata": {},
     "output_type": "execute_result"
    }
   ],
   "source": [
    "reg10.coef_"
   ]
  },
  {
   "cell_type": "code",
   "execution_count": 375,
   "metadata": {},
   "outputs": [
    {
     "data": {
      "text/plain": [
       "-0.40855974473301926"
      ]
     },
     "execution_count": 375,
     "metadata": {},
     "output_type": "execute_result"
    }
   ],
   "source": [
    "reg10.intercept_"
   ]
  },
  {
   "cell_type": "code",
   "execution_count": 377,
   "metadata": {},
   "outputs": [
    {
     "data": {
      "text/plain": [
       "0.014112558576166077"
      ]
     },
     "execution_count": 377,
     "metadata": {},
     "output_type": "execute_result"
    }
   ],
   "source": [
    "reg25.intercept_"
   ]
  },
  {
   "cell_type": "code",
   "execution_count": 376,
   "metadata": {},
   "outputs": [
    {
     "data": {
      "text/plain": [
       "array([-3.74976187e-04, -5.29700735e-05,  3.25173544e-03,  5.24102421e-03])"
      ]
     },
     "execution_count": 376,
     "metadata": {},
     "output_type": "execute_result"
    }
   ],
   "source": [
    "reg25.coef_"
   ]
  },
  {
   "attachments": {},
   "cell_type": "markdown",
   "metadata": {},
   "source": [
    "## Some Debugging (Darts Example Dataset)"
   ]
  },
  {
   "cell_type": "code",
   "execution_count": 181,
   "metadata": {},
   "outputs": [],
   "source": [
    "import pandas as pd\n",
    "import darts\n",
    "from darts import TimeSeries\n",
    "from darts.models import ExponentialSmoothing"
   ]
  },
  {
   "cell_type": "code",
   "execution_count": 182,
   "metadata": {},
   "outputs": [
    {
     "data": {
      "text/html": [
       "<div>\n",
       "<style scoped>\n",
       "    .dataframe tbody tr th:only-of-type {\n",
       "        vertical-align: middle;\n",
       "    }\n",
       "\n",
       "    .dataframe tbody tr th {\n",
       "        vertical-align: top;\n",
       "    }\n",
       "\n",
       "    .dataframe thead th {\n",
       "        text-align: right;\n",
       "    }\n",
       "</style>\n",
       "<table border=\"1\" class=\"dataframe\">\n",
       "  <thead>\n",
       "    <tr style=\"text-align: right;\">\n",
       "      <th>component</th>\n",
       "      <th>#Passengers</th>\n",
       "      <th>Month</th>\n",
       "    </tr>\n",
       "    <tr>\n",
       "      <th>Month</th>\n",
       "      <th></th>\n",
       "      <th></th>\n",
       "    </tr>\n",
       "  </thead>\n",
       "  <tbody>\n",
       "    <tr>\n",
       "      <th>1949-01-01</th>\n",
       "      <td>112.0</td>\n",
       "      <td>1949-01-01</td>\n",
       "    </tr>\n",
       "    <tr>\n",
       "      <th>1949-02-01</th>\n",
       "      <td>118.0</td>\n",
       "      <td>1949-02-01</td>\n",
       "    </tr>\n",
       "    <tr>\n",
       "      <th>1949-03-01</th>\n",
       "      <td>132.0</td>\n",
       "      <td>1949-03-01</td>\n",
       "    </tr>\n",
       "    <tr>\n",
       "      <th>1949-04-01</th>\n",
       "      <td>129.0</td>\n",
       "      <td>1949-04-01</td>\n",
       "    </tr>\n",
       "    <tr>\n",
       "      <th>1949-05-01</th>\n",
       "      <td>121.0</td>\n",
       "      <td>1949-05-01</td>\n",
       "    </tr>\n",
       "  </tbody>\n",
       "</table>\n",
       "</div>"
      ],
      "text/plain": [
       "component   #Passengers      Month\n",
       "Month                             \n",
       "1949-01-01        112.0 1949-01-01\n",
       "1949-02-01        118.0 1949-02-01\n",
       "1949-03-01        132.0 1949-03-01\n",
       "1949-04-01        129.0 1949-04-01\n",
       "1949-05-01        121.0 1949-05-01"
      ]
     },
     "execution_count": 182,
     "metadata": {},
     "output_type": "execute_result"
    }
   ],
   "source": [
    "from darts.datasets import AirPassengersDataset\n",
    "df = AirPassengersDataset().load().pd_dataframe()\n",
    "df['Month'] = df.index\n",
    "df.head()"
   ]
  },
  {
   "cell_type": "code",
   "execution_count": 183,
   "metadata": {},
   "outputs": [],
   "source": [
    "#Loading the package\n",
    "%matplotlib inline\n",
    "from darts import TimeSeries\n",
    "from darts.models import ExponentialSmoothing\n",
    "# Create a TimeSeries, specifying the time and value columns\n",
    "series = TimeSeries.from_dataframe(df, 'Month', '#Passengers')\n",
    "# Set aside the last 36 months as a validation series\n",
    "train, val = series[:-36], series[-36:]"
   ]
  },
  {
   "cell_type": "code",
   "execution_count": 184,
   "metadata": {},
   "outputs": [
    {
     "data": {
      "text/plain": [
       "<matplotlib.legend.Legend at 0x7fca04a6a910>"
      ]
     },
     "execution_count": 184,
     "metadata": {},
     "output_type": "execute_result"
    },
    {
     "data": {
      "image/png": "[encoded data removed]",
      "text/plain": [
       "<Figure size 432x288 with 1 Axes>"
      ]
     },
     "metadata": {
      "needs_background": "light"
     },
     "output_type": "display_data"
    }
   ],
   "source": [
    "from darts.models import ExponentialSmoothing\n",
    "model = ExponentialSmoothing()\n",
    "model.fit(train)\n",
    "prediction = model.predict(len(val), num_samples=1000)\n",
    "# Plotting the predictions\n",
    "series.plot()\n",
    "prediction.plot(label='forecast', low_quantile=0.05, high_quantile=0.95)\n",
    "plt.legend()\n"
   ]
  },
  {
   "cell_type": "code",
   "execution_count": null,
   "metadata": {},
   "outputs": [],
   "source": []
  }
 ],
 "metadata": {
  "kernelspec": {
   "display_name": "Python 3",
   "language": "python",
   "name": "python3"
  },
  "language_info": {
   "codemirror_mode": {
    "name": "ipython",
    "version": 3
   },
   "file_extension": ".py",
   "mimetype": "text/x-python",
   "name": "python",
   "nbconvert_exporter": "python",
   "pygments_lexer": "ipython3",
   "version": "3.8.2"
  },
  "orig_nbformat": 4,
  "vscode": {
   "interpreter": {
    "hash": "082e9a3bcad0a290d0001e938aa60b99250c6c2ef33a923c00b70f9826caf4b7"
   }
  }
 },
 "nbformat": 4,
 "nbformat_minor": 2
}
