{
 "cells": [
  {
   "cell_type": "code",
   "execution_count": 28,
   "metadata": {},
   "outputs": [],
   "source": [
    "import numpy as np\n",
    "import pandas as pd\n",
    "import matplotlib.pyplot as plt"
   ]
  },
  {
   "cell_type": "code",
   "execution_count": 2,
   "metadata": {},
   "outputs": [],
   "source": [
    "pm10_1 = pd.read_csv(\"/Users/yuyouyou/Desktop/phdata/data/pm10-20221220-0950.csv\")\n"
   ]
  },
  {
   "cell_type": "code",
   "execution_count": 22,
   "metadata": {},
   "outputs": [],
   "source": [
    "def extract(path, timeStart, timeEnd):\n",
    "    data_collected = pd.read_csv(path)\n",
    "    data_collected = data_collected[timeStart <= data_collected['created_at']]\n",
    "    data_collected = data_collected[data_collected['created_at'] <= timeEnd]\n",
    "    print(data_collected.head(2))\n",
    "    print(data_collected.tail(2))\n",
    "    \n",
    "    value = data_collected['value']\n",
    "    created_at =  data_collected['created_at']\n",
    "    df = pd.DataFrame()\n",
    "    df['value'] = value\n",
    "    df['created_at'] = created_at\n",
    "\n",
    "    return df"
   ]
  },
  {
   "cell_type": "code",
   "execution_count": 23,
   "metadata": {},
   "outputs": [
    {
     "name": "stdout",
     "output_type": "stream",
     "text": [
      "                             id       value  feed_id               created_at  \\\n",
      "836  0F6C10P34GCGVX1WNY1TMCAF5E  139.300003  2408569  2022-12-16 07:20:02 UTC   \n",
      "837  0F6C10XT6THW4EHWQPZWF927NX  134.899994  2408569  2022-12-16 07:20:28 UTC   \n",
      "\n",
      "     lat  lon  ele  \n",
      "836  0.0  0.0  0.0  \n",
      "837  0.0  0.0  0.0  \n",
      "                             id      value  feed_id               created_at  \\\n",
      "972  0F6C22YA94F3VM09TH4W3CR922  28.200001  2408569  2022-12-16 08:19:54 UTC   \n",
      "973  0F6C236904RBQBSRJXAGSZK1B8  29.600000  2408569  2022-12-16 08:20:20 UTC   \n",
      "\n",
      "     lat  lon  ele  \n",
      "972  0.0  0.0  0.0  \n",
      "973  0.0  0.0  0.0  \n"
     ]
    },
    {
     "data": {
      "text/html": [
       "<div>\n",
       "<style scoped>\n",
       "    .dataframe tbody tr th:only-of-type {\n",
       "        vertical-align: middle;\n",
       "    }\n",
       "\n",
       "    .dataframe tbody tr th {\n",
       "        vertical-align: top;\n",
       "    }\n",
       "\n",
       "    .dataframe thead th {\n",
       "        text-align: right;\n",
       "    }\n",
       "</style>\n",
       "<table border=\"1\" class=\"dataframe\">\n",
       "  <thead>\n",
       "    <tr style=\"text-align: right;\">\n",
       "      <th></th>\n",
       "      <th>value</th>\n",
       "      <th>created_at</th>\n",
       "    </tr>\n",
       "  </thead>\n",
       "  <tbody>\n",
       "    <tr>\n",
       "      <th>836</th>\n",
       "      <td>139.300003</td>\n",
       "      <td>2022-12-16 07:20:02 UTC</td>\n",
       "    </tr>\n",
       "    <tr>\n",
       "      <th>837</th>\n",
       "      <td>134.899994</td>\n",
       "      <td>2022-12-16 07:20:28 UTC</td>\n",
       "    </tr>\n",
       "    <tr>\n",
       "      <th>838</th>\n",
       "      <td>133.000000</td>\n",
       "      <td>2022-12-16 07:20:53 UTC</td>\n",
       "    </tr>\n",
       "    <tr>\n",
       "      <th>839</th>\n",
       "      <td>134.100006</td>\n",
       "      <td>2022-12-16 07:21:19 UTC</td>\n",
       "    </tr>\n",
       "    <tr>\n",
       "      <th>840</th>\n",
       "      <td>133.699997</td>\n",
       "      <td>2022-12-16 07:21:44 UTC</td>\n",
       "    </tr>\n",
       "    <tr>\n",
       "      <th>...</th>\n",
       "      <td>...</td>\n",
       "      <td>...</td>\n",
       "    </tr>\n",
       "    <tr>\n",
       "      <th>969</th>\n",
       "      <td>30.600000</td>\n",
       "      <td>2022-12-16 08:18:38 UTC</td>\n",
       "    </tr>\n",
       "    <tr>\n",
       "      <th>970</th>\n",
       "      <td>30.400000</td>\n",
       "      <td>2022-12-16 08:19:03 UTC</td>\n",
       "    </tr>\n",
       "    <tr>\n",
       "      <th>971</th>\n",
       "      <td>29.200001</td>\n",
       "      <td>2022-12-16 08:19:29 UTC</td>\n",
       "    </tr>\n",
       "    <tr>\n",
       "      <th>972</th>\n",
       "      <td>28.200001</td>\n",
       "      <td>2022-12-16 08:19:54 UTC</td>\n",
       "    </tr>\n",
       "    <tr>\n",
       "      <th>973</th>\n",
       "      <td>29.600000</td>\n",
       "      <td>2022-12-16 08:20:20 UTC</td>\n",
       "    </tr>\n",
       "  </tbody>\n",
       "</table>\n",
       "<p>138 rows × 2 columns</p>\n",
       "</div>"
      ],
      "text/plain": [
       "          value               created_at\n",
       "836  139.300003  2022-12-16 07:20:02 UTC\n",
       "837  134.899994  2022-12-16 07:20:28 UTC\n",
       "838  133.000000  2022-12-16 07:20:53 UTC\n",
       "839  134.100006  2022-12-16 07:21:19 UTC\n",
       "840  133.699997  2022-12-16 07:21:44 UTC\n",
       "..          ...                      ...\n",
       "969   30.600000  2022-12-16 08:18:38 UTC\n",
       "970   30.400000  2022-12-16 08:19:03 UTC\n",
       "971   29.200001  2022-12-16 08:19:29 UTC\n",
       "972   28.200001  2022-12-16 08:19:54 UTC\n",
       "973   29.600000  2022-12-16 08:20:20 UTC\n",
       "\n",
       "[138 rows x 2 columns]"
      ]
     },
     "execution_count": 23,
     "metadata": {},
     "output_type": "execute_result"
    }
   ],
   "source": [
    "extract('data/pm10-20221220-0950.csv', '2022-12-16 07:20:02 UTC', '2022-12-16 08:20:20 UTC', )"
   ]
  },
  {
   "cell_type": "code",
   "execution_count": 25,
   "metadata": {},
   "outputs": [
    {
     "name": "stdout",
     "output_type": "stream",
     "text": [
      "                             id       value  feed_id               created_at  \\\n",
      "836  0F6C10P34GCGVX1WNY1TMCAF5E  139.300003  2408569  2022-12-16 07:20:02 UTC   \n",
      "837  0F6C10XT6THW4EHWQPZWF927NX  134.899994  2408569  2022-12-16 07:20:28 UTC   \n",
      "\n",
      "     lat  lon  ele  \n",
      "836  0.0  0.0  0.0  \n",
      "837  0.0  0.0  0.0  \n",
      "                             id      value  feed_id               created_at  \\\n",
      "972  0F6C22YA94F3VM09TH4W3CR922  28.200001  2408569  2022-12-16 08:19:54 UTC   \n",
      "973  0F6C236904RBQBSRJXAGSZK1B8  29.600000  2408569  2022-12-16 08:20:20 UTC   \n",
      "\n",
      "     lat  lon  ele  \n",
      "972  0.0  0.0  0.0  \n",
      "973  0.0  0.0  0.0  \n",
      "                            id       value  feed_id               created_at  \\\n",
      "86  0F6C10RS91YA7CT9Q7ARBCEDBY  128.399994  2409856  2022-12-16 07:20:11 UTC   \n",
      "87  0F6C110G3D5QCP80EXNPA379C2  126.500000  2409856  2022-12-16 07:20:36 UTC   \n",
      "\n",
      "    lat  lon  ele  \n",
      "86  0.0  0.0  0.0  \n",
      "87  0.0  0.0  0.0  \n",
      "                             id      value  feed_id               created_at  \\\n",
      "223  0F6C239602Q2CTHBAB8YST8CF6  27.299999  2409856  2022-12-16 08:20:30 UTC   \n",
      "224  0F6C23GXATNA8KBZTM2S5QBYKP  25.400000  2409856  2022-12-16 08:20:55 UTC   \n",
      "\n",
      "     lat  lon  ele  \n",
      "223  0.0  0.0  0.0  \n",
      "224  0.0  0.0  0.0  \n",
      "                            id  value  feed_id               created_at  lat  \\\n",
      "54  0F6C10P6M6REX6W1YSSGYXZ4NT  195.4  2409789  2022-12-16 07:20:03 UTC  NaN   \n",
      "55  0F6C10Z78DAF96RXSV3RD5GRPJ  195.4  2409789  2022-12-16 07:20:32 UTC  NaN   \n",
      "\n",
      "    lon  ele  \n",
      "54  NaN  NaN  \n",
      "55  NaN  NaN  \n",
      "                             id  value  feed_id               created_at  lat  \\\n",
      "175  0F6C235EE8T4SMVB796P0AYJJV   33.3  2409789  2022-12-16 08:20:18 UTC  NaN   \n",
      "176  0F6C23EFJGN5Z8XJA5WA2G8QAP   33.3  2409789  2022-12-16 08:20:47 UTC  NaN   \n",
      "\n",
      "     lon  ele  \n",
      "175  NaN  NaN  \n",
      "176  NaN  NaN  \n"
     ]
    }
   ],
   "source": [
    "exp1_pm10_posC = extract('data/pm10-20221220-0950.csv', '2022-12-16 07:20:02 UTC', '2022-12-16 08:20:20 UTC')\n",
    "exp1_pm10_posB = extract('data/pm10B-20221220-1116.csv', '2022-12-16 07:20:11 UTC', '2022-12-16 08:20:55 UTC')\n",
    "exp1_pm10_posA = extract('data/pm10-20221220-1117.csv', '2022-12-16 07:20:03 UTC', '2022-12-16 08:20:47 UTC')"
   ]
  },
  {
   "cell_type": "code",
   "execution_count": 47,
   "metadata": {},
   "outputs": [
    {
     "data": {
      "text/plain": [
       "[<matplotlib.lines.Line2D at 0x7fbd8fa7fc10>]"
      ]
     },
     "execution_count": 47,
     "metadata": {},
     "output_type": "execute_result"
    },
    {
     "data": {
      "image/png": "[encoded data removed]",
      "text/plain": [
       "<Figure size 432x288 with 1 Axes>"
      ]
     },
     "metadata": {
      "needs_background": "light"
     },
     "output_type": "display_data"
    }
   ],
   "source": [
    "plt.plot(range(123),exp1_pm10_posA['value'],'r')\n",
    "plt.plot(range(139),exp1_pm10_posB['value']+10, 'b')\n",
    "plt.plot(range(138),exp1_pm10_posC['value'], 'g')\n"
   ]
  },
  {
   "cell_type": "code",
   "execution_count": null,
   "metadata": {},
   "outputs": [],
   "source": []
  },
  {
   "cell_type": "code",
   "execution_count": null,
   "metadata": {},
   "outputs": [],
   "source": []
  }
 ],
 "metadata": {
  "kernelspec": {
   "display_name": "Python 3",
   "language": "python",
   "name": "python3"
  },
  "language_info": {
   "codemirror_mode": {
    "name": "ipython",
    "version": 3
   },
   "file_extension": ".py",
   "mimetype": "text/x-python",
   "name": "python",
   "nbconvert_exporter": "python",
   "pygments_lexer": "ipython3",
   "version": "3.8.2 (v3.8.2:7b3ab5921f, Feb 24 2020, 17:52:18) \n[Clang 6.0 (clang-600.0.57)]"
  },
  "orig_nbformat": 4,
  "vscode": {
   "interpreter": {
    "hash": "082e9a3bcad0a290d0001e938aa60b99250c6c2ef33a923c00b70f9826caf4b7"
   }
  }
 },
 "nbformat": 4,
 "nbformat_minor": 2
}
