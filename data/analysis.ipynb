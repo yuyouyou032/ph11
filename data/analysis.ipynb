{
 "cells": [
  {
   "cell_type": "code",
   "execution_count": 1,
   "metadata": {},
   "outputs": [],
   "source": [
    "import numpy as np\n",
    "import pandas as pd\n",
    "import matplotlib.pyplot as plt"
   ]
  },
  {
   "attachments": {},
   "cell_type": "markdown",
   "metadata": {},
   "source": [
    "## extracting data for each experiment"
   ]
  },
  {
   "cell_type": "code",
   "execution_count": 27,
   "metadata": {},
   "outputs": [],
   "source": [
    "def extract(path, timeStart, timeEnd):\n",
    "    data_collected = pd.read_csv(path)\n",
    "    data_collected.created_at = pd.to_datetime(data_collected.created_at)\n",
    "\n",
    "    timeStart = pd.Timestamp(timeStart[0], timeStart[1], timeStart[2], timeStart[3]-8, timeStart[4])\n",
    "    timeStart = timeStart.tz_localize('UTC')\n",
    "    timeEnd = pd.Timestamp(timeEnd[0], timeEnd[1], timeEnd[2], timeEnd[3], timeEnd[4])\n",
    "    timeEnd = timeEnd.tz_localize('UTC')\n",
    "\n",
    "    data_collected = data_collected[timeStart <= data_collected.created_at]\n",
    "    data_collected = data_collected[data_collected.created_at <= timeEnd]\n",
    "    print(data_collected.head(2))\n",
    "    print(data_collected.tail(2))\n",
    "    \n",
    "    value = data_collected['value']\n",
    "    created_at =  data_collected['created_at']\n",
    "    df = pd.DataFrame()\n",
    "    df['value'] = value\n",
    "    df['created_at'] = created_at\n",
    "\n",
    "    return df"
   ]
  },
  {
   "cell_type": "code",
   "execution_count": null,
   "metadata": {},
   "outputs": [],
   "source": [
    "exp1_pm10_posC = extract('data/pm10-20221223-1309.csv', (2022, 12, 16, 15, 20), (2022, 12, 16, 16, 21))\n",
    "exp1_pm10_posB = extract('data/pm10B-20221223-1310.csv', (2022, 12, 16, 15, 20), (2022, 12, 16, 16, 21))\n",
    "exp1_pm10_posA = extract('data/pm10-20221223-1312.csv', (2022, 12, 16, 15, 20), (2022, 12, 16, 16, 21))\n",
    "\n",
    "exp1_pm25_posC = extract('data/pm25-20221223-1310.csv', (2022, 12, 16, 15, 20), (2022, 12, 16, 16, 21))\n",
    "exp1_pm25_posB = extract('data/pm25B-20221223-1311.csv', (2022, 12, 16, 15, 20), (2022, 12, 16, 16, 21))\n",
    "exp1_pm25_posA = extract('data/pm25-20221223-1313.csv', (2022, 12, 16, 15, 20), (2022, 12, 16, 16, 21))\n"
   ]
  },
  {
   "cell_type": "code",
   "execution_count": null,
   "metadata": {},
   "outputs": [],
   "source": [
    "exp2_pm10_posC = extract('data/pm10-20221223-1309.csv', (2022, 12, 19, 10, 22), (2022, 12, 19, 11, 30))\n",
    "exp2_pm10_posB = extract('data/pm10B-20221223-1310.csv', (2022, 12, 19, 10, 22), (2022, 12, 19, 11, 30))\n",
    "exp2_pm10_posA = extract('data/pm10-20221223-1312.csv', (2022, 12, 19, 10, 22), (2022, 12, 19, 11, 30))\n",
    "\n",
    "exp2_pm25_posC = extract('data/pm25-20221223-1310.csv', (2022, 12, 19, 10, 22), (2022, 12, 19, 11, 30))\n",
    "exp2_pm25_posB = extract('data/pm25B-20221223-1311.csv', (2022, 12, 19, 10, 22), (2022, 12, 19, 11, 30))\n",
    "exp2_pm25_posA = extract('data/pm25-20221223-1313.csv', (2022, 12, 19, 10, 22), (2022, 12, 19, 11, 30))\n"
   ]
  },
  {
   "cell_type": "code",
   "execution_count": null,
   "metadata": {},
   "outputs": [],
   "source": [
    "exp3_pm10_posC = extract('data/pm10-20221223-1309.csv', (2022, 12, 19, 12, 39), (2022, 12, 19, 13, 44))\n",
    "exp3_pm10_posB = extract('data/pm10B-20221223-1310.csv', (2022, 12, 19, 12, 39), (2022, 12, 19, 13, 44))\n",
    "exp3_pm10_posA = extract('data/pm10-20221223-1312.csv', (2022, 12, 19, 12, 39), (2022, 12, 19, 13, 44))\n",
    "\n",
    "exp3_pm25_posC = extract('data/pm25-20221223-1310.csv', (2022, 12, 19, 12, 39), (2022, 12, 19, 13, 44))\n",
    "exp3_pm25_posB = extract('data/pm25B-20221223-1311.csv', (2022, 12, 19, 12, 39), (2022, 12, 19, 13, 44))\n",
    "exp3_pm25_posA = extract('data/pm25-20221223-1313.csv', (2022, 12, 19, 12, 39), (2022, 12, 19, 13, 44))\n"
   ]
  },
  {
   "cell_type": "code",
   "execution_count": null,
   "metadata": {},
   "outputs": [],
   "source": [
    "exp4_pm10_posA = extract('data/pm10-20221223-1309.csv', (2022, 12, 19, 14, 52), (2022, 12, 19, 15, 58))\n",
    "exp4_pm10_posB = extract('data/pm10B-20221223-1310.csv', (2022, 12, 19, 14, 52), (2022, 12, 19, 15, 58))\n",
    "exp4_pm10_posC = extract('data/pm10-20221223-1312.csv', (2022, 12, 19, 14, 52), (2022, 12, 19, 15, 58))\n",
    "\n",
    "exp4_pm25_posA = extract('data/pm25-20221223-1310.csv', (2022, 12, 19, 14, 52), (2022, 12, 19, 15, 58))\n",
    "exp4_pm25_posB = extract('data/pm25B-20221223-1311.csv', (2022, 12, 19, 14, 52), (2022, 12, 19, 15, 58))\n",
    "exp4_pm25_posC = extract('data/pm25-20221223-1313.csv', (2022, 12, 19, 14, 52), (2022, 12, 19, 15, 58))\n",
    "\n"
   ]
  },
  {
   "cell_type": "code",
   "execution_count": null,
   "metadata": {},
   "outputs": [],
   "source": [
    "exp5_pm10_posA = extract('data/pm10-20221223-1309.csv', (2022, 12, 19, 16, 3), (2022, 12, 19, 17, 52))\n",
    "exp5_pm10_posB = extract('data/pm10B-20221223-1310.csv', (2022, 12, 19, 16, 3), (2022, 12, 19, 17, 52))\n",
    "exp5_pm10_posC = extract('data/pm10-20221223-1312.csv', (2022, 12, 19, 16, 3), (2022, 12, 19, 17, 52))\n",
    "\n",
    "exp5_pm25_posA = extract('data/pm25-20221223-1310.csv', (2022, 12, 19, 16, 3), (2022, 12, 19, 17, 52))\n",
    "exp5_pm25_posB = extract('data/pm25B-20221223-1311.csv', (2022, 12, 19, 16, 3), (2022, 12, 19, 17, 52))\n",
    "exp5_pm25_posC = extract('data/pm25-20221223-1313.csv', (2022, 12, 19, 16, 3), (2022, 12, 19, 17, 52))"
   ]
  },
  {
   "cell_type": "code",
   "execution_count": null,
   "metadata": {},
   "outputs": [],
   "source": [
    "exp6_pm10_posC = extract('data/pm10-20221223-1309.csv', (2022, 12, 20, 10, 30), (2022, 12, 20, 11, 45))\n",
    "exp6_pm10_posB = extract('data/pm10B-20221223-1310.csv', (2022, 12, 20, 10, 30), (2022, 12, 20, 11, 45))\n",
    "exp6_pm10_posA = extract('data/pm10-20221223-1312.csv', (2022, 12, 20, 10, 30), (2022, 12, 20, 11, 45))\n",
    "\n",
    "exp6_pm25_posC = extract('data/pm25-20221223-1310.csv', (2022, 12, 20, 10, 30), (2022, 12, 20, 11, 45))\n",
    "exp6_pm25_posB = extract('data/pm25B-20221223-1311.csv', (2022, 12, 20, 10, 30), (2022, 12, 20, 11, 45))\n",
    "exp6_pm25_posA = extract('data/pm25-20221223-1313.csv', (2022, 12, 20, 10, 30), (2022, 12, 20, 11, 45))\n",
    "\n"
   ]
  },
  {
   "cell_type": "code",
   "execution_count": null,
   "metadata": {},
   "outputs": [],
   "source": [
    "\n",
    "exp7_pm10_posC = extract('data/pm10-20221223-1309.csv', (2022, 12, 20, 11, 59), (2022, 12, 20, 13, 0))\n",
    "exp7_pm10_posB = extract('data/pm10B-20221223-1310.csv', (2022, 12, 20, 11, 59), (2022, 12, 20, 13, 0))\n",
    "exp7_pm10_posA = extract('data/pm10-20221223-1312.csv', (2022, 12, 20, 11, 59), (2022, 12, 20, 13, 0))\n",
    "\n",
    "exp7_pm25_posC = extract('data/pm25-20221223-1310.csv', (2022, 12, 20, 11, 59), (2022, 12, 20, 13, 0))\n",
    "exp7_pm25_posB = extract('data/pm25B-20221223-1311.csv', (2022, 12, 20, 11, 59), (2022, 12, 20, 13, 0))\n",
    "exp7_pm25_posA = extract('data/pm25-20221223-1313.csv', (2022, 12, 20, 11, 59), (2022, 12, 20, 13, 0))\n"
   ]
  },
  {
   "cell_type": "code",
   "execution_count": null,
   "metadata": {},
   "outputs": [],
   "source": [
    "\n",
    "exp7_pm10_posA = extract('data/pm10-20221223-1309.csv', (2022, 12, 20, 11, 59), (2022, 12, 20, 13, 0))\n",
    "exp7_pm10_posB = extract('data/pm10B-20221223-1310.csv', (2022, 12, 20, 11, 59), (2022, 12, 20, 13, 0))\n",
    "exp7_pm10_posC = extract('data/pm10-20221223-1312.csv', (2022, 12, 20, 11, 59), (2022, 12, 20, 13, 0))\n",
    "\n",
    "exp7_pm25_posA = extract('data/pm25-20221223-1310.csv', (2022, 12, 20, 11, 59), (2022, 12, 20, 13, 0))\n",
    "exp7_pm25_posB = extract('data/pm25B-20221223-1311.csv', (2022, 12, 20, 11, 59), (2022, 12, 20, 13, 0))\n",
    "exp7_pm25_posC = extract('data/pm25-20221223-1313.csv', (2022, 12, 20, 11, 59), (2022, 12, 20, 13, 0))\n"
   ]
  },
  {
   "cell_type": "code",
   "execution_count": null,
   "metadata": {},
   "outputs": [],
   "source": [
    "exp8_pm10_posA = extract('data/pm10-20221223-1309.csv', (2022, 12, 20, 13, 40), (2022, 12, 20, 14, 40))\n",
    "exp8_pm10_posB = extract('data/pm10B-20221223-1310.csv', (2022, 12, 20, 13, 40), (2022, 12, 20, 14, 40))\n",
    "exp8_pm10_posC = extract('data/pm10-20221223-1312.csv', (2022, 12, 20, 13, 40), (2022, 12, 20, 14, 40))\n",
    "\n",
    "exp8_pm25_posA = extract('data/pm25-20221223-1310.csv', (2022, 12, 20, 13, 40), (2022, 12, 20, 14, 40))\n",
    "exp8_pm25_posB = extract('data/pm25B-20221223-1311.csv', (2022, 12, 20, 13, 40), (2022, 12, 20, 14, 40))\n",
    "exp8_pm25_posC = extract('data/pm25-20221223-1313.csv', (2022, 12, 20, 13, 40), (2022, 12, 20, 14, 40))\n",
    "\n"
   ]
  },
  {
   "cell_type": "code",
   "execution_count": null,
   "metadata": {},
   "outputs": [],
   "source": [
    "exp9_pm10_posA = extract('data/pm10-20221223-1309.csv', (2022, 12, 20, 13, 40), (2022, 12, 20, 14, 40))\n",
    "exp9_pm10_posB = extract('data/pm10B-20221223-1310.csv', (2022, 12, 20, 13, 40), (2022, 12, 20, 14, 40))\n",
    "exp9_pm10_posC = extract('data/pm10-20221223-1312.csv', (2022, 12, 20, 13, 40), (2022, 12, 20, 14, 40))\n",
    "\n",
    "exp9_pm25_posA = extract('data/pm25-20221223-1310.csv', (2022, 12, 20, 13, 40), (2022, 12, 20, 14, 40))\n",
    "exp9_pm25_posB = extract('data/pm25B-20221223-1311.csv', (2022, 12, 20, 13, 40), (2022, 12, 20, 14, 40))\n",
    "exp9_pm25_posC = extract('data/pm25-20221223-1313.csv', (2022, 12, 20, 13, 40), (2022, 12, 20, 14, 40))\n",
    "\n"
   ]
  },
  {
   "cell_type": "code",
   "execution_count": null,
   "metadata": {},
   "outputs": [],
   "source": [
    "exp10_pm10_posA = extract('data/pm10-20221223-1309.csv', (2022, 12, 21, 9, 12), (2022, 12, 21, 10, 12))\n",
    "exp10_pm10_posB = extract('data/pm10B-20221223-1310.csv', (2022, 12, 21, 9, 12), (2022, 12, 21, 10, 12))\n",
    "exp10_pm10_posC = extract('data/pm10-20221223-1312.csv', (2022, 12, 21, 9, 12), (2022, 12, 21, 10, 12))\n",
    "\n",
    "exp10_pm25_posA = extract('data/pm25-20221223-1310.csv', (2022, 12, 21, 9, 12), (2022, 12, 21, 10, 12))\n",
    "exp10_pm25_posB = extract('data/pm25B-20221223-1311.csv', (2022, 12, 21, 9, 12), (2022, 12, 21, 10, 12))\n",
    "exp10_pm25_posC = extract('data/pm25-20221223-1313.csv', (2022, 12, 21, 9, 12), (2022, 12, 21, 10, 12))\n"
   ]
  },
  {
   "cell_type": "code",
   "execution_count": null,
   "metadata": {},
   "outputs": [],
   "source": [
    "exp11_pm10_posA = extract('data/pm10-20221223-1309.csv', (2022, 12, 21, 10, 31), (2022, 12, 21, 11, 32))\n",
    "exp11_pm10_posB = extract('data/pm10B-20221223-1310.csv', (2022, 12, 21, 10, 31), (2022, 12, 21, 11, 32))\n",
    "exp11_pm10_posC = extract('data/pm10-20221223-1312.csv', (2022, 12, 21, 10, 31), (2022, 12, 21, 11, 32))\n",
    "\n",
    "exp11_pm25_posA = extract('data/pm25-20221223-1310.csv', (2022, 12, 21, 10, 31), (2022, 12, 21, 11, 32))\n",
    "exp11_pm25_posB = extract('data/pm25B-20221223-1311.csv', (2022, 12, 21, 10, 31), (2022, 12, 21, 11, 32))\n",
    "exp11_pm25_posC = extract('data/pm25-20221223-1313.csv', (2022, 12, 21, 10, 31), (2022, 12, 21, 11, 32))\n"
   ]
  },
  {
   "cell_type": "code",
   "execution_count": null,
   "metadata": {},
   "outputs": [],
   "source": [
    "exp12_pm10_posA = extract('data/pm10-20221223-1309.csv', (2022, 12, 21, 11, 46), (2022, 12, 21, 12, 46))\n",
    "exp12_pm10_posB = extract('data/pm10B-20221223-1310.csv', (2022, 12, 21, 11, 46), (2022, 12, 21, 12, 46))\n",
    "exp12_pm10_posC = extract('data/pm10-20221223-1312.csv', (2022, 12, 21, 11, 46), (2022, 12, 21, 12, 46))\n",
    "\n",
    "exp12_pm25_posA = extract('data/pm25-20221223-1310.csv', (2022, 12, 21, 11, 46), (2022, 12, 21, 12, 46))\n",
    "exp12_pm25_posB = extract('data/pm25B-20221223-1311.csv', (2022, 12, 21, 11, 46), (2022, 12, 21, 12, 46))\n",
    "exp12_pm25_posC = extract('data/pm25-20221223-1313.csv', (2022, 12, 21, 11, 46), (2022, 12, 21, 12, 46))\n"
   ]
  },
  {
   "cell_type": "code",
   "execution_count": 43,
   "metadata": {},
   "outputs": [
    {
     "name": "stdout",
     "output_type": "stream",
     "text": [
      "                              id       value  feed_id  \\\n",
      "3464  0F6FZ921BJ3QNPKZ102JGKTNGM  142.300003  2408569   \n",
      "3465  0F6FZ99QZSW341W2DCNP90Z1QY  141.899994  2408569   \n",
      "\n",
      "                    created_at  lat  lon  ele  \n",
      "3464 2022-12-21 05:01:06+00:00  0.0  0.0  0.0  \n",
      "3465 2022-12-21 05:01:31+00:00  0.0  0.0  0.0  \n",
      "                              id      value  feed_id  \\\n",
      "3817  0F6G1YX1139EK40XVCPDMFHZ31  17.400000  2408569   \n",
      "3818  0F6G1Z4WW57A88DK81XHBMXS0H  18.700001  2408569   \n",
      "\n",
      "                    created_at  lat  lon  ele  \n",
      "3817 2022-12-21 07:31:07+00:00  0.0  0.0  0.0  \n",
      "3818 2022-12-21 07:31:33+00:00  0.0  0.0  0.0  \n",
      "                              id       value  feed_id  \\\n",
      "2714  0F6FZ90R2HG1JWVMHHK2V8R7D2  142.399994  2409856   \n",
      "2715  0F6FZ98K48MM40M4KJ9VQWG4PV  140.300003  2409856   \n",
      "\n",
      "                    created_at  lat  lon  ele  \n",
      "2714 2022-12-21 05:01:02+00:00  0.0  0.0  0.0  \n",
      "2715 2022-12-21 05:01:28+00:00  0.0  0.0  0.0  \n",
      "                              id  value  feed_id                created_at  \\\n",
      "3067  0F6G1YWXX411A0CNFEGHW9J3DN   16.0  2409856 2022-12-21 07:31:07+00:00   \n",
      "3068  0F6G1Z4QENV3VP9MDNASFSPNXH   16.4  2409856 2022-12-21 07:31:33+00:00   \n",
      "\n",
      "      lat  lon  ele  \n",
      "3067  0.0  0.0  0.0  \n",
      "3068  0.0  0.0  0.0  \n",
      "                              id  value  feed_id                created_at  \\\n",
      "1727  0F6FZ92E0M8T8WSZK9H03ZDJFF  194.5  2409789 2022-12-21 05:01:07+00:00   \n",
      "1728  0F6FZ9BHZXS8158BCHPVW36QQA  194.5  2409789 2022-12-21 05:01:37+00:00   \n",
      "\n",
      "      lat  lon  ele  \n",
      "1727  NaN  NaN  NaN  \n",
      "1728  NaN  NaN  NaN  \n",
      "                              id  value  feed_id                created_at  \\\n",
      "1959  0F6G1YMC1GJ40T7SXPG4RTK9H9   27.6  2409789 2022-12-21 07:30:39+00:00   \n",
      "1960  0F6G1YXFKG27FQDPVB9QX4SQ39   27.6  2409789 2022-12-21 07:31:09+00:00   \n",
      "\n",
      "      lat  lon  ele  \n",
      "1959  NaN  NaN  NaN  \n",
      "1960  NaN  NaN  NaN  \n",
      "                              id      value  feed_id  \\\n",
      "2818  0F6FZ921BX4YJNJEE0FB2RT4FZ  95.500000  2409715   \n",
      "2819  0F6FZ99QZVHBNPKPR0H3JJ306D  92.199997  2409715   \n",
      "\n",
      "                    created_at  lat  lon  ele  \n",
      "2818 2022-12-21 05:01:06+00:00  0.0  0.0  0.0  \n",
      "2819 2022-12-21 05:01:31+00:00  0.0  0.0  0.0  \n",
      "                              id  value  feed_id                created_at  \\\n",
      "3171  0F6G1YX11PHBQ0PZFWM3JCHVXC   11.6  2409715 2022-12-21 07:31:07+00:00   \n",
      "3172  0F6G1Z4WW596FEG8X14P0G2C6C   12.3  2409715 2022-12-21 07:31:33+00:00   \n",
      "\n",
      "      lat  lon  ele  \n",
      "3171  0.0  0.0  0.0  \n",
      "3172  0.0  0.0  0.0  \n",
      "                              id      value  feed_id  \\\n",
      "2719  0F6FZ90R2W8TGBJMKMS0DGN45W  93.900002  2409857   \n",
      "2720  0F6FZ98K38BJRBP6MGG8M6CBVY  93.199997  2409857   \n",
      "\n",
      "                    created_at  lat  lon  ele  \n",
      "2719 2022-12-21 05:01:02+00:00  0.0  0.0  0.0  \n",
      "2720 2022-12-21 05:01:28+00:00  0.0  0.0  0.0  \n",
      "                              id  value  feed_id                created_at  \\\n",
      "3072  0F6G1YWXXT1MQKZBA032KDFHYQ    9.0  2409857 2022-12-21 07:31:07+00:00   \n",
      "3073  0F6G1Z4QDGEFWHCNR3NYA9W4TA    9.1  2409857 2022-12-21 07:31:33+00:00   \n",
      "\n",
      "      lat  lon  ele  \n",
      "3072  0.0  0.0  0.0  \n",
      "3073  0.0  0.0  0.0  \n",
      "                              id  value  feed_id                created_at  \\\n",
      "1730  0F6FZ91SR67X4DS58M6EYZXDG2  105.9  2409788 2022-12-21 05:01:05+00:00   \n",
      "1731  0F6FZ9B7WJXDX7BZESPTARAVZP  105.9  2409788 2022-12-21 05:01:36+00:00   \n",
      "\n",
      "      lat  lon  ele  \n",
      "1730  NaN  NaN  NaN  \n",
      "1731  NaN  NaN  NaN  \n",
      "                              id  value  feed_id                created_at  \\\n",
      "1962  0F6G1YM29DCW0P10R1X5R82B44   16.2  2409788 2022-12-21 07:30:38+00:00   \n",
      "1963  0F6G1YX5X9E6MG2SYCZERJJ9SN   16.2  2409788 2022-12-21 07:31:08+00:00   \n",
      "\n",
      "      lat  lon  ele  \n",
      "1962  NaN  NaN  NaN  \n",
      "1963  NaN  NaN  NaN  \n"
     ]
    }
   ],
   "source": [
    "exp13_pm10_posA = extract('data/pm10-20221223-1309.csv', (2022, 12, 21, 13, 1), (2022, 12, 21, 14, 1))\n",
    "exp13_pm10_posB = extract('data/pm10B-20221223-1310.csv', (2022, 12, 21, 13, 1), (2022, 12, 21, 14, 1))\n",
    "exp13_pm10_posC = extract('data/pm10-20221223-1312.csv', (2022, 12, 21, 13, 1), (2022, 12, 21, 14, 1))\n",
    "\n",
    "exp13_pm25_posA = extract('data/pm25-20221223-1310.csv', (2022, 12, 21, 13, 1), (2022, 12, 21, 14, 1))\n",
    "exp13_pm25_posB = extract('data/pm25B-20221223-1311.csv', (2022, 12, 21, 13, 1), (2022, 12, 21, 14, 1))\n",
    "exp13_pm25_posC = extract('data/pm25-20221223-1313.csv', (2022, 12, 21, 13, 1), (2022, 12, 21, 14, 1))\n"
   ]
  },
  {
   "cell_type": "code",
   "execution_count": 37,
   "metadata": {},
   "outputs": [
    {
     "name": "stdout",
     "output_type": "stream",
     "text": [
      "                              id       value  feed_id  \\\n",
      "3634  0F6G0JC5S2QEZ5JDZM31WSZJWV  166.800003  2408569   \n",
      "3635  0F6G0JKZSAVK875WB46VA9M7AD  163.899994  2408569   \n",
      "\n",
      "                    created_at  lat  lon  ele  \n",
      "3634 2022-12-21 06:13:18+00:00  0.0  0.0  0.0  \n",
      "3635 2022-12-21 06:13:44+00:00  0.0  0.0  0.0  \n",
      "                              id      value  feed_id  \\\n",
      "3817  0F6G1YX1139EK40XVCPDMFHZ31  17.400000  2408569   \n",
      "3818  0F6G1Z4WW57A88DK81XHBMXS0H  18.700001  2408569   \n",
      "\n",
      "                    created_at  lat  lon  ele  \n",
      "3817 2022-12-21 07:31:07+00:00  0.0  0.0  0.0  \n",
      "3818 2022-12-21 07:31:33+00:00  0.0  0.0  0.0  \n",
      "                              id       value  feed_id  \\\n",
      "2884  0F6G0JBSZA78B73MYP8Z4E7W93  158.100006  2409856   \n",
      "2885  0F6G0JKH3MM4KK37MF1ZAG35KF  152.800003  2409856   \n",
      "\n",
      "                    created_at  lat  lon  ele  \n",
      "2884 2022-12-21 06:13:17+00:00  0.0  0.0  0.0  \n",
      "2885 2022-12-21 06:13:43+00:00  0.0  0.0  0.0  \n",
      "                              id  value  feed_id                created_at  \\\n",
      "3067  0F6G1YWXX411A0CNFEGHW9J3DN   16.0  2409856 2022-12-21 07:31:07+00:00   \n",
      "3068  0F6G1Z4QENV3VP9MDNASFSPNXH   16.4  2409856 2022-12-21 07:31:33+00:00   \n",
      "\n",
      "      lat  lon  ele  \n",
      "3067  0.0  0.0  0.0  \n",
      "3068  0.0  0.0  0.0  \n",
      "                              id  value  feed_id                created_at  \\\n",
      "1807  0F6G0JBHXD8SXNYYXHHMAHJ0CS  237.8  2409789 2022-12-21 06:13:16+00:00   \n",
      "1808  0F6G0JMMVA7BWQ7EX5C9WXV4P8  237.8  2409789 2022-12-21 06:13:46+00:00   \n",
      "\n",
      "      lat  lon  ele  \n",
      "1807  NaN  NaN  NaN  \n",
      "1808  NaN  NaN  NaN  \n",
      "                              id  value  feed_id                created_at  \\\n",
      "1959  0F6G1YMC1GJ40T7SXPG4RTK9H9   27.6  2409789 2022-12-21 07:30:39+00:00   \n",
      "1960  0F6G1YXFKG27FQDPVB9QX4SQ39   27.6  2409789 2022-12-21 07:31:09+00:00   \n",
      "\n",
      "      lat  lon  ele  \n",
      "1959  NaN  NaN  NaN  \n",
      "1960  NaN  NaN  NaN  \n",
      "                              id      value  feed_id  \\\n",
      "2988  0F6G0JC5TCEMNGY7ZN93C1D1CZ  94.599998  2409715   \n",
      "2989  0F6G0JKZRMP18HK6ET6C08QHSX  92.800003  2409715   \n",
      "\n",
      "                    created_at  lat  lon  ele  \n",
      "2988 2022-12-21 06:13:18+00:00  0.0  0.0  0.0  \n",
      "2989 2022-12-21 06:13:44+00:00  0.0  0.0  0.0  \n",
      "                              id  value  feed_id                created_at  \\\n",
      "3171  0F6G1YX11PHBQ0PZFWM3JCHVXC   11.6  2409715 2022-12-21 07:31:07+00:00   \n",
      "3172  0F6G1Z4WW596FEG8X14P0G2C6C   12.3  2409715 2022-12-21 07:31:33+00:00   \n",
      "\n",
      "      lat  lon  ele  \n",
      "3171  0.0  0.0  0.0  \n",
      "3172  0.0  0.0  0.0  \n",
      "                              id      value  feed_id  \\\n",
      "2889  0F6G0JBSXY3659KAKV39QKGCPK  84.800003  2409857   \n",
      "2890  0F6G0JKH1B7AQJCWXXG04FGAFT  79.699997  2409857   \n",
      "\n",
      "                    created_at  lat  lon  ele  \n",
      "2889 2022-12-21 06:13:17+00:00  0.0  0.0  0.0  \n",
      "2890 2022-12-21 06:13:43+00:00  0.0  0.0  0.0  \n",
      "                              id  value  feed_id                created_at  \\\n",
      "3072  0F6G1YWXXT1MQKZBA032KDFHYQ    9.0  2409857 2022-12-21 07:31:07+00:00   \n",
      "3073  0F6G1Z4QDGEFWHCNR3NYA9W4TA    9.1  2409857 2022-12-21 07:31:33+00:00   \n",
      "\n",
      "      lat  lon  ele  \n",
      "3072  0.0  0.0  0.0  \n",
      "3073  0.0  0.0  0.0  \n",
      "                              id  value  feed_id                created_at  \\\n",
      "1810  0F6G0JB7HTN4P955NNQYYHTYSX  124.1  2409788 2022-12-21 06:13:15+00:00   \n",
      "1811  0F6G0JMACM85MYFFY07S1EM2DV  124.1  2409788 2022-12-21 06:13:45+00:00   \n",
      "\n",
      "      lat  lon  ele  \n",
      "1810  NaN  NaN  NaN  \n",
      "1811  NaN  NaN  NaN  \n",
      "                              id  value  feed_id                created_at  \\\n",
      "1962  0F6G1YM29DCW0P10R1X5R82B44   16.2  2409788 2022-12-21 07:30:38+00:00   \n",
      "1963  0F6G1YX5X9E6MG2SYCZERJJ9SN   16.2  2409788 2022-12-21 07:31:08+00:00   \n",
      "\n",
      "      lat  lon  ele  \n",
      "1962  NaN  NaN  NaN  \n",
      "1963  NaN  NaN  NaN  \n"
     ]
    }
   ],
   "source": [
    "exp14_pm10_posA = extract('data/pm10-20221223-1309.csv', (2022, 12, 21, 14, 13), (2022, 12, 21, 15, 30))\n",
    "exp14_pm10_posB = extract('data/pm10B-20221223-1310.csv', (2022, 12, 21, 14, 13), (2022, 12, 21, 15, 30))\n",
    "exp14_pm10_posC = extract('data/pm10-20221223-1312.csv', (2022, 12, 21, 14, 13), (2022, 12, 21, 15, 30))\n",
    "\n",
    "exp14_pm25_posA = extract('data/pm25-20221223-1310.csv', (2022, 12, 21, 14, 13), (2022, 12, 21, 15, 30))\n",
    "exp14_pm25_posB = extract('data/pm25B-20221223-1311.csv', (2022, 12, 21, 14, 13), (2022, 12, 21, 15, 30))\n",
    "exp14_pm25_posC = extract('data/pm25-20221223-1313.csv', (2022, 12, 21, 14, 13), (2022, 12, 21, 15, 30))\n"
   ]
  },
  {
   "attachments": {},
   "cell_type": "markdown",
   "metadata": {},
   "source": [
    "## visualisation"
   ]
  },
  {
   "cell_type": "code",
   "execution_count": null,
   "metadata": {},
   "outputs": [],
   "source": []
  },
  {
   "cell_type": "code",
   "execution_count": 55,
   "metadata": {},
   "outputs": [
    {
     "data": {
      "text/plain": [
       "[<matplotlib.lines.Line2D at 0x7f9870943e50>]"
      ]
     },
     "execution_count": 55,
     "metadata": {},
     "output_type": "execute_result"
    },
    {
     "data": {
      "image/png": "[encoded data removed]",
      "text/plain": [
       "<Figure size 432x288 with 1 Axes>"
      ]
     },
     "metadata": {
      "needs_background": "light"
     },
     "output_type": "display_data"
    }
   ],
   "source": [
    "plt.plot(exp14_pm10_posA.created_at, exp14_pm10_posA['value'],'r')\n",
    "plt.plot(exp13_pm10_posB.created_at, exp13_pm10_posA['value'], 'b')\n",
    "# plt.plot(exp14_pm10_posC.created_at, exp14_pm10_posC['value'], 'g')\n"
   ]
  },
  {
   "cell_type": "code",
   "execution_count": 56,
   "metadata": {},
   "outputs": [
    {
     "data": {
      "text/plain": [
       "[<matplotlib.lines.Line2D at 0x7f9873fbad30>]"
      ]
     },
     "execution_count": 56,
     "metadata": {},
     "output_type": "execute_result"
    },
    {
     "data": {
      "image/png": "[encoded data removed]",
      "text/plain": [
       "<Figure size 432x288 with 1 Axes>"
      ]
     },
     "metadata": {
      "needs_background": "light"
     },
     "output_type": "display_data"
    }
   ],
   "source": []
  },
  {
   "cell_type": "code",
   "execution_count": null,
   "metadata": {},
   "outputs": [],
   "source": []
  }
 ],
 "metadata": {
  "kernelspec": {
   "display_name": "Python 3",
   "language": "python",
   "name": "python3"
  },
  "language_info": {
   "codemirror_mode": {
    "name": "ipython",
    "version": 3
   },
   "file_extension": ".py",
   "mimetype": "text/x-python",
   "name": "python",
   "nbconvert_exporter": "python",
   "pygments_lexer": "ipython3",
   "version": "3.8.2"
  },
  "orig_nbformat": 4,
  "vscode": {
   "interpreter": {
    "hash": "082e9a3bcad0a290d0001e938aa60b99250c6c2ef33a923c00b70f9826caf4b7"
   }
  }
 },
 "nbformat": 4,
 "nbformat_minor": 2
}
