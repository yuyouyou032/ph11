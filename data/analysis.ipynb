{
 "cells": [
  {
   "cell_type": "code",
   "execution_count": 206,
   "metadata": {},
   "outputs": [],
   "source": [
    "import numpy as np\n",
    "import pandas as pd\n",
    "import matplotlib.pyplot as plt\n",
    "%matplotlib inline"
   ]
  },
  {
   "attachments": {},
   "cell_type": "markdown",
   "metadata": {},
   "source": [
    "## Extracting Data For Each Experiment"
   ]
  },
  {
   "cell_type": "code",
   "execution_count": 298,
   "metadata": {},
   "outputs": [],
   "source": [
    "def extract(path, timeStart, timeEnd):\n",
    "    data_collected = pd.read_csv(path)\n",
    "    data_collected.created_at = pd.to_datetime(data_collected.created_at)\n",
    "\n",
    "    timeStart = pd.Timestamp(timeStart[0], timeStart[1], timeStart[2], timeStart[3]-8, timeStart[4])\n",
    "    timeStart = timeStart.tz_localize('UTC')\n",
    "    timeEnd = pd.Timestamp(timeEnd[0], timeEnd[1], timeEnd[2], timeEnd[3]-8, timeEnd[4])\n",
    "    timeEnd = timeEnd.tz_localize('UTC')\n",
    "\n",
    "    data_collected = data_collected[timeStart <= data_collected.created_at]\n",
    "    data_collected = data_collected[data_collected.created_at <= timeEnd]\n",
    "    print(data_collected.head(2))\n",
    "    print(data_collected.tail(2))\n",
    "    \n",
    "    value = data_collected['value']\n",
    "    created_at =  data_collected['created_at']\n",
    "    df = pd.DataFrame()\n",
    "    df['value'] = value\n",
    "    df['created_at'] = created_at\n",
    "\n",
    "    return df"
   ]
  },
  {
   "cell_type": "code",
   "execution_count": 299,
   "metadata": {},
   "outputs": [
    {
     "name": "stdout",
     "output_type": "stream",
     "text": [
      "                             id       value  feed_id  \\\n",
      "836  0F6C10P34GCGVX1WNY1TMCAF5E  139.300003  2408569   \n",
      "837  0F6C10XT6THW4EHWQPZWF927NX  134.899994  2408569   \n",
      "\n",
      "                   created_at  lat  lon  ele  \n",
      "836 2022-12-16 07:20:02+00:00  0.0  0.0  0.0  \n",
      "837 2022-12-16 07:20:28+00:00  0.0  0.0  0.0  \n",
      "                             id  value  feed_id                created_at  \\\n",
      "973  0F6C236904RBQBSRJXAGSZK1B8   29.6  2408569 2022-12-16 08:20:20+00:00   \n",
      "974  0F6C23E067EFSJNEMKF680HZQ3   25.1  2408569 2022-12-16 08:20:46+00:00   \n",
      "\n",
      "     lat  lon  ele  \n",
      "973  0.0  0.0  0.0  \n",
      "974  0.0  0.0  0.0  \n",
      "                            id       value  feed_id                created_at  \\\n",
      "86  0F6C10RS91YA7CT9Q7ARBCEDBY  128.399994  2409856 2022-12-16 07:20:11+00:00   \n",
      "87  0F6C110G3D5QCP80EXNPA379C2  126.500000  2409856 2022-12-16 07:20:36+00:00   \n",
      "\n",
      "    lat  lon  ele  \n",
      "86  0.0  0.0  0.0  \n",
      "87  0.0  0.0  0.0  \n",
      "                             id      value  feed_id                created_at  \\\n",
      "223  0F6C239602Q2CTHBAB8YST8CF6  27.299999  2409856 2022-12-16 08:20:30+00:00   \n",
      "224  0F6C23GXATNA8KBZTM2S5QBYKP  25.400000  2409856 2022-12-16 08:20:55+00:00   \n",
      "\n",
      "     lat  lon  ele  \n",
      "223  0.0  0.0  0.0  \n",
      "224  0.0  0.0  0.0  \n",
      "                            id  value  feed_id                created_at  lat  \\\n",
      "54  0F6C10P6M6REX6W1YSSGYXZ4NT  195.4  2409789 2022-12-16 07:20:03+00:00  NaN   \n",
      "55  0F6C10Z78DAF96RXSV3RD5GRPJ  195.4  2409789 2022-12-16 07:20:32+00:00  NaN   \n",
      "\n",
      "    lon  ele  \n",
      "54  NaN  NaN  \n",
      "55  NaN  NaN  \n",
      "                             id  value  feed_id                created_at  \\\n",
      "175  0F6C235EE8T4SMVB796P0AYJJV   33.3  2409789 2022-12-16 08:20:18+00:00   \n",
      "176  0F6C23EFJGN5Z8XJA5WA2G8QAP   33.3  2409789 2022-12-16 08:20:47+00:00   \n",
      "\n",
      "     lat  lon  ele  \n",
      "175  NaN  NaN  NaN  \n",
      "176  NaN  NaN  NaN  \n",
      "                             id      value  feed_id                created_at  \\\n",
      "190  0F6C10P33BQ85S9Y2XXHKPZCRT  76.199997  2409715 2022-12-16 07:20:02+00:00   \n",
      "191  0F6C10XT5SAZP4BN2C99VVX81M  76.300003  2409715 2022-12-16 07:20:28+00:00   \n",
      "\n",
      "     lat  lon  ele  \n",
      "190  0.0  0.0  0.0  \n",
      "191  0.0  0.0  0.0  \n",
      "                             id  value  feed_id                created_at  \\\n",
      "327  0F6C2368ZAPMPJS078ABJ8MPYK   18.0  2409715 2022-12-16 08:20:20+00:00   \n",
      "328  0F6C23E090CRS79RV7RHC5D28E   15.3  2409715 2022-12-16 08:20:46+00:00   \n",
      "\n",
      "     lat  lon  ele  \n",
      "327  0.0  0.0  0.0  \n",
      "328  0.0  0.0  0.0  \n",
      "                            id      value  feed_id                created_at  \\\n",
      "88  0F6C10RS8MJ3GAXWQZ0W2E12DB  65.699997  2409857 2022-12-16 07:20:11+00:00   \n",
      "89  0F6C110G1WH5NFR4PKQRF47AZG  66.300003  2409857 2022-12-16 07:20:36+00:00   \n",
      "\n",
      "    lat  lon  ele  \n",
      "88  0.0  0.0  0.0  \n",
      "89  0.0  0.0  0.0  \n",
      "                             id  value  feed_id                created_at  \\\n",
      "226  0F6C2396150PWGEVGGMQTWF5WN   14.4  2409857 2022-12-16 08:20:30+00:00   \n",
      "227  0F6C23GX9QWWD2GSZAGSWVPPH7   14.2  2409857 2022-12-16 08:20:55+00:00   \n",
      "\n",
      "     lat  lon  ele  \n",
      "226  0.0  0.0  0.0  \n",
      "227  0.0  0.0  0.0  \n",
      "                            id  value  feed_id                created_at  lat  \\\n",
      "56  0F6C10NWC8DMTK4Q6M3E566EN1   89.8  2409788 2022-12-16 07:20:02+00:00  NaN   \n",
      "57  0F6C10YWTCR58ZR94S1NRFHRM3   89.8  2409788 2022-12-16 07:20:31+00:00  NaN   \n",
      "\n",
      "    lon  ele  \n",
      "56  NaN  NaN  \n",
      "57  NaN  NaN  \n",
      "                             id  value  feed_id                created_at  \\\n",
      "177  0F6C2354NVPZV6X6KW8TM46BPP   15.3  2409788 2022-12-16 08:20:17+00:00   \n",
      "178  0F6C23E56A3KBZAFN7ZN6TFGPR   15.3  2409788 2022-12-16 08:20:46+00:00   \n",
      "\n",
      "     lat  lon  ele  \n",
      "177  NaN  NaN  NaN  \n",
      "178  NaN  NaN  NaN  \n"
     ]
    }
   ],
   "source": [
    "exp1_pm10_posC = extract('data/pm10-20221223-1309.csv', (2022, 12, 16, 15, 20), (2022, 12, 16, 16, 21))\n",
    "exp1_pm10_posB = extract('data/pm10B-20221223-1310.csv', (2022, 12, 16, 15, 20), (2022, 12, 16, 16, 21))\n",
    "exp1_pm10_posA = extract('data/pm10-20221223-1312.csv', (2022, 12, 16, 15, 20), (2022, 12, 16, 16, 21))\n",
    "\n",
    "exp1_pm25_posC = extract('data/pm25-20221223-1310.csv', (2022, 12, 16, 15, 20), (2022, 12, 16, 16, 21))\n",
    "exp1_pm25_posB = extract('data/pm25B-20221223-1311.csv', (2022, 12, 16, 15, 20), (2022, 12, 16, 16, 21))\n",
    "exp1_pm25_posA = extract('data/pm25-20221223-1313.csv', (2022, 12, 16, 15, 20), (2022, 12, 16, 16, 21))\n"
   ]
  },
  {
   "cell_type": "code",
   "execution_count": 300,
   "metadata": {},
   "outputs": [
    {
     "name": "stdout",
     "output_type": "stream",
     "text": [
      "                              id       value  feed_id  \\\n",
      "1132  0F6E8Y7E50E0DBHF4FKJH2CT1P  150.800003  2408569   \n",
      "1133  0F6E8YF5A9HKTJ1C3SJKRQJ41R  141.100006  2408569   \n",
      "\n",
      "                    created_at  lat  lon  ele  \n",
      "1132 2022-12-19 02:22:16+00:00  0.0  0.0  0.0  \n",
      "1133 2022-12-19 02:22:42+00:00  0.0  0.0  0.0  \n",
      "                              id  value  feed_id                created_at  \\\n",
      "1290  0F6EA4MH14SR7MWT7R57GX4MZ2   26.5  2408569 2022-12-19 03:29:24+00:00   \n",
      "1291  0F6EA4W88W79BS1ZECMZH0AQEW   28.1  2408569 2022-12-19 03:29:49+00:00   \n",
      "\n",
      "      lat  lon  ele  \n",
      "1290  0.0  0.0  0.0  \n",
      "1291  0.0  0.0  0.0  \n",
      "                             id       value  feed_id  \\\n",
      "394  0F6E8Y4B2JSCNA1PJZGQC35J5K  152.699997  2409856   \n",
      "395  0F6E8YC276DDH62NMXNSSGZ7T4  154.199997  2409856   \n",
      "\n",
      "                   created_at  lat  lon  ele  \n",
      "394 2022-12-19 02:22:06+00:00  0.0  0.0  0.0  \n",
      "395 2022-12-19 02:22:32+00:00  0.0  0.0  0.0  \n",
      "                             id      value  feed_id                created_at  \\\n",
      "552  0F6EA4GC22X5DPXYNGX90ETFQN  32.299999  2409856 2022-12-19 03:29:10+00:00   \n",
      "553  0F6EA4R3771EGPNQ10PCB3741Z  30.299999  2409856 2022-12-19 03:29:36+00:00   \n",
      "\n",
      "     lat  lon  ele  \n",
      "552  0.0  0.0  0.0  \n",
      "553  0.0  0.0  0.0  \n",
      "                             id  value  feed_id                created_at  \\\n",
      "241  0F6E8Y3PN2JKDG8WH569EV1XC3  244.2  2409789 2022-12-19 02:22:04+00:00   \n",
      "242  0F6E8YCRB708AVSYEKNRJ3M36S  244.2  2409789 2022-12-19 02:22:34+00:00   \n",
      "\n",
      "     lat  lon  ele  \n",
      "241  NaN  NaN  NaN  \n",
      "242  NaN  NaN  NaN  \n",
      "                             id  value  feed_id                created_at  \\\n",
      "376  0F6EA4EYMAMCR8MEH4TYNVJ95K   42.0  2409789 2022-12-19 03:29:06+00:00   \n",
      "377  0F6EA4R471F4AZEHSQB5T6S99Q   42.0  2409789 2022-12-19 03:29:36+00:00   \n",
      "\n",
      "     lat  lon  ele  \n",
      "376  NaN  NaN  NaN  \n",
      "377  NaN  NaN  NaN  \n",
      "                             id      value  feed_id                created_at  \\\n",
      "486  0F6E8Y7E4N30G8BMNW01QEDGAS  65.599998  2409715 2022-12-19 02:22:16+00:00   \n",
      "487  0F6E8YF5ACHCKV1Z5CF1JSN849  64.800003  2409715 2022-12-19 02:22:42+00:00   \n",
      "\n",
      "     lat  lon  ele  \n",
      "486  0.0  0.0  0.0  \n",
      "487  0.0  0.0  0.0  \n",
      "                             id  value  feed_id                created_at  \\\n",
      "644  0F6EA4MH0F0M84B2FWN1WRZC1F   13.1  2409715 2022-12-19 03:29:24+00:00   \n",
      "645  0F6EA4W87TSYR4CFXW30FV0PZ3   14.0  2409715 2022-12-19 03:29:49+00:00   \n",
      "\n",
      "     lat  lon  ele  \n",
      "644  0.0  0.0  0.0  \n",
      "645  0.0  0.0  0.0  \n",
      "                             id      value  feed_id                created_at  \\\n",
      "397  0F6E8Y4B2WDJHAC3MRRTYCAST1  70.300003  2409857 2022-12-19 02:22:06+00:00   \n",
      "398  0F6E8YC23TGVHVX4NT3B9CBW0E  70.900002  2409857 2022-12-19 02:22:32+00:00   \n",
      "\n",
      "     lat  lon  ele  \n",
      "397  0.0  0.0  0.0  \n",
      "398  0.0  0.0  0.0  \n",
      "                             id      value  feed_id                created_at  \\\n",
      "555  0F6EA4GC23WSK1C2P582GBJQQY  16.700001  2409857 2022-12-19 03:29:10+00:00   \n",
      "556  0F6EA4R373YYM69Q60WKQBAEPY  15.400000  2409857 2022-12-19 03:29:36+00:00   \n",
      "\n",
      "     lat  lon  ele  \n",
      "555  0.0  0.0  0.0  \n",
      "556  0.0  0.0  0.0  \n",
      "                             id  value  feed_id                created_at  \\\n",
      "243  0F6E8Y3CG6E4VTXBRHXRHFRTY5   95.9  2409788 2022-12-19 02:22:03+00:00   \n",
      "244  0F6E8YCDNGPXCX4HB32WDW5WWW   95.9  2409788 2022-12-19 02:22:33+00:00   \n",
      "\n",
      "     lat  lon  ele  \n",
      "243  NaN  NaN  NaN  \n",
      "244  NaN  NaN  NaN  \n",
      "                             id  value  feed_id                created_at  \\\n",
      "378  0F6EA4EMX0NBVQTB82GYKZST5J   18.1  2409788 2022-12-19 03:29:05+00:00   \n",
      "379  0F6EA4QQXV1JKA9M3FZRA00TPT   18.1  2409788 2022-12-19 03:29:34+00:00   \n",
      "\n",
      "     lat  lon  ele  \n",
      "378  NaN  NaN  NaN  \n",
      "379  NaN  NaN  NaN  \n"
     ]
    }
   ],
   "source": [
    "exp2_pm10_posC = extract('data/pm10-20221223-1309.csv', (2022, 12, 19, 10, 22), (2022, 12, 19, 11, 30))\n",
    "exp2_pm10_posB = extract('data/pm10B-20221223-1310.csv', (2022, 12, 19, 10, 22), (2022, 12, 19, 11, 30))\n",
    "exp2_pm10_posA = extract('data/pm10-20221223-1312.csv', (2022, 12, 19, 10, 22), (2022, 12, 19, 11, 30))\n",
    "\n",
    "exp2_pm25_posC = extract('data/pm25-20221223-1310.csv', (2022, 12, 19, 10, 22), (2022, 12, 19, 11, 30))\n",
    "exp2_pm25_posB = extract('data/pm25B-20221223-1311.csv', (2022, 12, 19, 10, 22), (2022, 12, 19, 11, 30))\n",
    "exp2_pm25_posA = extract('data/pm25-20221223-1313.csv', (2022, 12, 19, 10, 22), (2022, 12, 19, 11, 30))\n"
   ]
  },
  {
   "cell_type": "code",
   "execution_count": 301,
   "metadata": {},
   "outputs": [
    {
     "name": "stdout",
     "output_type": "stream",
     "text": [
      "                              id       value  feed_id  \\\n",
      "1450  0F6EBCHG7BC0M29EDGDG1X2520  173.699997  2408569   \n",
      "1451  0F6EBCS70H61EQ4C3SB1PH2GKJ  146.199997  2408569   \n",
      "\n",
      "                    created_at  lat  lon  ele  \n",
      "1450 2022-12-19 04:39:08+00:00  0.0  0.0  0.0  \n",
      "1451 2022-12-19 04:39:34+00:00  0.0  0.0  0.0  \n",
      "                              id  value  feed_id                created_at  \\\n",
      "1601  0F6ECH8MK35HEGAKJAEPS1GR9S   26.9  2408569 2022-12-19 05:43:19+00:00   \n",
      "1602  0F6ECHG55B9BT5F8B7CQHG250S   25.4  2408569 2022-12-19 05:43:44+00:00   \n",
      "\n",
      "      lat  lon  ele  \n",
      "1601  0.0  0.0  0.0  \n",
      "1602  0.0  0.0  0.0  \n",
      "                             id       value  feed_id  \\\n",
      "713  0F6EBCFHVSC1JBTK9HMMECTPKE  168.100006  2409856   \n",
      "714  0F6EBCQBTQ4579EGGXQ1RSZ2DT  164.199997  2409856   \n",
      "\n",
      "                   created_at  lat  lon  ele  \n",
      "713 2022-12-19 04:39:02+00:00  0.0  0.0  0.0  \n",
      "714 2022-12-19 04:39:27+00:00  0.0  0.0  0.0  \n",
      "                             id      value  feed_id                created_at  \\\n",
      "864  0F6ECH7ZVDYCNYQ6GGY2WXP1PS  27.799999  2409856 2022-12-19 05:43:17+00:00   \n",
      "865  0F6ECHFY5V5XCWHDBMZBCHTNR2  26.000000  2409856 2022-12-19 05:43:43+00:00   \n",
      "\n",
      "     lat  lon  ele  \n",
      "864  0.0  0.0  0.0  \n",
      "865  0.0  0.0  0.0  \n",
      "                             id  value  feed_id                created_at  \\\n",
      "412  0F6EBCM537DPHP9VK0MV7J4MCV   34.3  2409789 2022-12-19 04:39:17+00:00   \n",
      "413  0F6EBCX8CE4YCKBBAYW70V9J8H   34.3  2409789 2022-12-19 04:39:47+00:00   \n",
      "\n",
      "     lat  lon  ele  \n",
      "412  NaN  NaN  NaN  \n",
      "413  NaN  NaN  NaN  \n",
      "                             id  value  feed_id                created_at  \\\n",
      "538  0F6ECH5XTPXX4YPWJNG2HAAEYB   28.6  2409789 2022-12-19 05:43:10+00:00   \n",
      "539  0F6ECHF1BJ7MM3N093Z6KTH9QP   28.6  2409789 2022-12-19 05:43:40+00:00   \n",
      "\n",
      "     lat  lon  ele  \n",
      "538  NaN  NaN  NaN  \n",
      "539  NaN  NaN  NaN  \n",
      "                             id       value  feed_id  \\\n",
      "804  0F6EBCHG6H8X54D35S4QTG0GR8  106.699997  2409715   \n",
      "805  0F6EBCS71C1WY6DPSSKQ0EQ3MY   89.400002  2409715   \n",
      "\n",
      "                   created_at  lat  lon  ele  \n",
      "804 2022-12-19 04:39:08+00:00  0.0  0.0  0.0  \n",
      "805 2022-12-19 04:39:34+00:00  0.0  0.0  0.0  \n",
      "                             id      value  feed_id                created_at  \\\n",
      "955  0F6ECH82XS0B2Q6R2VR14NWFGZ  16.500000  2409715 2022-12-19 05:43:17+00:00   \n",
      "956  0F6ECHG55RTFZ4CBXPJ2AQA32S  16.299999  2409715 2022-12-19 05:43:44+00:00   \n",
      "\n",
      "     lat  lon  ele  \n",
      "955  0.0  0.0  0.0  \n",
      "956  0.0  0.0  0.0  \n",
      "                             id       value  feed_id  \\\n",
      "716  0F6EBCFHTYT1NCKZWC28RB7H28  109.800003  2409857   \n",
      "717  0F6EBCQBT9A89QSBHCRM5ZMDM2  111.199997  2409857   \n",
      "\n",
      "                   created_at  lat  lon  ele  \n",
      "716 2022-12-19 04:39:02+00:00  0.0  0.0  0.0  \n",
      "717 2022-12-19 04:39:27+00:00  0.0  0.0  0.0  \n",
      "                             id      value  feed_id                created_at  \\\n",
      "867  0F6ECH7ZTE461ZZ4478NYHP9DR  19.799999  2409857 2022-12-19 05:43:17+00:00   \n",
      "868  0F6ECHFY74G675KX5538PK1JSR  18.600000  2409857 2022-12-19 05:43:43+00:00   \n",
      "\n",
      "     lat  lon  ele  \n",
      "867  0.0  0.0  0.0  \n",
      "868  0.0  0.0  0.0  \n",
      "                             id  value  feed_id                created_at  \\\n",
      "414  0F6EBCKTTFCPW7WDZYX9EWKPGQ   20.8  2409788 2022-12-19 04:39:16+00:00   \n",
      "415  0F6EBCWXVTD0WX9CT3YREPPRXZ   20.8  2409788 2022-12-19 04:39:46+00:00   \n",
      "\n",
      "     lat  lon  ele  \n",
      "414  NaN  NaN  NaN  \n",
      "415  NaN  NaN  NaN  \n",
      "                             id  value  feed_id                created_at  \\\n",
      "540  0F6ECH5KQMR6BQ7PMT4PZA692V   16.7  2409788 2022-12-19 05:43:09+00:00   \n",
      "541  0F6ECHEQGWAESJ0449X6FPC9JM   16.7  2409788 2022-12-19 05:43:39+00:00   \n",
      "\n",
      "     lat  lon  ele  \n",
      "540  NaN  NaN  NaN  \n",
      "541  NaN  NaN  NaN  \n"
     ]
    }
   ],
   "source": [
    "exp3_pm10_posC = extract('data/pm10-20221223-1309.csv', (2022, 12, 19, 12, 39), (2022, 12, 19, 13, 44))\n",
    "exp3_pm10_posB = extract('data/pm10B-20221223-1310.csv', (2022, 12, 19, 12, 39), (2022, 12, 19, 13, 44))\n",
    "exp3_pm10_posA = extract('data/pm10-20221223-1312.csv', (2022, 12, 19, 12, 39), (2022, 12, 19, 13, 44))\n",
    "\n",
    "exp3_pm25_posC = extract('data/pm25-20221223-1310.csv', (2022, 12, 19, 12, 39), (2022, 12, 19, 13, 44))\n",
    "exp3_pm25_posB = extract('data/pm25B-20221223-1311.csv', (2022, 12, 19, 12, 39), (2022, 12, 19, 13, 44))\n",
    "exp3_pm25_posA = extract('data/pm25-20221223-1313.csv', (2022, 12, 19, 12, 39), (2022, 12, 19, 13, 44))\n"
   ]
  },
  {
   "cell_type": "code",
   "execution_count": 302,
   "metadata": {},
   "outputs": [
    {
     "name": "stdout",
     "output_type": "stream",
     "text": [
      "                              id       value  feed_id  \\\n",
      "1763  0F6EDRMK11HZKHDDA99C2QF5BG  147.199997  2408569   \n",
      "1764  0F6EDRWEZ9WN6X2RXA606J0VDX  139.899994  2408569   \n",
      "\n",
      "                    created_at  lat  lon  ele  \n",
      "1763 2022-12-19 06:52:08+00:00  0.0  0.0  0.0  \n",
      "1764 2022-12-19 06:52:33+00:00  0.0  0.0  0.0  \n",
      "                              id      value  feed_id  \\\n",
      "1917  0F6EEY34SZQJGGB7KBDE8BYZF0  22.200001  2408569   \n",
      "1918  0F6EEYAVTNPDF65YW3N40XQ0C1  22.600000  2408569   \n",
      "\n",
      "                    created_at  lat  lon  ele  \n",
      "1917 2022-12-19 07:57:35+00:00  0.0  0.0  0.0  \n",
      "1918 2022-12-19 07:58:00+00:00  0.0  0.0  0.0  \n",
      "                              id       value  feed_id  \\\n",
      "1026  0F6EDRKZZ1JRNRBF4J8FB571EH  145.000000  2409856   \n",
      "1027  0F6EDRVPJEVGNZ4SQAFYV7XV09  143.300003  2409856   \n",
      "\n",
      "                    created_at  lat  lon  ele  \n",
      "1026 2022-12-19 06:52:06+00:00  0.0  0.0  0.0  \n",
      "1027 2022-12-19 06:52:31+00:00  0.0  0.0  0.0  \n",
      "                              id      value  feed_id  \\\n",
      "1180  0F6EEY20WJVTC7V0XZ189D05AD  21.600000  2409856   \n",
      "1181  0F6EEY9QZVJKN3ZQMSYRP4XBVP  22.200001  2409856   \n",
      "\n",
      "                    created_at  lat  lon  ele  \n",
      "1180 2022-12-19 07:57:31+00:00  0.0  0.0  0.0  \n",
      "1181 2022-12-19 07:57:57+00:00  0.0  0.0  0.0  \n",
      "                             id  value  feed_id                created_at  \\\n",
      "635  0F6EDRJNMV3YMP2XDFEH98G00Q  273.2  2409789 2022-12-19 06:52:01+00:00   \n",
      "636  0F6EDRVSV169HTGG3419ZXP0XG  273.2  2409789 2022-12-19 06:52:31+00:00   \n",
      "\n",
      "     lat  lon  ele  \n",
      "635  NaN  NaN  NaN  \n",
      "636  NaN  NaN  NaN  \n",
      "                             id  value  feed_id                created_at  \\\n",
      "765  0F6EEY11CXGJRXA5QXPT0HTVCS   35.7  2409789 2022-12-19 07:57:28+00:00   \n",
      "766  0F6EEYA7DSCHE72Y2FK60V6HY5   35.7  2409789 2022-12-19 07:57:58+00:00   \n",
      "\n",
      "     lat  lon  ele  \n",
      "765  NaN  NaN  NaN  \n",
      "766  NaN  NaN  NaN  \n",
      "                              id       value  feed_id  \\\n",
      "1117  0F6EDRMK1P4TVMXSZ1DF1ZP12F  112.599998  2409715   \n",
      "1118  0F6EDRWF3FQANB2Q3JT7DDX9RC  110.199997  2409715   \n",
      "\n",
      "                    created_at  lat  lon  ele  \n",
      "1117 2022-12-19 06:52:08+00:00  0.0  0.0  0.0  \n",
      "1118 2022-12-19 06:52:33+00:00  0.0  0.0  0.0  \n",
      "                              id      value  feed_id  \\\n",
      "1271  0F6EEY34RSFH98FJRZ2G8NS3QY  17.100000  2409715   \n",
      "1272  0F6EEYAVVRYDT9W2WZ8RMP6VEF  16.799999  2409715   \n",
      "\n",
      "                    created_at  lat  lon  ele  \n",
      "1271 2022-12-19 07:57:35+00:00  0.0  0.0  0.0  \n",
      "1272 2022-12-19 07:58:00+00:00  0.0  0.0  0.0  \n",
      "                              id       value  feed_id  \\\n",
      "1029  0F6EDRM03BR54PTYFM3DE0QVS6  114.300003  2409857   \n",
      "1030  0F6EDRVPH8XR5AQACRD6C5S106  115.199997  2409857   \n",
      "\n",
      "                    created_at  lat  lon  ele  \n",
      "1029 2022-12-19 06:52:06+00:00  0.0  0.0  0.0  \n",
      "1030 2022-12-19 06:52:31+00:00  0.0  0.0  0.0  \n",
      "                              id      value  feed_id  \\\n",
      "1183  0F6EEY20RQNKTN0BG7JVMSAV02  15.700000  2409857   \n",
      "1184  0F6EEY9QX35H37W48KX9G6S92K  16.799999  2409857   \n",
      "\n",
      "                    created_at  lat  lon  ele  \n",
      "1183 2022-12-19 07:57:31+00:00  0.0  0.0  0.0  \n",
      "1184 2022-12-19 07:57:57+00:00  0.0  0.0  0.0  \n",
      "                             id  value  feed_id                created_at  \\\n",
      "637  0F6EDRJBRNZG6XAG9ECTGTYCDR  176.6  2409788 2022-12-19 06:52:00+00:00   \n",
      "638  0F6EDRVFHS4HT1A2QRBH1NWS5N  176.6  2409788 2022-12-19 06:52:30+00:00   \n",
      "\n",
      "     lat  lon  ele  \n",
      "637  NaN  NaN  NaN  \n",
      "638  NaN  NaN  NaN  \n",
      "                             id  value  feed_id                created_at  \\\n",
      "767  0F6EEY0QNFKNQMT4HB52FPS4VN   22.2  2409788 2022-12-19 07:57:27+00:00   \n",
      "768  0F6EEY9XDKPKNQXK1ZV5V0AV19   22.2  2409788 2022-12-19 07:57:57+00:00   \n",
      "\n",
      "     lat  lon  ele  \n",
      "767  NaN  NaN  NaN  \n",
      "768  NaN  NaN  NaN  \n"
     ]
    }
   ],
   "source": [
    "exp4_pm10_posA = extract('data/pm10-20221223-1309.csv', (2022, 12, 19, 14, 52), (2022, 12, 19, 15, 58))\n",
    "exp4_pm10_posB = extract('data/pm10B-20221223-1310.csv', (2022, 12, 19, 14, 52), (2022, 12, 19, 15, 58))\n",
    "exp4_pm10_posC = extract('data/pm10-20221223-1312.csv', (2022, 12, 19, 14, 52), (2022, 12, 19, 15, 58))\n",
    "\n",
    "exp4_pm25_posA = extract('data/pm25-20221223-1310.csv', (2022, 12, 19, 14, 52), (2022, 12, 19, 15, 58))\n",
    "exp4_pm25_posB = extract('data/pm25B-20221223-1311.csv', (2022, 12, 19, 14, 52), (2022, 12, 19, 15, 58))\n",
    "exp4_pm25_posC = extract('data/pm25-20221223-1313.csv', (2022, 12, 19, 14, 52), (2022, 12, 19, 15, 58))\n",
    "\n"
   ]
  },
  {
   "cell_type": "code",
   "execution_count": null,
   "metadata": {},
   "outputs": [
    {
     "name": "stdout",
     "output_type": "stream",
     "text": [
      "                              id       value  feed_id  \\\n",
      "1930  0F6EF18H0GE1DXFG467026G9KA  135.000000  2408569   \n",
      "1931  0F6EF1G7WKBX8QJXZMYK6WR1YG  132.899994  2408569   \n",
      "\n",
      "                    created_at  lat  lon  ele  \n",
      "1930 2022-12-19 08:03:07+00:00  0.0  0.0  0.0  \n",
      "1931 2022-12-19 08:03:32+00:00  0.0  0.0  0.0  \n",
      "                              id      value  feed_id  \\\n",
      "2046  0F6EFXFCQ7XCNTMT6PW3TFHAB9  35.400002  2408569   \n",
      "2047  0F6EFXQ3T1RVQ30FH3F5N47T15  35.500000  2408569   \n",
      "\n",
      "                    created_at  lat  lon  ele  \n",
      "2046 2022-12-19 08:52:26+00:00  0.0  0.0  0.0  \n",
      "2047 2022-12-19 08:52:51+00:00  0.0  0.0  0.0  \n",
      "                              id       value  feed_id  \\\n",
      "1193  0F6EF175TN93YZBTTCC99QRB7W  135.800003  2409856   \n",
      "1194  0F6EF1F0HSJEN4WN89Q89MDSRD  140.300003  2409856   \n",
      "\n",
      "                    created_at  lat  lon  ele  \n",
      "1193 2022-12-19 08:03:03+00:00  0.0  0.0  0.0  \n",
      "1194 2022-12-19 08:03:28+00:00  0.0  0.0  0.0  \n",
      "                              id      value  feed_id  \\\n",
      "1310  0F6EFXN2KE4TBSYM500AY72VYC  39.700001  2409856   \n",
      "1311  0F6EFXWWH6HHV4D6YYQKPWRZKQ  39.000000  2409856   \n",
      "\n",
      "                    created_at  lat  lon  ele  \n",
      "1310 2022-12-19 08:52:44+00:00  0.0  0.0  0.0  \n",
      "1311 2022-12-19 08:53:10+00:00  0.0  0.0  0.0  \n",
      "                             id  value  feed_id                created_at  \\\n",
      "777  0F6EF1EP7D9HN45YR49BNW9QBY  204.1  2409789 2022-12-19 08:03:27+00:00   \n",
      "778  0F6EF1QX96TSH1A0WCBXSECNNK  204.1  2409789 2022-12-19 08:03:58+00:00   \n",
      "\n",
      "     lat  lon  ele  \n",
      "777  NaN  NaN  NaN  \n",
      "778  NaN  NaN  NaN  \n",
      "                             id  value  feed_id                created_at  \\\n",
      "875  0F6EFXRYHTM41K7G3FBPF0Q1YX   54.9  2409789 2022-12-19 08:52:57+00:00   \n",
      "876  0F6EFY226K0QQ5MW9H3A8D6A1G   49.6  2409789 2022-12-19 08:53:27+00:00   \n",
      "\n",
      "     lat  lon  ele  \n",
      "875  NaN  NaN  NaN  \n",
      "876  NaN  NaN  NaN  \n",
      "                              id      value  feed_id  \\\n",
      "1284  0F6EF18H8FSH2P86J9XNS2X3SP  58.200001  2409715   \n",
      "1285  0F6EF1G7XKM34KNX9CV8FH9YBJ  58.299999  2409715   \n",
      "\n",
      "                    created_at  lat  lon  ele  \n",
      "1284 2022-12-19 08:03:07+00:00  0.0  0.0  0.0  \n",
      "1285 2022-12-19 08:03:32+00:00  0.0  0.0  0.0  \n",
      "                              id      value  feed_id  \\\n",
      "1400  0F6EFXFCQF6X22WA0BD9MFQ3K8  17.700001  2409715   \n",
      "1401  0F6EFXQ3RP5D0P4FQ8F7QN5WKJ  16.799999  2409715   \n",
      "\n",
      "                    created_at  lat  lon  ele  \n",
      "1400 2022-12-19 08:52:26+00:00  0.0  0.0  0.0  \n",
      "1401 2022-12-19 08:52:51+00:00  0.0  0.0  0.0  \n",
      "                              id      value  feed_id  \\\n",
      "1196  0F6EF175RBY3CAS2DM2K75GSZM  59.099998  2409857   \n",
      "1197  0F6EF1F0HD9ZMCYA7V2FGB7FSD  63.599998  2409857   \n",
      "\n",
      "                    created_at  lat  lon  ele  \n",
      "1196 2022-12-19 08:03:03+00:00  0.0  0.0  0.0  \n",
      "1197 2022-12-19 08:03:28+00:00  0.0  0.0  0.0  \n",
      "                              id      value  feed_id  \\\n",
      "1313  0F6EFXN2KDX58FMFWBPN2P37KK  19.400000  2409857   \n",
      "1314  0F6EFXWWG182QQJG02PET93WQK  17.299999  2409857   \n",
      "\n",
      "                    created_at  lat  lon  ele  \n",
      "1313 2022-12-19 08:52:44+00:00  0.0  0.0  0.0  \n",
      "1314 2022-12-19 08:53:10+00:00  0.0  0.0  0.0  \n",
      "                             id  value  feed_id                created_at  \\\n",
      "779  0F6EF1EC3VYKSS38W86SWVPVXF   82.9  2409788 2022-12-19 08:03:26+00:00   \n",
      "780  0F6EF1QJ679RXA1QE3XC2PKYGT   82.9  2409788 2022-12-19 08:03:56+00:00   \n",
      "\n",
      "     lat  lon  ele  \n",
      "779  NaN  NaN  NaN  \n",
      "780  NaN  NaN  NaN  \n",
      "                             id  value  feed_id                created_at  \\\n",
      "877  0F6EFXR8VP8FA24ZP49E0YMJFE   25.0  2409788 2022-12-19 08:52:55+00:00   \n",
      "878  0F6EFY1R15EGAAQZRB8S2EHAT6   21.5  2409788 2022-12-19 08:53:26+00:00   \n",
      "\n",
      "     lat  lon  ele  \n",
      "877  NaN  NaN  NaN  \n",
      "878  NaN  NaN  NaN  \n"
     ]
    },
    {
     "ename": "",
     "evalue": "",
     "output_type": "error",
     "traceback": [
      "\u001b[1;31mnotebook controller is DISPOSED. \n",
      "\u001b[1;31mView Jupyter <a href='command:jupyter.viewOutput'>log</a> for further details."
     ]
    },
    {
     "ename": "",
     "evalue": "",
     "output_type": "error",
     "traceback": [
      "\u001b[1;31mnotebook controller is DISPOSED. \n",
      "\u001b[1;31mView Jupyter <a href='command:jupyter.viewOutput'>log</a> for further details."
     ]
    }
   ],
   "source": [
    "exp5_pm10_posA = extract('data/pm10-20221223-1309.csv', (2022, 12, 19, 16, 3), (2022, 12, 19, 17, 52))\n",
    "exp5_pm10_posB = extract('data/pm10B-20221223-1310.csv', (2022, 12, 19, 16, 3), (2022, 12, 19, 17, 52))\n",
    "exp5_pm10_posC = extract('data/pm10-20221223-1312.csv', (2022, 12, 19, 16, 3), (2022, 12, 19, 17, 52))\n",
    "\n",
    "exp5_pm25_posA = extract('data/pm25-20221223-1310.csv', (2022, 12, 19, 16, 3), (2022, 12, 19, 17, 52))\n",
    "exp5_pm25_posB = extract('data/pm25B-20221223-1311.csv', (2022, 12, 19, 16, 3), (2022, 12, 19, 17, 52))\n",
    "exp5_pm25_posC = extract('data/pm25-20221223-1313.csv', (2022, 12, 19, 16, 3), (2022, 12, 19, 17, 52))"
   ]
  },
  {
   "cell_type": "code",
   "execution_count": 303,
   "metadata": {},
   "outputs": [
    {
     "name": "stdout",
     "output_type": "stream",
     "text": [
      "                              id      value  feed_id  \\\n",
      "2076  0F6F2TV6WSFY0SVFSBQZ21DFZZ  93.800003  2408569   \n",
      "2077  0F6F2V4ENWD7J7E310WNMXTBVN  89.300003  2408569   \n",
      "\n",
      "                    created_at  lat  lon  ele  \n",
      "2076 2022-12-20 02:30:23+00:00  0.0  0.0  0.0  \n",
      "2077 2022-12-20 02:30:54+00:00  0.0  0.0  0.0  \n",
      "                              id      value  feed_id  \\\n",
      "2219  0F6F44Z4PRY5J6MR9R9ZKNP5JG  46.799999  2408569   \n",
      "2220  0F6F458CKZHKAFAAXDN4DWS45A  47.700001  2408569   \n",
      "\n",
      "                    created_at  lat  lon  ele  \n",
      "2219 2022-12-20 03:44:00+00:00  0.0  0.0  0.0  \n",
      "2220 2022-12-20 03:44:30+00:00  0.0  0.0  0.0  \n",
      "                              id      value  feed_id  \\\n",
      "1338  0F6F2TPCMDAR6EQKHDA2GEBTDY  91.400002  2409856   \n",
      "1339  0F6F2TZRMZDAAE6TRTN46B2EAQ  89.000000  2409856   \n",
      "\n",
      "                    created_at  lat  lon  ele  \n",
      "1338 2022-12-20 02:30:07+00:00  0.0  0.0  0.0  \n",
      "1339 2022-12-20 02:30:38+00:00  0.0  0.0  0.0  \n",
      "                              id      value  feed_id  \\\n",
      "1482  0F6F4580N6YQ46CDEKJPGNWASS  42.400002  2409856   \n",
      "1483  0F6F45HCD98M52JQHERWM97K9A  44.599998  2409856   \n",
      "\n",
      "                    created_at  lat  lon  ele  \n",
      "1482 2022-12-20 03:44:29+00:00  0.0  0.0  0.0  \n",
      "1483 2022-12-20 03:45:00+00:00  0.0  0.0  0.0  \n",
      "                             id  value  feed_id                created_at  \\\n",
      "886  0F6F2TNA7FGFJ6ZHB5GV1CDW5P  137.0  2409789 2022-12-20 02:30:04+00:00   \n",
      "887  0F6F2TYENC7BDRCWS1CQX8GGD3  137.0  2409789 2022-12-20 02:30:34+00:00   \n",
      "\n",
      "     lat  lon  ele  \n",
      "886  NaN  NaN  NaN  \n",
      "887  NaN  NaN  NaN  \n",
      "                             id  value  feed_id                created_at  \\\n",
      "939  0F6F451VJJFPJVH7D54CW7RN0D   67.7  2409789 2022-12-20 03:44:09+00:00   \n",
      "940  0F6F45AXBWMZ92PYKBBXYV1JCG   67.7  2409789 2022-12-20 03:44:39+00:00   \n",
      "\n",
      "     lat  lon  ele  \n",
      "939  NaN  NaN  NaN  \n",
      "940  NaN  NaN  NaN  \n",
      "                              id      value  feed_id  \\\n",
      "1430  0F6F2TV6SP6ACXP64NM9EYJZH2  59.200001  2409715   \n",
      "1431  0F6F2V4EJ2H01SW7DK693ZNDT2  56.900002  2409715   \n",
      "\n",
      "                    created_at  lat  lon  ele  \n",
      "1430 2022-12-20 02:30:23+00:00  0.0  0.0  0.0  \n",
      "1431 2022-12-20 02:30:54+00:00  0.0  0.0  0.0  \n",
      "                              id      value  feed_id  \\\n",
      "1573  0F6F44Z4QTX3060604KNW4HTFT  23.000000  2409715   \n",
      "1574  0F6F458CPRMEJTH1G4X7SB4QMQ  24.200001  2409715   \n",
      "\n",
      "                    created_at  lat  lon  ele  \n",
      "1573 2022-12-20 03:44:00+00:00  0.0  0.0  0.0  \n",
      "1574 2022-12-20 03:44:30+00:00  0.0  0.0  0.0  \n",
      "                              id      value  feed_id  \\\n",
      "1343  0F6F2TPCM9CXHP1DKP4H77K6XM  56.200001  2409857   \n",
      "1344  0F6F2TZRNHQT3TEZXX2V6EQN42  53.700001  2409857   \n",
      "\n",
      "                    created_at  lat  lon  ele  \n",
      "1343 2022-12-20 02:30:07+00:00  0.0  0.0  0.0  \n",
      "1344 2022-12-20 02:30:38+00:00  0.0  0.0  0.0  \n",
      "                              id      value  feed_id  \\\n",
      "1487  0F6F4580J24GWET3D958E1ZEJH  20.600000  2409857   \n",
      "1488  0F6F45HCDJN7BPNB6T8TE3QTQE  20.700001  2409857   \n",
      "\n",
      "                    created_at  lat  lon  ele  \n",
      "1487 2022-12-20 03:44:29+00:00  0.0  0.0  0.0  \n",
      "1488 2022-12-20 03:45:00+00:00  0.0  0.0  0.0  \n",
      "                             id  value  feed_id                created_at  \\\n",
      "888  0F6F2TN09N27SVC3RC3BQR52AS   76.2  2409788 2022-12-20 02:30:03+00:00   \n",
      "889  0F6F2TY4TH1WYENB927NXXX043   76.2  2409788 2022-12-20 02:30:33+00:00   \n",
      "\n",
      "     lat  lon  ele  \n",
      "888  NaN  NaN  NaN  \n",
      "889  NaN  NaN  NaN  \n",
      "                             id  value  feed_id                created_at  \\\n",
      "941  0F6F451HX4847N3QSRQAZG7J81   30.3  2409788 2022-12-20 03:44:08+00:00   \n",
      "942  0F6F45AM03DDBC589ZBS33Q7G2   30.3  2409788 2022-12-20 03:44:38+00:00   \n",
      "\n",
      "     lat  lon  ele  \n",
      "941  NaN  NaN  NaN  \n",
      "942  NaN  NaN  NaN  \n"
     ]
    }
   ],
   "source": [
    "exp6_pm10_posC = extract('data/pm10-20221223-1309.csv', (2022, 12, 20, 10, 30), (2022, 12, 20, 11, 45))\n",
    "exp6_pm10_posB = extract('data/pm10B-20221223-1310.csv', (2022, 12, 20, 10, 30), (2022, 12, 20, 11, 45))\n",
    "exp6_pm10_posA = extract('data/pm10-20221223-1312.csv', (2022, 12, 20, 10, 30), (2022, 12, 20, 11, 45))\n",
    "\n",
    "exp6_pm25_posC = extract('data/pm25-20221223-1310.csv', (2022, 12, 20, 10, 30), (2022, 12, 20, 11, 45))\n",
    "exp6_pm25_posB = extract('data/pm25B-20221223-1311.csv', (2022, 12, 20, 10, 30), (2022, 12, 20, 11, 45))\n",
    "exp6_pm25_posA = extract('data/pm25-20221223-1313.csv', (2022, 12, 20, 10, 30), (2022, 12, 20, 11, 45))\n",
    "\n"
   ]
  },
  {
   "cell_type": "code",
   "execution_count": null,
   "metadata": {},
   "outputs": [
    {
     "name": "stdout",
     "output_type": "stream",
     "text": [
      "                              id       value  feed_id  \\\n",
      "2249  0F6F4DQ6K89551V2B576T2PTJK  131.000000  2408569   \n",
      "2250  0F6F4E0ENHDVW25K44EE42VBW6  124.699997  2408569   \n",
      "\n",
      "                    created_at  lat  lon  ele  \n",
      "2249 2022-12-20 03:59:18+00:00  0.0  0.0  0.0  \n",
      "2250 2022-12-20 03:59:48+00:00  0.0  0.0  0.0  \n",
      "                              id  value  feed_id                created_at  \\\n",
      "2367  0F6F5G54R0W0CFHGHY03MQFAMP   22.4  2408569 2022-12-20 04:59:29+00:00   \n",
      "2368  0F6F5GECRG4AWFCDAB49FESNW0   23.0  2408569 2022-12-20 04:59:59+00:00   \n",
      "\n",
      "      lat  lon  ele  \n",
      "2367  0.0  0.0  0.0  \n",
      "2368  0.0  0.0  0.0  \n",
      "                              id       value  feed_id  \\\n",
      "1511  0F6F4DPYVJW6X0ZW67SR0CRRQY  120.500000  2409856   \n",
      "1512  0F6F4E06Y3ZN2R5XR9K9RSF4DK  122.699997  2409856   \n",
      "\n",
      "                    created_at  lat  lon  ele  \n",
      "1511 2022-12-20 03:59:17+00:00  0.0  0.0  0.0  \n",
      "1512 2022-12-20 03:59:47+00:00  0.0  0.0  0.0  \n",
      "                              id  value  feed_id                created_at  \\\n",
      "1629  0F6F5G4RT8ETJ2EQHH3G5X1S7N   19.1  2409856 2022-12-20 04:59:28+00:00   \n",
      "1630  0F6F5GE1GVSW241TBVBQH1VXB0   20.1  2409856 2022-12-20 04:59:58+00:00   \n",
      "\n",
      "      lat  lon  ele  \n",
      "1629  0.0  0.0  0.0  \n",
      "1630  0.0  0.0  0.0  \n",
      "                             id  value  feed_id                created_at  \\\n",
      "969  0F6F4DHT8R4WRXQ90554HBTJN7  236.6  2409789 2022-12-20 03:59:00+00:00   \n",
      "970  0F6F4DTWYZ61Z3XS083F6JN2E1  236.6  2409789 2022-12-20 03:59:30+00:00   \n",
      "\n",
      "     lat  lon  ele  \n",
      "969  NaN  NaN  NaN  \n",
      "970  NaN  NaN  NaN  \n",
      "                              id  value  feed_id                created_at  \\\n",
      "1090  0F6F5FXZ16RTMJSK6JGYBNGFTK   35.3  2409789 2022-12-20 04:59:05+00:00   \n",
      "1091  0F6F5G712J6138J5NAFME8WRHJ   35.3  2409789 2022-12-20 04:59:35+00:00   \n",
      "\n",
      "      lat  lon  ele  \n",
      "1090  NaN  NaN  NaN  \n",
      "1091  NaN  NaN  NaN  \n",
      "                              id      value  feed_id  \\\n",
      "1603  0F6F4DQ6KGRRBTYFR1QDZXBM8P  64.800003  2409715   \n",
      "1604  0F6F4E0EJVWN1VTWCCB0H3V8YH  63.599998  2409715   \n",
      "\n",
      "                    created_at  lat  lon  ele  \n",
      "1603 2022-12-20 03:59:18+00:00  0.0  0.0  0.0  \n",
      "1604 2022-12-20 03:59:48+00:00  0.0  0.0  0.0  \n",
      "                              id  value  feed_id                created_at  \\\n",
      "1721  0F6F5G54Q3675A77C3F137QTK1   13.2  2409715 2022-12-20 04:59:29+00:00   \n",
      "1722  0F6F5GECKP87QHD0V4GH73W2Y2   12.7  2409715 2022-12-20 04:59:59+00:00   \n",
      "\n",
      "      lat  lon  ele  \n",
      "1721  0.0  0.0  0.0  \n",
      "1722  0.0  0.0  0.0  \n",
      "                              id      value  feed_id  \\\n",
      "1516  0F6F4DPYXXZKMK61QPVHX7DH3K  58.599998  2409857   \n",
      "1517  0F6F4E06MZFCFFXSMJ7QEQ4B1X  58.299999  2409857   \n",
      "\n",
      "                    created_at  lat  lon  ele  \n",
      "1516 2022-12-20 03:59:17+00:00  0.0  0.0  0.0  \n",
      "1517 2022-12-20 03:59:47+00:00  0.0  0.0  0.0  \n",
      "                              id  value  feed_id                created_at  \\\n",
      "1634  0F6F5G4RQBCB0ZCH774PA2759M    9.9  2409857 2022-12-20 04:59:27+00:00   \n",
      "1635  0F6F5GE1G15KHNTCA05TVPZXW1   10.3  2409857 2022-12-20 04:59:58+00:00   \n",
      "\n",
      "      lat  lon  ele  \n",
      "1634  0.0  0.0  0.0  \n",
      "1635  0.0  0.0  0.0  \n",
      "                             id  value  feed_id                created_at  \\\n",
      "972  0F6F4DTK7C6MYSQW64BJZ34GQA  101.1  2409788 2022-12-20 03:59:29+00:00   \n",
      "973  0F6F4E3M3VKRNYAZ0T3KS0TJRR  101.1  2409788 2022-12-20 03:59:59+00:00   \n",
      "\n",
      "     lat  lon  ele  \n",
      "972  NaN  NaN  NaN  \n",
      "973  NaN  NaN  NaN  \n",
      "                              id  value  feed_id                created_at  \\\n",
      "1092  0F6F5FXNRW6JTZSJF1HTH3721G   16.7  2409788 2022-12-20 04:59:04+00:00   \n",
      "1093  0F6F5G6QRCDP74GC5F21CYYCBS   16.7  2409788 2022-12-20 04:59:34+00:00   \n",
      "\n",
      "      lat  lon  ele  \n",
      "1092  NaN  NaN  NaN  \n",
      "1093  NaN  NaN  NaN  \n"
     ]
    },
    {
     "ename": "",
     "evalue": "",
     "output_type": "error",
     "traceback": [
      "\u001b[1;31mnotebook controller is DISPOSED. \n",
      "\u001b[1;31mView Jupyter <a href='command:jupyter.viewOutput'>log</a> for further details."
     ]
    },
    {
     "ename": "",
     "evalue": "",
     "output_type": "error",
     "traceback": [
      "\u001b[1;31mnotebook controller is DISPOSED. \n",
      "\u001b[1;31mView Jupyter <a href='command:jupyter.viewOutput'>log</a> for further details."
     ]
    }
   ],
   "source": [
    "\n",
    "exp7_pm10_posC = extract('data/pm10-20221223-1309.csv', (2022, 12, 20, 11, 59), (2022, 12, 20, 13, 0))\n",
    "exp7_pm10_posB = extract('data/pm10B-20221223-1310.csv', (2022, 12, 20, 11, 59), (2022, 12, 20, 13, 0))\n",
    "exp7_pm10_posA = extract('data/pm10-20221223-1312.csv', (2022, 12, 20, 11, 59), (2022, 12, 20, 13, 0))\n",
    "\n",
    "exp7_pm25_posC = extract('data/pm25-20221223-1310.csv', (2022, 12, 20, 11, 59), (2022, 12, 20, 13, 0))\n",
    "exp7_pm25_posB = extract('data/pm25B-20221223-1311.csv', (2022, 12, 20, 11, 59), (2022, 12, 20, 13, 0))\n",
    "exp7_pm25_posA = extract('data/pm25-20221223-1313.csv', (2022, 12, 20, 11, 59), (2022, 12, 20, 13, 0))\n"
   ]
  },
  {
   "cell_type": "code",
   "execution_count": 304,
   "metadata": {},
   "outputs": [
    {
     "name": "stdout",
     "output_type": "stream",
     "text": [
      "                              id       value  feed_id  \\\n",
      "2249  0F6F4DQ6K89551V2B576T2PTJK  131.000000  2408569   \n",
      "2250  0F6F4E0ENHDVW25K44EE42VBW6  124.699997  2408569   \n",
      "\n",
      "                    created_at  lat  lon  ele  \n",
      "2249 2022-12-20 03:59:18+00:00  0.0  0.0  0.0  \n",
      "2250 2022-12-20 03:59:48+00:00  0.0  0.0  0.0  \n",
      "                              id  value  feed_id                created_at  \\\n",
      "2367  0F6F5G54R0W0CFHGHY03MQFAMP   22.4  2408569 2022-12-20 04:59:29+00:00   \n",
      "2368  0F6F5GECRG4AWFCDAB49FESNW0   23.0  2408569 2022-12-20 04:59:59+00:00   \n",
      "\n",
      "      lat  lon  ele  \n",
      "2367  0.0  0.0  0.0  \n",
      "2368  0.0  0.0  0.0  \n",
      "                              id       value  feed_id  \\\n",
      "1511  0F6F4DPYVJW6X0ZW67SR0CRRQY  120.500000  2409856   \n",
      "1512  0F6F4E06Y3ZN2R5XR9K9RSF4DK  122.699997  2409856   \n",
      "\n",
      "                    created_at  lat  lon  ele  \n",
      "1511 2022-12-20 03:59:17+00:00  0.0  0.0  0.0  \n",
      "1512 2022-12-20 03:59:47+00:00  0.0  0.0  0.0  \n",
      "                              id  value  feed_id                created_at  \\\n",
      "1629  0F6F5G4RT8ETJ2EQHH3G5X1S7N   19.1  2409856 2022-12-20 04:59:28+00:00   \n",
      "1630  0F6F5GE1GVSW241TBVBQH1VXB0   20.1  2409856 2022-12-20 04:59:58+00:00   \n",
      "\n",
      "      lat  lon  ele  \n",
      "1629  0.0  0.0  0.0  \n",
      "1630  0.0  0.0  0.0  \n",
      "                             id  value  feed_id                created_at  \\\n",
      "969  0F6F4DHT8R4WRXQ90554HBTJN7  236.6  2409789 2022-12-20 03:59:00+00:00   \n",
      "970  0F6F4DTWYZ61Z3XS083F6JN2E1  236.6  2409789 2022-12-20 03:59:30+00:00   \n",
      "\n",
      "     lat  lon  ele  \n",
      "969  NaN  NaN  NaN  \n",
      "970  NaN  NaN  NaN  \n",
      "                              id  value  feed_id                created_at  \\\n",
      "1090  0F6F5FXZ16RTMJSK6JGYBNGFTK   35.3  2409789 2022-12-20 04:59:05+00:00   \n",
      "1091  0F6F5G712J6138J5NAFME8WRHJ   35.3  2409789 2022-12-20 04:59:35+00:00   \n",
      "\n",
      "      lat  lon  ele  \n",
      "1090  NaN  NaN  NaN  \n",
      "1091  NaN  NaN  NaN  \n",
      "                              id      value  feed_id  \\\n",
      "1603  0F6F4DQ6KGRRBTYFR1QDZXBM8P  64.800003  2409715   \n",
      "1604  0F6F4E0EJVWN1VTWCCB0H3V8YH  63.599998  2409715   \n",
      "\n",
      "                    created_at  lat  lon  ele  \n",
      "1603 2022-12-20 03:59:18+00:00  0.0  0.0  0.0  \n",
      "1604 2022-12-20 03:59:48+00:00  0.0  0.0  0.0  \n",
      "                              id  value  feed_id                created_at  \\\n",
      "1721  0F6F5G54Q3675A77C3F137QTK1   13.2  2409715 2022-12-20 04:59:29+00:00   \n",
      "1722  0F6F5GECKP87QHD0V4GH73W2Y2   12.7  2409715 2022-12-20 04:59:59+00:00   \n",
      "\n",
      "      lat  lon  ele  \n",
      "1721  0.0  0.0  0.0  \n",
      "1722  0.0  0.0  0.0  \n",
      "                              id      value  feed_id  \\\n",
      "1516  0F6F4DPYXXZKMK61QPVHX7DH3K  58.599998  2409857   \n",
      "1517  0F6F4E06MZFCFFXSMJ7QEQ4B1X  58.299999  2409857   \n",
      "\n",
      "                    created_at  lat  lon  ele  \n",
      "1516 2022-12-20 03:59:17+00:00  0.0  0.0  0.0  \n",
      "1517 2022-12-20 03:59:47+00:00  0.0  0.0  0.0  \n",
      "                              id  value  feed_id                created_at  \\\n",
      "1634  0F6F5G4RQBCB0ZCH774PA2759M    9.9  2409857 2022-12-20 04:59:27+00:00   \n",
      "1635  0F6F5GE1G15KHNTCA05TVPZXW1   10.3  2409857 2022-12-20 04:59:58+00:00   \n",
      "\n",
      "      lat  lon  ele  \n",
      "1634  0.0  0.0  0.0  \n",
      "1635  0.0  0.0  0.0  \n",
      "                             id  value  feed_id                created_at  \\\n",
      "972  0F6F4DTK7C6MYSQW64BJZ34GQA  101.1  2409788 2022-12-20 03:59:29+00:00   \n",
      "973  0F6F4E3M3VKRNYAZ0T3KS0TJRR  101.1  2409788 2022-12-20 03:59:59+00:00   \n",
      "\n",
      "     lat  lon  ele  \n",
      "972  NaN  NaN  NaN  \n",
      "973  NaN  NaN  NaN  \n",
      "                              id  value  feed_id                created_at  \\\n",
      "1092  0F6F5FXNRW6JTZSJF1HTH3721G   16.7  2409788 2022-12-20 04:59:04+00:00   \n",
      "1093  0F6F5G6QRCDP74GC5F21CYYCBS   16.7  2409788 2022-12-20 04:59:34+00:00   \n",
      "\n",
      "      lat  lon  ele  \n",
      "1092  NaN  NaN  NaN  \n",
      "1093  NaN  NaN  NaN  \n"
     ]
    }
   ],
   "source": [
    "\n",
    "exp7_pm10_posA = extract('data/pm10-20221223-1309.csv', (2022, 12, 20, 11, 59), (2022, 12, 20, 13, 0))\n",
    "exp7_pm10_posB = extract('data/pm10B-20221223-1310.csv', (2022, 12, 20, 11, 59), (2022, 12, 20, 13, 0))\n",
    "exp7_pm10_posC = extract('data/pm10-20221223-1312.csv', (2022, 12, 20, 11, 59), (2022, 12, 20, 13, 0))\n",
    "\n",
    "exp7_pm25_posA = extract('data/pm25-20221223-1310.csv', (2022, 12, 20, 11, 59), (2022, 12, 20, 13, 0))\n",
    "exp7_pm25_posB = extract('data/pm25B-20221223-1311.csv', (2022, 12, 20, 11, 59), (2022, 12, 20, 13, 0))\n",
    "exp7_pm25_posC = extract('data/pm25-20221223-1313.csv', (2022, 12, 20, 11, 59), (2022, 12, 20, 13, 0))\n"
   ]
  },
  {
   "cell_type": "code",
   "execution_count": 305,
   "metadata": {},
   "outputs": [
    {
     "name": "stdout",
     "output_type": "stream",
     "text": [
      "                              id       value  feed_id  \\\n",
      "2454  0F6F67CDTQ8HY9ZFEYCZ7QQW1Y  163.500000  2408569   \n",
      "2455  0F6F67M4PEM1DCF1TF1RX6RP6H  156.899994  2408569   \n",
      "\n",
      "                    created_at  lat  lon  ele  \n",
      "2454 2022-12-20 05:40:04+00:00  0.0  0.0  0.0  \n",
      "2455 2022-12-20 05:40:30+00:00  0.0  0.0  0.0  \n",
      "                              id      value  feed_id  \\\n",
      "2594  0F6F79CRFAJY4RS4AV8EZPPXGC  28.299999  2408569   \n",
      "2595  0F6F79MJJCNRVY5EP736SJ4HB4  27.400000  2408569   \n",
      "\n",
      "                    created_at  lat  lon  ele  \n",
      "2594 2022-12-20 06:39:31+00:00  0.0  0.0  0.0  \n",
      "2595 2022-12-20 06:39:56+00:00  0.0  0.0  0.0  \n",
      "                              id       value  feed_id  \\\n",
      "1708  0F6F67DZPVXABHG93S52JQN3CT  149.199997  2409856   \n",
      "1709  0F6F67NPS4EZX5E1N5HCAWGJM9  149.000000  2409856   \n",
      "\n",
      "                    created_at  lat  lon  ele  \n",
      "1708 2022-12-20 05:40:09+00:00  0.0  0.0  0.0  \n",
      "1709 2022-12-20 05:40:35+00:00  0.0  0.0  0.0  \n",
      "                              id  value  feed_id                created_at  \\\n",
      "1847  0F6F799T7XEDPJVKBTG4YH3NV0   24.5  2409856 2022-12-20 06:39:21+00:00   \n",
      "1848  0F6F79HMH9816RN4BX2NYJJ0CM   24.6  2409856 2022-12-20 06:39:47+00:00   \n",
      "\n",
      "      lat  lon  ele  \n",
      "1847  0.0  0.0  0.0  \n",
      "1848  0.0  0.0  0.0  \n",
      "                              id  value  feed_id                created_at  \\\n",
      "1137  0F6F67KGHH4AFF300SVGH1Q96Y  225.6  2409789 2022-12-20 05:40:28+00:00   \n",
      "1138  0F6F67WJ0GQ61565VY2BTK6S24  225.6  2409789 2022-12-20 05:40:57+00:00   \n",
      "\n",
      "      lat  lon  ele  \n",
      "1137  NaN  NaN  NaN  \n",
      "1138  NaN  NaN  NaN  \n",
      "                              id  value  feed_id                created_at  \\\n",
      "1217  0F6F6YXQVHXRPABYGYR9PT9Z93   64.5  2409789 2022-12-20 06:21:13+00:00   \n",
      "1218  0F6F6Z6TGEMQCAGGWSZ9SY0VA1   64.5  2409789 2022-12-20 06:21:43+00:00   \n",
      "\n",
      "      lat  lon  ele  \n",
      "1217  NaN  NaN  NaN  \n",
      "1218  NaN  NaN  NaN  \n",
      "                              id      value  feed_id  \\\n",
      "1808  0F6F67CDT5AF5G1Q0GK0ZQDX26  87.300003  2409715   \n",
      "1809  0F6F67M4QRCTGSRKV75GRM49FG  85.599998  2409715   \n",
      "\n",
      "                    created_at  lat  lon  ele  \n",
      "1808 2022-12-20 05:40:04+00:00  0.0  0.0  0.0  \n",
      "1809 2022-12-20 05:40:30+00:00  0.0  0.0  0.0  \n",
      "                              id  value  feed_id                created_at  \\\n",
      "1948  0F6F79CRF6N72FWEMTPADN746M   15.6  2409715 2022-12-20 06:39:31+00:00   \n",
      "1949  0F6F79MJKJYDNMKAH28VR0KPHY   15.8  2409715 2022-12-20 06:39:56+00:00   \n",
      "\n",
      "      lat  lon  ele  \n",
      "1948  0.0  0.0  0.0  \n",
      "1949  0.0  0.0  0.0  \n",
      "                              id      value  feed_id  \\\n",
      "1713  0F6F67DZQCC1XQS4BPEKFNFK71  75.400002  2409857   \n",
      "1714  0F6F67NPRQ2YM8785QDZ6861CB  74.699997  2409857   \n",
      "\n",
      "                    created_at  lat  lon  ele  \n",
      "1713 2022-12-20 05:40:09+00:00  0.0  0.0  0.0  \n",
      "1714 2022-12-20 05:40:35+00:00  0.0  0.0  0.0  \n",
      "                              id  value  feed_id                created_at  \\\n",
      "1852  0F6F799T66015284F1RJCHFV3A   13.5  2409857 2022-12-20 06:39:21+00:00   \n",
      "1853  0F6F79HMGKPFZGRCKPJJ3KECSS   13.3  2409857 2022-12-20 06:39:47+00:00   \n",
      "\n",
      "      lat  lon  ele  \n",
      "1852  0.0  0.0  0.0  \n",
      "1853  0.0  0.0  0.0  \n",
      "                              id  value  feed_id                created_at  \\\n",
      "1140  0F6F67K6GXR5CBM14RXC4D3XS8  108.0  2409788 2022-12-20 05:40:27+00:00   \n",
      "1141  0F6F67W8MBES32CZT3N49PAPDY  108.0  2409788 2022-12-20 05:40:56+00:00   \n",
      "\n",
      "      lat  lon  ele  \n",
      "1140  NaN  NaN  NaN  \n",
      "1141  NaN  NaN  NaN  \n",
      "                              id  value  feed_id                created_at  \\\n",
      "1220  0F6F6YXE4HK63A0CRYYRRPGVNS   32.7  2409788 2022-12-20 06:21:12+00:00   \n",
      "1221  0F6F6Z6GD39Q5EBENJT7SGFXAZ   32.7  2409788 2022-12-20 06:21:42+00:00   \n",
      "\n",
      "      lat  lon  ele  \n",
      "1220  NaN  NaN  NaN  \n",
      "1221  NaN  NaN  NaN  \n"
     ]
    }
   ],
   "source": [
    "exp8_pm10_posA = extract('data/pm10-20221223-1309.csv', (2022, 12, 20, 13, 40), (2022, 12, 20, 14, 40))\n",
    "exp8_pm10_posB = extract('data/pm10B-20221223-1310.csv', (2022, 12, 20, 13, 40), (2022, 12, 20, 14, 40))\n",
    "exp8_pm10_posC = extract('data/pm10-20221223-1312.csv', (2022, 12, 20, 13, 40), (2022, 12, 20, 14, 40))\n",
    "\n",
    "exp8_pm25_posA = extract('data/pm25-20221223-1310.csv', (2022, 12, 20, 13, 40), (2022, 12, 20, 14, 40))\n",
    "exp8_pm25_posB = extract('data/pm25B-20221223-1311.csv', (2022, 12, 20, 13, 40), (2022, 12, 20, 14, 40))\n",
    "exp8_pm25_posC = extract('data/pm25-20221223-1313.csv', (2022, 12, 20, 13, 40), (2022, 12, 20, 14, 40))\n",
    "\n"
   ]
  },
  {
   "cell_type": "code",
   "execution_count": 326,
   "metadata": {},
   "outputs": [
    {
     "name": "stdout",
     "output_type": "stream",
     "text": [
      "                              id       value  feed_id  \\\n",
      "2454  0F6F67CDTQ8HY9ZFEYCZ7QQW1Y  163.500000  2408569   \n",
      "2455  0F6F67M4PEM1DCF1TF1RX6RP6H  156.899994  2408569   \n",
      "\n",
      "                    created_at  lat  lon  ele  \n",
      "2454 2022-12-20 05:40:04+00:00  0.0  0.0  0.0  \n",
      "2455 2022-12-20 05:40:30+00:00  0.0  0.0  0.0  \n",
      "                              id      value  feed_id  \\\n",
      "2594  0F6F79CRFAJY4RS4AV8EZPPXGC  28.299999  2408569   \n",
      "2595  0F6F79MJJCNRVY5EP736SJ4HB4  27.400000  2408569   \n",
      "\n",
      "                    created_at  lat  lon  ele  \n",
      "2594 2022-12-20 06:39:31+00:00  0.0  0.0  0.0  \n",
      "2595 2022-12-20 06:39:56+00:00  0.0  0.0  0.0  \n",
      "                              id       value  feed_id  \\\n",
      "1708  0F6F67DZPVXABHG93S52JQN3CT  149.199997  2409856   \n",
      "1709  0F6F67NPS4EZX5E1N5HCAWGJM9  149.000000  2409856   \n",
      "\n",
      "                    created_at  lat  lon  ele  \n",
      "1708 2022-12-20 05:40:09+00:00  0.0  0.0  0.0  \n",
      "1709 2022-12-20 05:40:35+00:00  0.0  0.0  0.0  \n",
      "                              id  value  feed_id                created_at  \\\n",
      "1847  0F6F799T7XEDPJVKBTG4YH3NV0   24.5  2409856 2022-12-20 06:39:21+00:00   \n",
      "1848  0F6F79HMH9816RN4BX2NYJJ0CM   24.6  2409856 2022-12-20 06:39:47+00:00   \n",
      "\n",
      "      lat  lon  ele  \n",
      "1847  0.0  0.0  0.0  \n",
      "1848  0.0  0.0  0.0  \n",
      "                              id  value  feed_id                created_at  \\\n",
      "1137  0F6F67KGHH4AFF300SVGH1Q96Y  225.6  2409789 2022-12-20 05:40:28+00:00   \n",
      "1138  0F6F67WJ0GQ61565VY2BTK6S24  225.6  2409789 2022-12-20 05:40:57+00:00   \n",
      "\n",
      "      lat  lon  ele  \n",
      "1137  NaN  NaN  NaN  \n",
      "1138  NaN  NaN  NaN  \n",
      "                              id  value  feed_id                created_at  \\\n",
      "1217  0F6F6YXQVHXRPABYGYR9PT9Z93   64.5  2409789 2022-12-20 06:21:13+00:00   \n",
      "1218  0F6F6Z6TGEMQCAGGWSZ9SY0VA1   64.5  2409789 2022-12-20 06:21:43+00:00   \n",
      "\n",
      "      lat  lon  ele  \n",
      "1217  NaN  NaN  NaN  \n",
      "1218  NaN  NaN  NaN  \n",
      "                              id      value  feed_id  \\\n",
      "1808  0F6F67CDT5AF5G1Q0GK0ZQDX26  87.300003  2409715   \n",
      "1809  0F6F67M4QRCTGSRKV75GRM49FG  85.599998  2409715   \n",
      "\n",
      "                    created_at  lat  lon  ele  \n",
      "1808 2022-12-20 05:40:04+00:00  0.0  0.0  0.0  \n",
      "1809 2022-12-20 05:40:30+00:00  0.0  0.0  0.0  \n",
      "                              id  value  feed_id                created_at  \\\n",
      "1948  0F6F79CRF6N72FWEMTPADN746M   15.6  2409715 2022-12-20 06:39:31+00:00   \n",
      "1949  0F6F79MJKJYDNMKAH28VR0KPHY   15.8  2409715 2022-12-20 06:39:56+00:00   \n",
      "\n",
      "      lat  lon  ele  \n",
      "1948  0.0  0.0  0.0  \n",
      "1949  0.0  0.0  0.0  \n",
      "                              id      value  feed_id  \\\n",
      "1713  0F6F67DZQCC1XQS4BPEKFNFK71  75.400002  2409857   \n",
      "1714  0F6F67NPRQ2YM8785QDZ6861CB  74.699997  2409857   \n",
      "\n",
      "                    created_at  lat  lon  ele  \n",
      "1713 2022-12-20 05:40:09+00:00  0.0  0.0  0.0  \n",
      "1714 2022-12-20 05:40:35+00:00  0.0  0.0  0.0  \n",
      "                              id  value  feed_id                created_at  \\\n",
      "1852  0F6F799T66015284F1RJCHFV3A   13.5  2409857 2022-12-20 06:39:21+00:00   \n",
      "1853  0F6F79HMGKPFZGRCKPJJ3KECSS   13.3  2409857 2022-12-20 06:39:47+00:00   \n",
      "\n",
      "      lat  lon  ele  \n",
      "1852  0.0  0.0  0.0  \n",
      "1853  0.0  0.0  0.0  \n",
      "                              id  value  feed_id                created_at  \\\n",
      "1140  0F6F67K6GXR5CBM14RXC4D3XS8  108.0  2409788 2022-12-20 05:40:27+00:00   \n",
      "1141  0F6F67W8MBES32CZT3N49PAPDY  108.0  2409788 2022-12-20 05:40:56+00:00   \n",
      "\n",
      "      lat  lon  ele  \n",
      "1140  NaN  NaN  NaN  \n",
      "1141  NaN  NaN  NaN  \n",
      "                              id  value  feed_id                created_at  \\\n",
      "1220  0F6F6YXE4HK63A0CRYYRRPGVNS   32.7  2409788 2022-12-20 06:21:12+00:00   \n",
      "1221  0F6F6Z6GD39Q5EBENJT7SGFXAZ   32.7  2409788 2022-12-20 06:21:42+00:00   \n",
      "\n",
      "      lat  lon  ele  \n",
      "1220  NaN  NaN  NaN  \n",
      "1221  NaN  NaN  NaN  \n"
     ]
    }
   ],
   "source": [
    "exp9_pm10_posA = extract('data/pm10-20221223-1309.csv', (2022, 12, 20, 13, 40), (2022, 12, 20, 14, 40))\n",
    "exp9_pm10_posB = extract('data/pm10B-20221223-1310.csv', (2022, 12, 20, 13, 40), (2022, 12, 20, 14, 40))\n",
    "exp9_pm10_posC = extract('data/pm10-20221223-1312.csv', (2022, 12, 20, 13, 40), (2022, 12, 20, 14, 40))\n",
    "\n",
    "exp9_pm25_posA = extract('data/pm25-20221223-1310.csv', (2022, 12, 20, 13, 40), (2022, 12, 20, 14, 40))\n",
    "exp9_pm25_posB = extract('data/pm25B-20221223-1311.csv', (2022, 12, 20, 13, 40), (2022, 12, 20, 14, 40))\n",
    "exp9_pm25_posC = extract('data/pm25-20221223-1313.csv', (2022, 12, 20, 13, 40), (2022, 12, 20, 14, 40))\n",
    "\n"
   ]
  },
  {
   "cell_type": "code",
   "execution_count": 306,
   "metadata": {},
   "outputs": [
    {
     "name": "stdout",
     "output_type": "stream",
     "text": [
      "                              id       value  feed_id  \\\n",
      "2925  0F6FV61ZZ013B0MMGC3G91628P  149.199997  2408569   \n",
      "2926  0F6FV69PGM2AWQYXGGKG9RXC08  144.500000  2408569   \n",
      "\n",
      "                    created_at  lat  lon  ele  \n",
      "2925 2022-12-21 01:12:10+00:00  0.0  0.0  0.0  \n",
      "2926 2022-12-21 01:12:35+00:00  0.0  0.0  0.0  \n",
      "                              id  value  feed_id                created_at  \\\n",
      "3064  0F6FW7TW8ADWCCP4Q13Q2YN0YJ   21.1  2408569 2022-12-21 02:11:11+00:00   \n",
      "3065  0F6FW82PAT6NKTHDWJBCFEC1JE   20.0  2408569 2022-12-21 02:11:37+00:00   \n",
      "\n",
      "      lat  lon  ele  \n",
      "3064  0.0  0.0  0.0  \n",
      "3065  0.0  0.0  0.0  \n",
      "                              id       value  feed_id  \\\n",
      "2176  0F6FV614CGPHNRDMSQ7XC57PWZ  143.100006  2409856   \n",
      "2177  0F6FV68W0DAGNG2HHCQ684CSDZ  142.300003  2409856   \n",
      "\n",
      "                    created_at  lat  lon  ele  \n",
      "2176 2022-12-21 01:12:07+00:00  0.0  0.0  0.0  \n",
      "2177 2022-12-21 01:12:32+00:00  0.0  0.0  0.0  \n",
      "                              id      value  feed_id  \\\n",
      "2315  0F6FW7TDCAD9EMMFQSZB7QB28F  18.299999  2409856   \n",
      "2316  0F6FW824HJBZTAWKVSNDM7RV6Y  18.500000  2409856   \n",
      "\n",
      "                    created_at  lat  lon  ele  \n",
      "2315 2022-12-21 02:11:10+00:00  0.0  0.0  0.0  \n",
      "2316 2022-12-21 02:11:35+00:00  0.0  0.0  0.0  \n",
      "                              id  value  feed_id                created_at  \\\n",
      "1392  0F6FV5ZZ5DAWXR50FEKBB3BJZX  166.6  2409789 2022-12-21 01:12:03+00:00   \n",
      "1393  0F6FV69D3BDSGBKNGWDBR74XDR  182.0  2409789 2022-12-21 01:12:34+00:00   \n",
      "\n",
      "      lat  lon  ele  \n",
      "1392  NaN  NaN  NaN  \n",
      "1393  NaN  NaN  NaN  \n",
      "                              id  value  feed_id                created_at  \\\n",
      "1498  0F6FW7TMMZK7Z6HGAE5SWYXXJ5   28.7  2409789 2022-12-21 02:11:11+00:00   \n",
      "1499  0F6FW83R8TGKS6FTZXR13FZMJF   28.7  2409789 2022-12-21 02:11:41+00:00   \n",
      "\n",
      "      lat  lon  ele  \n",
      "1498  NaN  NaN  NaN  \n",
      "1499  NaN  NaN  NaN  \n",
      "                              id       value  feed_id  \\\n",
      "2279  0F6FV61ZPZPCNDHMFS157REGXM  129.699997  2409715   \n",
      "2280  0F6FV69PJ00EYQC58SFBM4F63H  124.199997  2409715   \n",
      "\n",
      "                    created_at  lat  lon  ele  \n",
      "2279 2022-12-21 01:12:10+00:00  0.0  0.0  0.0  \n",
      "2280 2022-12-21 01:12:35+00:00  0.0  0.0  0.0  \n",
      "                              id      value  feed_id  \\\n",
      "2418  0F6FW7TW9RD1M9KNQG7R5PY8CF  17.200001  2409715   \n",
      "2419  0F6FW82P9NCDP9EXTDFVYGGTX2  17.500000  2409715   \n",
      "\n",
      "                    created_at  lat  lon  ele  \n",
      "2418 2022-12-21 02:11:11+00:00  0.0  0.0  0.0  \n",
      "2419 2022-12-21 02:11:37+00:00  0.0  0.0  0.0  \n",
      "                              id       value  feed_id  \\\n",
      "2181  0F6FV614E7JSYC355GDKHB8FME  121.900002  2409857   \n",
      "2182  0F6FV68VSXRCNGZ200BBT56Q7P  115.800003  2409857   \n",
      "\n",
      "                    created_at  lat  lon  ele  \n",
      "2181 2022-12-21 01:12:07+00:00  0.0  0.0  0.0  \n",
      "2182 2022-12-21 01:12:32+00:00  0.0  0.0  0.0  \n",
      "                              id  value  feed_id                created_at  \\\n",
      "2320  0F6FW7TDBBXWNF7E6QCA4C8T1H   15.1  2409857 2022-12-21 02:11:10+00:00   \n",
      "2321  0F6FW824FZQC4N0RCYZ6H2AMCG   14.4  2409857 2022-12-21 02:11:35+00:00   \n",
      "\n",
      "      lat  lon  ele  \n",
      "2320  0.0  0.0  0.0  \n",
      "2321  0.0  0.0  0.0  \n",
      "                              id  value  feed_id                created_at  \\\n",
      "1395  0F6FV5ZJKNF13VDWBN2RWXQ5PX  119.6  2409788 2022-12-21 01:12:02+00:00   \n",
      "1396  0F6FV6929Z89C1W641XKRK2RF5  133.7  2409788 2022-12-21 01:12:33+00:00   \n",
      "\n",
      "      lat  lon  ele  \n",
      "1395  NaN  NaN  NaN  \n",
      "1396  NaN  NaN  NaN  \n",
      "                              id  value  feed_id                created_at  \\\n",
      "1501  0F6FW7TAPJZ988FB1QASS0D1TQ   21.0  2409788 2022-12-21 02:11:10+00:00   \n",
      "1502  0F6FW83DSZYFZ4S6R0M363VYAV   21.0  2409788 2022-12-21 02:11:39+00:00   \n",
      "\n",
      "      lat  lon  ele  \n",
      "1501  NaN  NaN  NaN  \n",
      "1502  NaN  NaN  NaN  \n"
     ]
    }
   ],
   "source": [
    "exp10_pm10_posA = extract('data/pm10-20221223-1309.csv', (2022, 12, 21, 9, 12), (2022, 12, 21, 10, 12))\n",
    "exp10_pm10_posB = extract('data/pm10B-20221223-1310.csv', (2022, 12, 21, 9, 12), (2022, 12, 21, 10, 12))\n",
    "exp10_pm10_posC = extract('data/pm10-20221223-1312.csv', (2022, 12, 21, 9, 12), (2022, 12, 21, 10, 12))\n",
    "\n",
    "exp10_pm25_posA = extract('data/pm25-20221223-1310.csv', (2022, 12, 21, 9, 12), (2022, 12, 21, 10, 12))\n",
    "exp10_pm25_posB = extract('data/pm25B-20221223-1311.csv', (2022, 12, 21, 9, 12), (2022, 12, 21, 10, 12))\n",
    "exp10_pm25_posC = extract('data/pm25-20221223-1313.csv', (2022, 12, 21, 9, 12), (2022, 12, 21, 10, 12))\n"
   ]
  },
  {
   "cell_type": "code",
   "execution_count": null,
   "metadata": {},
   "outputs": [
    {
     "name": "stdout",
     "output_type": "stream",
     "text": [
      "                              id       value  feed_id  \\\n",
      "3111  0F6FWK85HTXQ41X74T2RY7804A  188.199997  2408569   \n",
      "3112  0F6FWKFZH3F4XV76YY4P9516VY  185.000000  2408569   \n",
      "\n",
      "                    created_at  lat  lon  ele  \n",
      "3111 2022-12-21 02:31:08+00:00  0.0  0.0  0.0  \n",
      "3112 2022-12-21 02:31:34+00:00  0.0  0.0  0.0  \n",
      "                              id      value  feed_id  \\\n",
      "3817  0F6G1YX1139EK40XVCPDMFHZ31  17.400000  2408569   \n",
      "3818  0F6G1Z4WW57A88DK81XHBMXS0H  18.700001  2408569   \n",
      "\n",
      "                    created_at  lat  lon  ele  \n",
      "3817 2022-12-21 07:31:07+00:00  0.0  0.0  0.0  \n",
      "3818 2022-12-21 07:31:33+00:00  0.0  0.0  0.0  \n",
      "                              id       value  feed_id  \\\n",
      "2362  0F6FWK8X6QGH1RFPYNGVGSEFRZ  175.100006  2409856   \n",
      "2363  0F6FWKGJHTJAJQETW51AP2NCC0  175.699997  2409856   \n",
      "\n",
      "                    created_at  lat  lon  ele  \n",
      "2362 2022-12-21 02:31:11+00:00  0.0  0.0  0.0  \n",
      "2363 2022-12-21 02:31:36+00:00  0.0  0.0  0.0  \n",
      "                              id  value  feed_id                created_at  \\\n",
      "3067  0F6G1YWXX411A0CNFEGHW9J3DN   16.0  2409856 2022-12-21 07:31:07+00:00   \n",
      "3068  0F6G1Z4QENV3VP9MDNASFSPNXH   16.4  2409856 2022-12-21 07:31:33+00:00   \n",
      "\n",
      "      lat  lon  ele  \n",
      "3067  0.0  0.0  0.0  \n",
      "3068  0.0  0.0  0.0  \n",
      "                              id  value  feed_id                created_at  \\\n",
      "1538  0F6FWKBKQ4A44DAD9Z5CWFYJF9  232.2  2409789 2022-12-21 02:31:20+00:00   \n",
      "1539  0F6FWKMP76CVHH54T9F99XSWH7  232.2  2409789 2022-12-21 02:31:49+00:00   \n",
      "\n",
      "      lat  lon  ele  \n",
      "1538  NaN  NaN  NaN  \n",
      "1539  NaN  NaN  NaN  \n",
      "                              id  value  feed_id                created_at  \\\n",
      "1959  0F6G1YMC1GJ40T7SXPG4RTK9H9   27.6  2409789 2022-12-21 07:30:39+00:00   \n",
      "1960  0F6G1YXFKG27FQDPVB9QX4SQ39   27.6  2409789 2022-12-21 07:31:09+00:00   \n",
      "\n",
      "      lat  lon  ele  \n",
      "1959  NaN  NaN  NaN  \n",
      "1960  NaN  NaN  NaN  \n",
      "                              id       value  feed_id  \\\n",
      "2465  0F6FWK85HM7MVP4587G9NVYBBV  105.000000  2409715   \n",
      "2466  0F6FWKFZDYZVS5GT4XQ24368PF  102.800003  2409715   \n",
      "\n",
      "                    created_at  lat  lon  ele  \n",
      "2465 2022-12-21 02:31:08+00:00  0.0  0.0  0.0  \n",
      "2466 2022-12-21 02:31:34+00:00  0.0  0.0  0.0  \n",
      "                              id  value  feed_id                created_at  \\\n",
      "3171  0F6G1YX11PHBQ0PZFWM3JCHVXC   11.6  2409715 2022-12-21 07:31:07+00:00   \n",
      "3172  0F6G1Z4WW596FEG8X14P0G2C6C   12.3  2409715 2022-12-21 07:31:33+00:00   \n",
      "\n",
      "      lat  lon  ele  \n",
      "3171  0.0  0.0  0.0  \n",
      "3172  0.0  0.0  0.0  \n",
      "                              id      value  feed_id  \\\n",
      "2367  0F6FWK8X6MKJWZ7VEZCM8RQVYH  96.699997  2409857   \n",
      "2368  0F6FWKGJGRH8Z0ZZGCV5XT2846  96.800003  2409857   \n",
      "\n",
      "                    created_at  lat  lon  ele  \n",
      "2367 2022-12-21 02:31:11+00:00  0.0  0.0  0.0  \n",
      "2368 2022-12-21 02:31:36+00:00  0.0  0.0  0.0  \n",
      "                              id  value  feed_id                created_at  \\\n",
      "3072  0F6G1YWXXT1MQKZBA032KDFHYQ    9.0  2409857 2022-12-21 07:31:07+00:00   \n",
      "3073  0F6G1Z4QDGEFWHCNR3NYA9W4TA    9.1  2409857 2022-12-21 07:31:33+00:00   \n",
      "\n",
      "      lat  lon  ele  \n",
      "3072  0.0  0.0  0.0  \n",
      "3073  0.0  0.0  0.0  \n",
      "                              id  value  feed_id                created_at  \\\n",
      "1541  0F6FWKB9H6X3J5D1QTV1QTHQN3  102.6  2409788 2022-12-21 02:31:19+00:00   \n",
      "1542  0F6FWKMCENF88TDN62TR7SJXDT  102.6  2409788 2022-12-21 02:31:48+00:00   \n",
      "\n",
      "      lat  lon  ele  \n",
      "1541  NaN  NaN  NaN  \n",
      "1542  NaN  NaN  NaN  \n",
      "                              id  value  feed_id                created_at  \\\n",
      "1962  0F6G1YM29DCW0P10R1X5R82B44   16.2  2409788 2022-12-21 07:30:38+00:00   \n",
      "1963  0F6G1YX5X9E6MG2SYCZERJJ9SN   16.2  2409788 2022-12-21 07:31:08+00:00   \n",
      "\n",
      "      lat  lon  ele  \n",
      "1962  NaN  NaN  NaN  \n",
      "1963  NaN  NaN  NaN  \n"
     ]
    },
    {
     "ename": "",
     "evalue": "",
     "output_type": "error",
     "traceback": [
      "\u001b[1;31mnotebook controller is DISPOSED. \n",
      "\u001b[1;31mView Jupyter <a href='command:jupyter.viewOutput'>log</a> for further details."
     ]
    },
    {
     "ename": "",
     "evalue": "",
     "output_type": "error",
     "traceback": [
      "\u001b[1;31mnotebook controller is DISPOSED. \n",
      "\u001b[1;31mView Jupyter <a href='command:jupyter.viewOutput'>log</a> for further details."
     ]
    }
   ],
   "source": [
    "exp11_pm10_posA = extract('data/pm10-20221223-1309.csv', (2022, 12, 21, 10, 31), (2022, 12, 21, 11, 32))\n",
    "exp11_pm10_posB = extract('data/pm10B-20221223-1310.csv', (2022, 12, 21, 10, 31), (2022, 12, 21, 11, 32))\n",
    "exp11_pm10_posC = extract('data/pm10-20221223-1312.csv', (2022, 12, 21, 10, 31), (2022, 12, 21, 11, 32))\n",
    "\n",
    "exp11_pm25_posA = extract('data/pm25-20221223-1310.csv', (2022, 12, 21, 10, 31), (2022, 12, 21, 11, 32))\n",
    "exp11_pm25_posB = extract('data/pm25B-20221223-1311.csv', (2022, 12, 21, 10, 31), (2022, 12, 21, 11, 32))\n",
    "exp11_pm25_posC = extract('data/pm25-20221223-1313.csv', (2022, 12, 21, 10, 31), (2022, 12, 21, 11, 32))\n"
   ]
  },
  {
   "cell_type": "code",
   "execution_count": 307,
   "metadata": {},
   "outputs": [
    {
     "name": "stdout",
     "output_type": "stream",
     "text": [
      "                              id       value  feed_id  \\\n",
      "3288  0F6FXY8NFJKMAT3MBSAHJFMBZ7  162.100006  2408569   \n",
      "3289  0F6FXYGC57D2AVEDMZ6XD4W0T6  162.600006  2408569   \n",
      "\n",
      "                    created_at  lat  lon  ele  \n",
      "3288 2022-12-21 03:46:19+00:00  0.0  0.0  0.0  \n",
      "3289 2022-12-21 03:46:44+00:00  0.0  0.0  0.0  \n",
      "                              id  value  feed_id                created_at  \\\n",
      "3427  0F6FZ02715WSP2QN3DQA711N25   25.0  2408569 2022-12-21 04:45:23+00:00   \n",
      "3428  0F6FZ0A2ZVV1AV702BDN2J5SQ6   22.0  2408569 2022-12-21 04:45:49+00:00   \n",
      "\n",
      "      lat  lon  ele  \n",
      "3427  0.0  0.0  0.0  \n",
      "3428  0.0  0.0  0.0  \n",
      "                              id       value  feed_id  \\\n",
      "2538  0F6FXY329NNWYGFCQ8WJKFTXS1  159.199997  2409856   \n",
      "2539  0F6FXYAW52VNK8JQEN87N0TDG0  155.399994  2409856   \n",
      "\n",
      "                    created_at  lat  lon  ele  \n",
      "2538 2022-12-21 03:46:01+00:00  0.0  0.0  0.0  \n",
      "2539 2022-12-21 03:46:26+00:00  0.0  0.0  0.0  \n",
      "                              id      value  feed_id  \\\n",
      "2677  0F6FZ00J9V5SDF5B00JMM5HA01  20.900000  2409856   \n",
      "2678  0F6FZ08H5BW19QV4C12WNREWDV  22.299999  2409856   \n",
      "\n",
      "                    created_at  lat  lon  ele  \n",
      "2677 2022-12-21 04:45:18+00:00  0.0  0.0  0.0  \n",
      "2678 2022-12-21 04:45:44+00:00  0.0  0.0  0.0  \n",
      "                              id  value  feed_id                created_at  \\\n",
      "1650  0F6FXY3YGFBDQ2CG3T72WZMCXX  185.0  2409789 2022-12-21 03:46:03+00:00   \n",
      "1651  0F6FXYD3JK2K43NW551HED0Y0G  185.0  2409789 2022-12-21 03:46:33+00:00   \n",
      "\n",
      "      lat  lon  ele  \n",
      "1650  NaN  NaN  NaN  \n",
      "1651  NaN  NaN  NaN  \n",
      "                              id  value  feed_id                created_at  \\\n",
      "1696  0F6FYEQ3QZN3HAQGNRFK39JKQW   84.6  2409789 2022-12-21 04:15:04+00:00   \n",
      "1697  0F6FZ0D9SZBGYWFPK3R7JMWZGP   35.1  2409789 2022-12-21 04:45:59+00:00   \n",
      "\n",
      "      lat  lon  ele  \n",
      "1696  NaN  NaN  NaN  \n",
      "1697  NaN  NaN  NaN  \n",
      "                              id       value  feed_id  \\\n",
      "2642  0F6FXY8NGERV16JVJ76J3NHJ4G   98.400002  2409715   \n",
      "2643  0F6FXYGC5P0ECXV3BWM6XMVJ28  102.500000  2409715   \n",
      "\n",
      "                    created_at  lat  lon  ele  \n",
      "2642 2022-12-21 03:46:19+00:00  0.0  0.0  0.0  \n",
      "2643 2022-12-21 03:46:44+00:00  0.0  0.0  0.0  \n",
      "                              id  value  feed_id                created_at  \\\n",
      "2781  0F6FZ027097DDZ80B3QY9SXKPA   16.1  2409715 2022-12-21 04:45:23+00:00   \n",
      "2782  0F6FZ0A2YYW4369Y7P43020KBA   13.8  2409715 2022-12-21 04:45:49+00:00   \n",
      "\n",
      "      lat  lon  ele  \n",
      "2781  0.0  0.0  0.0  \n",
      "2782  0.0  0.0  0.0  \n",
      "                              id      value  feed_id  \\\n",
      "2543  0F6FXY329N68CH3EYZJBZZFPRM  98.300003  2409857   \n",
      "2544  0F6FXYAW5Q2605H2TET49AS1MF  95.300003  2409857   \n",
      "\n",
      "                    created_at  lat  lon  ele  \n",
      "2543 2022-12-21 03:46:01+00:00  0.0  0.0  0.0  \n",
      "2544 2022-12-21 03:46:26+00:00  0.0  0.0  0.0  \n",
      "                              id  value  feed_id                created_at  \\\n",
      "2682  0F6FZ00JDQ4HEW9YQ4PHEBXZ7J   12.5  2409857 2022-12-21 04:45:18+00:00   \n",
      "2683  0F6FZ08H4E7Z72J750P0S6DH54   13.2  2409857 2022-12-21 04:45:44+00:00   \n",
      "\n",
      "      lat  lon  ele  \n",
      "2682  0.0  0.0  0.0  \n",
      "2683  0.0  0.0  0.0  \n",
      "                              id  value  feed_id                created_at  \\\n",
      "1653  0F6FXY3MCBPKD9SXBMFHFW32Q7   86.7  2409788 2022-12-21 03:46:02+00:00   \n",
      "1654  0F6FXYCT30EWNGZ8SKBKV7DR1D   86.7  2409788 2022-12-21 03:46:32+00:00   \n",
      "\n",
      "      lat  lon  ele  \n",
      "1653  NaN  NaN  NaN  \n",
      "1654  NaN  NaN  NaN  \n",
      "                              id  value  feed_id                created_at  \\\n",
      "1699  0F6FYEPRY4SJZHBJ5PAKPVNDZZ   46.5  2409788 2022-12-21 04:15:03+00:00   \n",
      "1700  0F6FZ0CYYB621323JPJMPP65HA   19.4  2409788 2022-12-21 04:45:58+00:00   \n",
      "\n",
      "      lat  lon  ele  \n",
      "1699  NaN  NaN  NaN  \n",
      "1700  NaN  NaN  NaN  \n"
     ]
    }
   ],
   "source": [
    "exp12_pm10_posA = extract('data/pm10-20221223-1309.csv', (2022, 12, 21, 11, 46), (2022, 12, 21, 12, 46))\n",
    "exp12_pm10_posB = extract('data/pm10B-20221223-1310.csv', (2022, 12, 21, 11, 46), (2022, 12, 21, 12, 46))\n",
    "exp12_pm10_posC = extract('data/pm10-20221223-1312.csv', (2022, 12, 21, 11, 46), (2022, 12, 21, 12, 46))\n",
    "\n",
    "exp12_pm25_posA = extract('data/pm25-20221223-1310.csv', (2022, 12, 21, 11, 46), (2022, 12, 21, 12, 46))\n",
    "exp12_pm25_posB = extract('data/pm25B-20221223-1311.csv', (2022, 12, 21, 11, 46), (2022, 12, 21, 12, 46))\n",
    "exp12_pm25_posC = extract('data/pm25-20221223-1313.csv', (2022, 12, 21, 11, 46), (2022, 12, 21, 12, 46))\n"
   ]
  },
  {
   "cell_type": "code",
   "execution_count": null,
   "metadata": {},
   "outputs": [
    {
     "name": "stdout",
     "output_type": "stream",
     "text": [
      "                              id       value  feed_id  \\\n",
      "3464  0F6FZ921BJ3QNPKZ102JGKTNGM  142.300003  2408569   \n",
      "3465  0F6FZ99QZSW341W2DCNP90Z1QY  141.899994  2408569   \n",
      "\n",
      "                    created_at  lat  lon  ele  \n",
      "3464 2022-12-21 05:01:06+00:00  0.0  0.0  0.0  \n",
      "3465 2022-12-21 05:01:31+00:00  0.0  0.0  0.0  \n",
      "                              id      value  feed_id  \\\n",
      "3604  0F6G0B3139WF7VH50PE3ZFDCAV  20.400000  2408569   \n",
      "3605  0F6G0BATTJ09AMC7G1QP873Q79  20.700001  2408569   \n",
      "\n",
      "                    created_at  lat  lon  ele  \n",
      "3604 2022-12-21 06:00:34+00:00  0.0  0.0  0.0  \n",
      "3605 2022-12-21 06:01:00+00:00  0.0  0.0  0.0  \n",
      "                              id       value  feed_id  \\\n",
      "2714  0F6FZ90R2HG1JWVMHHK2V8R7D2  142.399994  2409856   \n",
      "2715  0F6FZ98K48MM40M4KJ9VQWG4PV  140.300003  2409856   \n",
      "\n",
      "                    created_at  lat  lon  ele  \n",
      "2714 2022-12-21 05:01:02+00:00  0.0  0.0  0.0  \n",
      "2715 2022-12-21 05:01:28+00:00  0.0  0.0  0.0  \n",
      "                              id  value  feed_id                created_at  \\\n",
      "2854  0F6G0B2982AX267BW4CF7T6HG0   18.0  2409856 2022-12-21 06:00:32+00:00   \n",
      "2855  0F6G0BA04AAXPY6WQXAXYCKG29   18.1  2409856 2022-12-21 06:00:57+00:00   \n",
      "\n",
      "      lat  lon  ele  \n",
      "2854  0.0  0.0  0.0  \n",
      "2855  0.0  0.0  0.0  \n",
      "                              id  value  feed_id                created_at  \\\n",
      "1727  0F6FZ92E0M8T8WSZK9H03ZDJFF  194.5  2409789 2022-12-21 05:01:07+00:00   \n",
      "1728  0F6FZ9BHZXS8158BCHPVW36QQA  194.5  2409789 2022-12-21 05:01:37+00:00   \n",
      "\n",
      "      lat  lon  ele  \n",
      "1727  NaN  NaN  NaN  \n",
      "1728  NaN  NaN  NaN  \n",
      "                              id  value  feed_id                created_at  \\\n",
      "1781  0F6G0AV70Y27G4KRZVA5KARXD5   29.5  2409789 2022-12-21 06:00:09+00:00   \n",
      "1782  0F6G0B4BFM9Z2FADD0Z35FKJGQ   29.5  2409789 2022-12-21 06:00:39+00:00   \n",
      "\n",
      "      lat  lon  ele  \n",
      "1781  NaN  NaN  NaN  \n",
      "1782  NaN  NaN  NaN  \n",
      "                              id      value  feed_id  \\\n",
      "2818  0F6FZ921BX4YJNJEE0FB2RT4FZ  95.500000  2409715   \n",
      "2819  0F6FZ99QZVHBNPKPR0H3JJ306D  92.199997  2409715   \n",
      "\n",
      "                    created_at  lat  lon  ele  \n",
      "2818 2022-12-21 05:01:06+00:00  0.0  0.0  0.0  \n",
      "2819 2022-12-21 05:01:31+00:00  0.0  0.0  0.0  \n",
      "                              id  value  feed_id                created_at  \\\n",
      "2958  0F6G0B313MAZ874FKV0RQ88CW9   14.0  2409715 2022-12-21 06:00:34+00:00   \n",
      "2959  0F6G0BATW923HVBNQCB5HXQB67   14.6  2409715 2022-12-21 06:01:00+00:00   \n",
      "\n",
      "      lat  lon  ele  \n",
      "2958  0.0  0.0  0.0  \n",
      "2959  0.0  0.0  0.0  \n",
      "                              id      value  feed_id  \\\n",
      "2719  0F6FZ90R2W8TGBJMKMS0DGN45W  93.900002  2409857   \n",
      "2720  0F6FZ98K38BJRBP6MGG8M6CBVY  93.199997  2409857   \n",
      "\n",
      "                    created_at  lat  lon  ele  \n",
      "2719 2022-12-21 05:01:02+00:00  0.0  0.0  0.0  \n",
      "2720 2022-12-21 05:01:28+00:00  0.0  0.0  0.0  \n",
      "                              id  value  feed_id                created_at  \\\n",
      "2859  0F6G0B297BKXEK0JJJJ59S2S3Y   12.0  2409857 2022-12-21 06:00:32+00:00   \n",
      "2860  0F6G0BA0663XG4RAHJ9H5XR4HM   11.7  2409857 2022-12-21 06:00:57+00:00   \n",
      "\n",
      "      lat  lon  ele  \n",
      "2859  0.0  0.0  0.0  \n",
      "2860  0.0  0.0  0.0  \n",
      "                              id  value  feed_id                created_at  \\\n",
      "1730  0F6FZ91SR67X4DS58M6EYZXDG2  105.9  2409788 2022-12-21 05:01:05+00:00   \n",
      "1731  0F6FZ9B7WJXDX7BZESPTARAVZP  105.9  2409788 2022-12-21 05:01:36+00:00   \n",
      "\n",
      "      lat  lon  ele  \n",
      "1730  NaN  NaN  NaN  \n",
      "1731  NaN  NaN  NaN  \n",
      "                              id  value  feed_id                created_at  \\\n",
      "1784  0F6G0ATXF2CE1KWY4AKGE18PEB   17.4  2409788 2022-12-21 06:00:08+00:00   \n",
      "1785  0F6G0B4175D8EJAV7XCD3BHFDY   17.4  2409788 2022-12-21 06:00:38+00:00   \n",
      "\n",
      "      lat  lon  ele  \n",
      "1784  NaN  NaN  NaN  \n",
      "1785  NaN  NaN  NaN  \n"
     ]
    },
    {
     "ename": "",
     "evalue": "",
     "output_type": "error",
     "traceback": [
      "\u001b[1;31mnotebook controller is DISPOSED. \n",
      "\u001b[1;31mView Jupyter <a href='command:jupyter.viewOutput'>log</a> for further details."
     ]
    },
    {
     "ename": "",
     "evalue": "",
     "output_type": "error",
     "traceback": [
      "\u001b[1;31mnotebook controller is DISPOSED. \n",
      "\u001b[1;31mView Jupyter <a href='command:jupyter.viewOutput'>log</a> for further details."
     ]
    }
   ],
   "source": [
    "exp13_pm10_posA = extract('data/pm10-20221223-1309.csv', (2022, 12, 21, 13, 1), (2022, 12, 21, 14, 1))\n",
    "exp13_pm10_posB = extract('data/pm10B-20221223-1310.csv', (2022, 12, 21, 13, 1), (2022, 12, 21, 14, 1))\n",
    "exp13_pm10_posC = extract('data/pm10-20221223-1312.csv', (2022, 12, 21, 13, 1), (2022, 12, 21, 14, 1))\n",
    "\n",
    "exp13_pm25_posA = extract('data/pm25-20221223-1310.csv', (2022, 12, 21, 13, 1), (2022, 12, 21, 14, 1))\n",
    "exp13_pm25_posB = extract('data/pm25B-20221223-1311.csv', (2022, 12, 21, 13, 1), (2022, 12, 21, 14, 1))\n",
    "exp13_pm25_posC = extract('data/pm25-20221223-1313.csv', (2022, 12, 21, 13, 1), (2022, 12, 21, 14, 1))\n"
   ]
  },
  {
   "cell_type": "code",
   "execution_count": 308,
   "metadata": {},
   "outputs": [
    {
     "name": "stdout",
     "output_type": "stream",
     "text": [
      "                              id       value  feed_id  \\\n",
      "3634  0F6G0JC5S2QEZ5JDZM31WSZJWV  166.800003  2408569   \n",
      "3635  0F6G0JKZSAVK875WB46VA9M7AD  163.899994  2408569   \n",
      "\n",
      "                    created_at  lat  lon  ele  \n",
      "3634 2022-12-21 06:13:18+00:00  0.0  0.0  0.0  \n",
      "3635 2022-12-21 06:13:44+00:00  0.0  0.0  0.0  \n",
      "                              id      value  feed_id  \\\n",
      "3813  0F6G1XY107SARJEYRZXE1Q3G4P  19.400000  2408569   \n",
      "3814  0F6G1Y5QQGPHXES6MTWRJQFGX5  18.700001  2408569   \n",
      "\n",
      "                    created_at  lat  lon  ele  \n",
      "3813 2022-12-21 07:29:26+00:00  0.0  0.0  0.0  \n",
      "3814 2022-12-21 07:29:51+00:00  0.0  0.0  0.0  \n",
      "                              id       value  feed_id  \\\n",
      "2884  0F6G0JBSZA78B73MYP8Z4E7W93  158.100006  2409856   \n",
      "2885  0F6G0JKH3MM4KK37MF1ZAG35KF  152.800003  2409856   \n",
      "\n",
      "                    created_at  lat  lon  ele  \n",
      "2884 2022-12-21 06:13:17+00:00  0.0  0.0  0.0  \n",
      "2885 2022-12-21 06:13:43+00:00  0.0  0.0  0.0  \n",
      "                              id      value  feed_id  \\\n",
      "3063  0F6G1XXXTD4Q6FAH6Y04FCVCHN  16.200001  2409856   \n",
      "3064  0F6G1Y5N8KV7D9J28PPDZYEZ2W  15.700000  2409856   \n",
      "\n",
      "                    created_at  lat  lon  ele  \n",
      "3063 2022-12-21 07:29:25+00:00  0.0  0.0  0.0  \n",
      "3064 2022-12-21 07:29:51+00:00  0.0  0.0  0.0  \n",
      "                              id  value  feed_id                created_at  \\\n",
      "1807  0F6G0JBHXD8SXNYYXHHMAHJ0CS  237.8  2409789 2022-12-21 06:13:16+00:00   \n",
      "1808  0F6G0JMMVA7BWQ7EX5C9WXV4P8  237.8  2409789 2022-12-21 06:13:46+00:00   \n",
      "\n",
      "      lat  lon  ele  \n",
      "1807  NaN  NaN  NaN  \n",
      "1808  NaN  NaN  NaN  \n",
      "                              id  value  feed_id                created_at  \\\n",
      "1956  0F6G1XS1VBZ06QEP6Z72MBM1SG   27.6  2409789 2022-12-21 07:29:10+00:00   \n",
      "1957  0F6G1Y264E65TJ81W0PQSHVQSN   27.6  2409789 2022-12-21 07:29:39+00:00   \n",
      "\n",
      "      lat  lon  ele  \n",
      "1956  NaN  NaN  NaN  \n",
      "1957  NaN  NaN  NaN  \n",
      "                              id      value  feed_id  \\\n",
      "2988  0F6G0JC5TCEMNGY7ZN93C1D1CZ  94.599998  2409715   \n",
      "2989  0F6G0JKZRMP18HK6ET6C08QHSX  92.800003  2409715   \n",
      "\n",
      "                    created_at  lat  lon  ele  \n",
      "2988 2022-12-21 06:13:18+00:00  0.0  0.0  0.0  \n",
      "2989 2022-12-21 06:13:44+00:00  0.0  0.0  0.0  \n",
      "                              id  value  feed_id                created_at  \\\n",
      "3167  0F6G1XY0SWYK5KM60CBHVFFA0R   11.7  2409715 2022-12-21 07:29:26+00:00   \n",
      "3168  0F6G1Y5QQQPKZZ211TN6NM0QQ1   11.8  2409715 2022-12-21 07:29:51+00:00   \n",
      "\n",
      "      lat  lon  ele  \n",
      "3167  0.0  0.0  0.0  \n",
      "3168  0.0  0.0  0.0  \n",
      "                              id      value  feed_id  \\\n",
      "2889  0F6G0JBSXY3659KAKV39QKGCPK  84.800003  2409857   \n",
      "2890  0F6G0JKH1B7AQJCWXXG04FGAFT  79.699997  2409857   \n",
      "\n",
      "                    created_at  lat  lon  ele  \n",
      "2889 2022-12-21 06:13:17+00:00  0.0  0.0  0.0  \n",
      "2890 2022-12-21 06:13:43+00:00  0.0  0.0  0.0  \n",
      "                              id  value  feed_id                created_at  \\\n",
      "3068  0F6G1XXXSTC2NN1NFZDCE6XM1J    9.5  2409857 2022-12-21 07:29:25+00:00   \n",
      "3069  0F6G1Y5N6NBYPKY2A7ZZSGBPYP    9.4  2409857 2022-12-21 07:29:51+00:00   \n",
      "\n",
      "      lat  lon  ele  \n",
      "3068  0.0  0.0  0.0  \n",
      "3069  0.0  0.0  0.0  \n",
      "                              id  value  feed_id                created_at  \\\n",
      "1810  0F6G0JB7HTN4P955NNQYYHTYSX  124.1  2409788 2022-12-21 06:13:15+00:00   \n",
      "1811  0F6G0JMACM85MYFFY07S1EM2DV  124.1  2409788 2022-12-21 06:13:45+00:00   \n",
      "\n",
      "      lat  lon  ele  \n",
      "1810  NaN  NaN  NaN  \n",
      "1811  NaN  NaN  NaN  \n",
      "                              id  value  feed_id                created_at  \\\n",
      "1959  0F6G1XRQKFQBVPDQJ3CKM7X7ZP   16.2  2409788 2022-12-21 07:29:08+00:00   \n",
      "1960  0F6G1Y1VWZQTT2RXND93BF1HJ4   16.2  2409788 2022-12-21 07:29:38+00:00   \n",
      "\n",
      "      lat  lon  ele  \n",
      "1959  NaN  NaN  NaN  \n",
      "1960  NaN  NaN  NaN  \n"
     ]
    }
   ],
   "source": [
    "exp14_pm10_posA = extract('data/pm10-20221223-1309.csv', (2022, 12, 21, 14, 13), (2022, 12, 21, 15, 30))\n",
    "exp14_pm10_posB = extract('data/pm10B-20221223-1310.csv', (2022, 12, 21, 14, 13), (2022, 12, 21, 15, 30))\n",
    "exp14_pm10_posC = extract('data/pm10-20221223-1312.csv', (2022, 12, 21, 14, 13), (2022, 12, 21, 15, 30))\n",
    "\n",
    "exp14_pm25_posA = extract('data/pm25-20221223-1310.csv', (2022, 12, 21, 14, 13), (2022, 12, 21, 15, 30))\n",
    "exp14_pm25_posB = extract('data/pm25B-20221223-1311.csv', (2022, 12, 21, 14, 13), (2022, 12, 21, 15, 30))\n",
    "exp14_pm25_posC = extract('data/pm25-20221223-1313.csv', (2022, 12, 21, 14, 13), (2022, 12, 21, 15, 30))\n"
   ]
  },
  {
   "attachments": {},
   "cell_type": "markdown",
   "metadata": {},
   "source": [
    "## Visualisation"
   ]
  },
  {
   "cell_type": "code",
   "execution_count": null,
   "metadata": {},
   "outputs": [
    {
     "data": {
      "text/plain": [
       "[<matplotlib.lines.Line2D at 0x7fc1973dc760>]"
      ]
     },
     "execution_count": 96,
     "metadata": {},
     "output_type": "execute_result"
    },
    {
     "data": {
      "image/png": "[encoded data removed]",
      "text/plain": [
       "<Figure size 432x288 with 1 Axes>"
      ]
     },
     "metadata": {
      "needs_background": "light"
     },
     "output_type": "display_data"
    },
    {
     "ename": "",
     "evalue": "",
     "output_type": "error",
     "traceback": [
      "\u001b[1;31mnotebook controller is DISPOSED. \n",
      "\u001b[1;31mView Jupyter <a href='command:jupyter.viewOutput'>log</a> for further details."
     ]
    },
    {
     "ename": "",
     "evalue": "",
     "output_type": "error",
     "traceback": [
      "\u001b[1;31mnotebook controller is DISPOSED. \n",
      "\u001b[1;31mView Jupyter <a href='command:jupyter.viewOutput'>log</a> for further details."
     ]
    }
   ],
   "source": [
    "plt.plot(exp7_pm10_posB.created_at+pd.Timedelta(minutes=-61), exp7_pm10_posB['value'])"
   ]
  },
  {
   "cell_type": "code",
   "execution_count": null,
   "metadata": {},
   "outputs": [
    {
     "data": {
      "text/plain": [
       "<matplotlib.legend.Legend at 0x7fc19a690b50>"
      ]
     },
     "execution_count": 157,
     "metadata": {},
     "output_type": "execute_result"
    },
    {
     "data": {
      "image/png": "[encoded data removed]",
      "text/plain": [
       "<Figure size 864x576 with 1 Axes>"
      ]
     },
     "metadata": {
      "needs_background": "light"
     },
     "output_type": "display_data"
    },
    {
     "ename": "",
     "evalue": "",
     "output_type": "error",
     "traceback": [
      "\u001b[1;31mnotebook controller is DISPOSED. \n",
      "\u001b[1;31mView Jupyter <a href='command:jupyter.viewOutput'>log</a> for further details."
     ]
    },
    {
     "ename": "",
     "evalue": "",
     "output_type": "error",
     "traceback": [
      "\u001b[1;31mnotebook controller is DISPOSED. \n",
      "\u001b[1;31mView Jupyter <a href='command:jupyter.viewOutput'>log</a> for further details."
     ]
    }
   ],
   "source": [
    "# plt.plot(exp13_pm25_posA.created_at, exp13_pm25_posA['value'],'r')\n",
    "plt.figure(figsize=(12, 8))\n",
    "plt.plot(exp7_pm10_posB.created_at+pd.Timedelta(days=1)+pd.Timedelta(minutes=145), exp7_pm25_posB['value'], 'r', label=\"front middle not elevated ac\")\n",
    "plt.plot(exp14_pm10_posB.created_at, exp14_pm25_posB['value'], 'b', label=\"front middle not elevated ac\")\n",
    "# plt.plot(exp13_pm10_posA.created_at+pd.Timedelta(minutes=75), exp13_pm10_posA['value'],'g', label =\"middle elevated ac\")\n",
    "plt.legend(loc='upper right')\n"
   ]
  },
  {
   "attachments": {},
   "cell_type": "markdown",
   "metadata": {},
   "source": [
    "## Fitting Models"
   ]
  },
  {
   "cell_type": "markdown",
   "metadata": {},
   "source": [
    "### preparing dataset"
   ]
  },
  {
   "cell_type": "code",
   "execution_count": 328,
   "metadata": {},
   "outputs": [],
   "source": [
    "def func(x, a, b, c):\n",
    "    return a * np.exp(-b * x) + c\n",
    "\n",
    "def produce_best_fit(dataset, func):\n",
    "    data = dataset.set_index('created_at')\n",
    "    data = data.resample('0.5T').mean()\n",
    "    data['time_col'] = data.index\n",
    "    data['time_col'] = data.time_col.dt.tz_localize(None)\n",
    "\n",
    "    x=np.array(range(len(data.value)))\n",
    "    y=data.value\n",
    "\n",
    "    from scipy.optimize import curve_fit\n",
    "    popt, pcov = curve_fit(func, x, y)\n",
    "\n",
    "\n",
    "    plt.figure()\n",
    "    plt.plot(x, y, 'ko', label=\"Original Noised Data\")\n",
    "    plt.plot(x, func(x, *popt), 'r-', label=\"Fitted Curve\")\n",
    "    plt.legend()\n",
    "    plt.show()\n",
    "\n",
    "\n",
    "    return popt, pcov\n",
    "\n",
    "    "
   ]
  },
  {
   "cell_type": "code",
   "execution_count": 314,
   "metadata": {},
   "outputs": [
    {
     "name": "stderr",
     "output_type": "stream",
     "text": [
      "<ipython-input-310-dd4eaa7a057c>:2: RuntimeWarning: overflow encountered in exp\n",
      "  return a * np.exp(-b * x) + c\n"
     ]
    },
    {
     "data": {
      "image/png": "[encoded data removed]",
      "text/plain": [
       "<Figure size 432x288 with 1 Axes>"
      ]
     },
     "metadata": {
      "needs_background": "light"
     },
     "output_type": "display_data"
    },
    {
     "data": {
      "text/plain": [
       "(array([1.57235389e+02, 1.85889346e-02, 1.09474129e+01]),\n",
       " array([[ 2.22054846e-01, -1.90442694e-05, -1.17589709e-01],\n",
       "        [-1.90442694e-05,  3.03683217e-08,  7.61267858e-05],\n",
       "        [-1.17589709e-01,  7.61267858e-05,  2.28096119e-01]]))"
      ]
     },
     "execution_count": 314,
     "metadata": {},
     "output_type": "execute_result"
    }
   ],
   "source": [
    "produce_best_fit(exp14_pm10_posA, func)"
   ]
  },
  {
   "cell_type": "code",
   "execution_count": 324,
   "metadata": {},
   "outputs": [
    {
     "name": "stdout",
     "output_type": "stream",
     "text": [
      "[  0   1   2   3   4   5   6   7   8   9  10  11  12  13  14  15  16  17\n",
      "  18  19  20  21  22  23  24  25  26  27  28  29  30  31  32  33  34  35\n",
      "  36  37  38  39  40  41  42  43  44  45  46  47  48  49  50  51  52  53\n",
      "  54  55  56  57  58  59  60  61  62  63  64  65  66  67  68  69  70  71\n",
      "  72  73  74  75  76  77  78  79  80  81  82  83  84  85  86  87  88  89\n",
      "  90  91  92  93  94  95  96  97  98  99 100 101 102 103 104 105 106 107\n",
      " 108 109 110 111 112 113 114 115 116 117 118 119]\n",
      "created_at\n",
      "2022-12-21 01:12:00+00:00    149.199997\n",
      "2022-12-21 01:12:30+00:00    144.500000\n",
      "2022-12-21 01:13:00+00:00    135.150002\n",
      "2022-12-21 01:13:30+00:00    135.600006\n",
      "2022-12-21 01:14:00+00:00    135.899994\n",
      "                                ...    \n",
      "2022-12-21 02:09:30+00:00     21.600000\n",
      "2022-12-21 02:10:00+00:00     22.200001\n",
      "2022-12-21 02:10:30+00:00     21.400000\n",
      "2022-12-21 02:11:00+00:00     21.100000\n",
      "2022-12-21 02:11:30+00:00     20.000000\n",
      "Freq: 30S, Name: value, Length: 120, dtype: float64\n"
     ]
    },
    {
     "name": "stderr",
     "output_type": "stream",
     "text": [
      "<ipython-input-321-c2cad9f9fc3a>:2: RuntimeWarning: overflow encountered in exp\n",
      "  return a * np.exp(-b * x) + c\n"
     ]
    },
    {
     "data": {
      "image/png": "[encoded data removed]",
      "text/plain": [
       "<Figure size 432x288 with 1 Axes>"
      ]
     },
     "metadata": {
      "needs_background": "light"
     },
     "output_type": "display_data"
    },
    {
     "data": {
      "text/plain": [
       "(array([1.33077794e+02, 2.04354607e-02, 1.02651510e+01]),\n",
       " array([[ 3.86095340e-01, -9.13949966e-05, -3.15399975e-01],\n",
       "        [-9.13949966e-05,  8.94578552e-08,  2.00840643e-04],\n",
       "        [-3.15399975e-01,  2.00840643e-04,  5.11365968e-01]]))"
      ]
     },
     "execution_count": 324,
     "metadata": {},
     "output_type": "execute_result"
    }
   ],
   "source": [
    "produce_best_fit(exp10_pm10_posA, func)"
   ]
  },
  {
   "cell_type": "code",
   "execution_count": 337,
   "metadata": {},
   "outputs": [
    {
     "data": {
      "text/plain": [
       "Series([], Name: value, dtype: float64)"
      ]
     },
     "execution_count": 337,
     "metadata": {},
     "output_type": "execute_result"
    }
   ],
   "source": [
    "exp1_pm10_posC.value[exp1_pm10_posC.value.isna()]"
   ]
  },
  {
   "cell_type": "code",
   "execution_count": 330,
   "metadata": {},
   "outputs": [
    {
     "ename": "ValueError",
     "evalue": "array must not contain infs or NaNs",
     "output_type": "error",
     "traceback": [
      "\u001b[0;31m---------------------------------------------------------------------------\u001b[0m",
      "\u001b[0;31mValueError\u001b[0m                                Traceback (most recent call last)",
      "\u001b[0;32m<ipython-input-330-69c15564dc4d>\u001b[0m in \u001b[0;36m<module>\u001b[0;34m\u001b[0m\n\u001b[0;32m----> 1\u001b[0;31m \u001b[0mproduce_best_fit\u001b[0m\u001b[0;34m(\u001b[0m\u001b[0mexp1_pm10_posC\u001b[0m\u001b[0;34m,\u001b[0m \u001b[0mfunc\u001b[0m\u001b[0;34m)\u001b[0m\u001b[0;34m\u001b[0m\u001b[0;34m\u001b[0m\u001b[0m\n\u001b[0m\u001b[1;32m      2\u001b[0m \u001b[0;34m\u001b[0m\u001b[0m\n",
      "\u001b[0;32m<ipython-input-328-55e77f92f63d>\u001b[0m in \u001b[0;36mproduce_best_fit\u001b[0;34m(dataset, func)\u001b[0m\n\u001b[1;32m     12\u001b[0m \u001b[0;34m\u001b[0m\u001b[0m\n\u001b[1;32m     13\u001b[0m     \u001b[0;32mfrom\u001b[0m \u001b[0mscipy\u001b[0m\u001b[0;34m.\u001b[0m\u001b[0moptimize\u001b[0m \u001b[0;32mimport\u001b[0m \u001b[0mcurve_fit\u001b[0m\u001b[0;34m\u001b[0m\u001b[0;34m\u001b[0m\u001b[0m\n\u001b[0;32m---> 14\u001b[0;31m     \u001b[0mpopt\u001b[0m\u001b[0;34m,\u001b[0m \u001b[0mpcov\u001b[0m \u001b[0;34m=\u001b[0m \u001b[0mcurve_fit\u001b[0m\u001b[0;34m(\u001b[0m\u001b[0mfunc\u001b[0m\u001b[0;34m,\u001b[0m \u001b[0mx\u001b[0m\u001b[0;34m,\u001b[0m \u001b[0my\u001b[0m\u001b[0;34m)\u001b[0m\u001b[0;34m\u001b[0m\u001b[0;34m\u001b[0m\u001b[0m\n\u001b[0m\u001b[1;32m     15\u001b[0m \u001b[0;34m\u001b[0m\u001b[0m\n\u001b[1;32m     16\u001b[0m \u001b[0;34m\u001b[0m\u001b[0m\n",
      "\u001b[0;32m/Library/Frameworks/Python.framework/Versions/3.8/lib/python3.8/site-packages/scipy/optimize/minpack.py\u001b[0m in \u001b[0;36mcurve_fit\u001b[0;34m(f, xdata, ydata, p0, sigma, absolute_sigma, check_finite, bounds, method, jac, **kwargs)\u001b[0m\n\u001b[1;32m    733\u001b[0m     \u001b[0;31m# NaNs cannot be handled\u001b[0m\u001b[0;34m\u001b[0m\u001b[0;34m\u001b[0m\u001b[0;34m\u001b[0m\u001b[0m\n\u001b[1;32m    734\u001b[0m     \u001b[0;32mif\u001b[0m \u001b[0mcheck_finite\u001b[0m\u001b[0;34m:\u001b[0m\u001b[0;34m\u001b[0m\u001b[0;34m\u001b[0m\u001b[0m\n\u001b[0;32m--> 735\u001b[0;31m         \u001b[0mydata\u001b[0m \u001b[0;34m=\u001b[0m \u001b[0mnp\u001b[0m\u001b[0;34m.\u001b[0m\u001b[0masarray_chkfinite\u001b[0m\u001b[0;34m(\u001b[0m\u001b[0mydata\u001b[0m\u001b[0;34m,\u001b[0m \u001b[0mfloat\u001b[0m\u001b[0;34m)\u001b[0m\u001b[0;34m\u001b[0m\u001b[0;34m\u001b[0m\u001b[0m\n\u001b[0m\u001b[1;32m    736\u001b[0m     \u001b[0;32melse\u001b[0m\u001b[0;34m:\u001b[0m\u001b[0;34m\u001b[0m\u001b[0;34m\u001b[0m\u001b[0m\n\u001b[1;32m    737\u001b[0m         \u001b[0mydata\u001b[0m \u001b[0;34m=\u001b[0m \u001b[0mnp\u001b[0m\u001b[0;34m.\u001b[0m\u001b[0masarray\u001b[0m\u001b[0;34m(\u001b[0m\u001b[0mydata\u001b[0m\u001b[0;34m,\u001b[0m \u001b[0mfloat\u001b[0m\u001b[0;34m)\u001b[0m\u001b[0;34m\u001b[0m\u001b[0;34m\u001b[0m\u001b[0m\n",
      "\u001b[0;32m/Library/Frameworks/Python.framework/Versions/3.8/lib/python3.8/site-packages/numpy/lib/function_base.py\u001b[0m in \u001b[0;36masarray_chkfinite\u001b[0;34m(a, dtype, order)\u001b[0m\n\u001b[1;32m    486\u001b[0m     \u001b[0ma\u001b[0m \u001b[0;34m=\u001b[0m \u001b[0masarray\u001b[0m\u001b[0;34m(\u001b[0m\u001b[0ma\u001b[0m\u001b[0;34m,\u001b[0m \u001b[0mdtype\u001b[0m\u001b[0;34m=\u001b[0m\u001b[0mdtype\u001b[0m\u001b[0;34m,\u001b[0m \u001b[0morder\u001b[0m\u001b[0;34m=\u001b[0m\u001b[0morder\u001b[0m\u001b[0;34m)\u001b[0m\u001b[0;34m\u001b[0m\u001b[0;34m\u001b[0m\u001b[0m\n\u001b[1;32m    487\u001b[0m     \u001b[0;32mif\u001b[0m \u001b[0ma\u001b[0m\u001b[0;34m.\u001b[0m\u001b[0mdtype\u001b[0m\u001b[0;34m.\u001b[0m\u001b[0mchar\u001b[0m \u001b[0;32min\u001b[0m \u001b[0mtypecodes\u001b[0m\u001b[0;34m[\u001b[0m\u001b[0;34m'AllFloat'\u001b[0m\u001b[0;34m]\u001b[0m \u001b[0;32mand\u001b[0m \u001b[0;32mnot\u001b[0m \u001b[0mnp\u001b[0m\u001b[0;34m.\u001b[0m\u001b[0misfinite\u001b[0m\u001b[0;34m(\u001b[0m\u001b[0ma\u001b[0m\u001b[0;34m)\u001b[0m\u001b[0;34m.\u001b[0m\u001b[0mall\u001b[0m\u001b[0;34m(\u001b[0m\u001b[0;34m)\u001b[0m\u001b[0;34m:\u001b[0m\u001b[0;34m\u001b[0m\u001b[0;34m\u001b[0m\u001b[0m\n\u001b[0;32m--> 488\u001b[0;31m         raise ValueError(\n\u001b[0m\u001b[1;32m    489\u001b[0m             \"array must not contain infs or NaNs\")\n\u001b[1;32m    490\u001b[0m     \u001b[0;32mreturn\u001b[0m \u001b[0ma\u001b[0m\u001b[0;34m\u001b[0m\u001b[0;34m\u001b[0m\u001b[0m\n",
      "\u001b[0;31mValueError\u001b[0m: array must not contain infs or NaNs"
     ]
    }
   ],
   "source": [
    "produce_best_fit(exp1_pm10_posC, func)\n",
    "\n"
   ]
  },
  {
   "cell_type": "code",
   "execution_count": null,
   "metadata": {},
   "outputs": [],
   "source": [
    "import pandas as pd\n",
    "from darts import TimeSeries\n",
    "from darts.models import ExponentialSmoothing\n",
    "series = TimeSeries.from_dataframe(a, 'time_col', 'value')\n",
    "train, val = series.split_after(pd.Timestamp('202212210650'))"
   ]
  },
  {
   "attachments": {},
   "cell_type": "markdown",
   "metadata": {},
   "source": [
    "### Exponential Smoothing"
   ]
  },
  {
   "cell_type": "code",
   "execution_count": 195,
   "metadata": {},
   "outputs": [],
   "source": [
    "from darts.models import ExponentialSmoothing\n",
    "from darts.utils.utils import SeasonalityMode\n",
    "model1 = ExponentialSmoothing(seasonal= SeasonalityMode.NONE)\n",
    "model1.fit(train)\n",
    "prediction1 = model1.predict(len(val), num_samples=50)"
   ]
  },
  {
   "cell_type": "code",
   "execution_count": 204,
   "metadata": {},
   "outputs": [
    {
     "data": {
      "text/plain": [
       "<matplotlib.legend.Legend at 0x7fde4e6826d0>"
      ]
     },
     "execution_count": 204,
     "metadata": {},
     "output_type": "execute_result"
    },
    {
     "data": {
      "image/png": "[encoded data removed]",
      "text/plain": [
       "<Figure size 864x576 with 1 Axes>"
      ]
     },
     "metadata": {
      "needs_background": "light"
     },
     "output_type": "display_data"
    }
   ],
   "source": [
    "plt.figure(figsize=(12, 8))\n",
    "series.plot()\n",
    "prediction1.plot(label='forecast', low_quantile=0.05, high_quantile=0.95)\n",
    "plt.legend()"
   ]
  },
  {
   "attachments": {},
   "cell_type": "markdown",
   "metadata": {},
   "source": [
    "### Linear Regression"
   ]
  },
  {
   "cell_type": "code",
   "execution_count": 201,
   "metadata": {},
   "outputs": [],
   "source": [
    "from darts.models import LinearRegressionModel\n",
    "model2 = LinearRegressionModel(lags=4)\n",
    "model2.fit(train)\n",
    "prediction2 = model2.predict(len(val), num_samples=1)"
   ]
  },
  {
   "cell_type": "code",
   "execution_count": 203,
   "metadata": {},
   "outputs": [
    {
     "data": {
      "text/plain": [
       "<matplotlib.legend.Legend at 0x7fde4e7ca070>"
      ]
     },
     "execution_count": 203,
     "metadata": {},
     "output_type": "execute_result"
    },
    {
     "data": {
      "image/png": "[encoded data removed]",
      "text/plain": [
       "<Figure size 864x576 with 1 Axes>"
      ]
     },
     "metadata": {
      "needs_background": "light"
     },
     "output_type": "display_data"
    }
   ],
   "source": [
    "plt.figure(figsize=(12, 8))\n",
    "series.plot()\n",
    "prediction2.plot(label='forecast', low_quantile=0.05, high_quantile=0.95)\n",
    "plt.legend()"
   ]
  },
  {
   "attachments": {},
   "cell_type": "markdown",
   "metadata": {},
   "source": [
    "### some other model..."
   ]
  },
  {
   "cell_type": "code",
   "execution_count": 338,
   "metadata": {},
   "outputs": [],
   "source": [
    "dataset = exp10_pm10_posC\n",
    "\n",
    "data = dataset.set_index('created_at')\n",
    "data = data.resample('0.5T').mean()\n",
    "data['time_col'] = data.index\n",
    "data['time_col'] = data.time_col.dt.tz_localize(None)"
   ]
  },
  {
   "cell_type": "code",
   "execution_count": 339,
   "metadata": {},
   "outputs": [],
   "source": [
    "x=np.array(range(len(data.value)))\n",
    "y=data.value"
   ]
  },
  {
   "cell_type": "code",
   "execution_count": 340,
   "metadata": {},
   "outputs": [
    {
     "data": {
      "text/plain": [
       "[<matplotlib.lines.Line2D at 0x7fde4be78c70>]"
      ]
     },
     "execution_count": 340,
     "metadata": {},
     "output_type": "execute_result"
    },
    {
     "data": {
      "image/png": "[encoded data removed]",
      "text/plain": [
       "<Figure size 432x288 with 1 Axes>"
      ]
     },
     "metadata": {
      "needs_background": "light"
     },
     "output_type": "display_data"
    }
   ],
   "source": [
    "aa = np.array(range(50))\n",
    "bb = 0.3*np.exp(-0.09*aa) + 4\n",
    "plt.plot(aa, bb)"
   ]
  },
  {
   "cell_type": "code",
   "execution_count": 341,
   "metadata": {},
   "outputs": [
    {
     "ename": "ValueError",
     "evalue": "array must not contain infs or NaNs",
     "output_type": "error",
     "traceback": [
      "\u001b[0;31m---------------------------------------------------------------------------\u001b[0m",
      "\u001b[0;31mValueError\u001b[0m                                Traceback (most recent call last)",
      "\u001b[0;32m<ipython-input-341-9125a9d20b3d>\u001b[0m in \u001b[0;36m<module>\u001b[0;34m\u001b[0m\n\u001b[1;32m      6\u001b[0m     \u001b[0;32mreturn\u001b[0m \u001b[0ma\u001b[0m \u001b[0;34m*\u001b[0m \u001b[0mnp\u001b[0m\u001b[0;34m.\u001b[0m\u001b[0mexp\u001b[0m\u001b[0;34m(\u001b[0m\u001b[0;34m-\u001b[0m\u001b[0mb\u001b[0m \u001b[0;34m*\u001b[0m \u001b[0mx\u001b[0m\u001b[0;34m)\u001b[0m \u001b[0;34m+\u001b[0m \u001b[0mc\u001b[0m\u001b[0;34m\u001b[0m\u001b[0;34m\u001b[0m\u001b[0m\n\u001b[1;32m      7\u001b[0m \u001b[0;34m\u001b[0m\u001b[0m\n\u001b[0;32m----> 8\u001b[0;31m \u001b[0mpopt\u001b[0m\u001b[0;34m,\u001b[0m \u001b[0mpcov\u001b[0m \u001b[0;34m=\u001b[0m \u001b[0mcurve_fit\u001b[0m\u001b[0;34m(\u001b[0m\u001b[0mfunc\u001b[0m\u001b[0;34m,\u001b[0m \u001b[0mx\u001b[0m\u001b[0;34m,\u001b[0m \u001b[0my\u001b[0m\u001b[0;34m)\u001b[0m\u001b[0;34m\u001b[0m\u001b[0;34m\u001b[0m\u001b[0m\n\u001b[0m",
      "\u001b[0;32m/Library/Frameworks/Python.framework/Versions/3.8/lib/python3.8/site-packages/scipy/optimize/minpack.py\u001b[0m in \u001b[0;36mcurve_fit\u001b[0;34m(f, xdata, ydata, p0, sigma, absolute_sigma, check_finite, bounds, method, jac, **kwargs)\u001b[0m\n\u001b[1;32m    733\u001b[0m     \u001b[0;31m# NaNs cannot be handled\u001b[0m\u001b[0;34m\u001b[0m\u001b[0;34m\u001b[0m\u001b[0;34m\u001b[0m\u001b[0m\n\u001b[1;32m    734\u001b[0m     \u001b[0;32mif\u001b[0m \u001b[0mcheck_finite\u001b[0m\u001b[0;34m:\u001b[0m\u001b[0;34m\u001b[0m\u001b[0;34m\u001b[0m\u001b[0m\n\u001b[0;32m--> 735\u001b[0;31m         \u001b[0mydata\u001b[0m \u001b[0;34m=\u001b[0m \u001b[0mnp\u001b[0m\u001b[0;34m.\u001b[0m\u001b[0masarray_chkfinite\u001b[0m\u001b[0;34m(\u001b[0m\u001b[0mydata\u001b[0m\u001b[0;34m,\u001b[0m \u001b[0mfloat\u001b[0m\u001b[0;34m)\u001b[0m\u001b[0;34m\u001b[0m\u001b[0;34m\u001b[0m\u001b[0m\n\u001b[0m\u001b[1;32m    736\u001b[0m     \u001b[0;32melse\u001b[0m\u001b[0;34m:\u001b[0m\u001b[0;34m\u001b[0m\u001b[0;34m\u001b[0m\u001b[0m\n\u001b[1;32m    737\u001b[0m         \u001b[0mydata\u001b[0m \u001b[0;34m=\u001b[0m \u001b[0mnp\u001b[0m\u001b[0;34m.\u001b[0m\u001b[0masarray\u001b[0m\u001b[0;34m(\u001b[0m\u001b[0mydata\u001b[0m\u001b[0;34m,\u001b[0m \u001b[0mfloat\u001b[0m\u001b[0;34m)\u001b[0m\u001b[0;34m\u001b[0m\u001b[0;34m\u001b[0m\u001b[0m\n",
      "\u001b[0;32m/Library/Frameworks/Python.framework/Versions/3.8/lib/python3.8/site-packages/numpy/lib/function_base.py\u001b[0m in \u001b[0;36masarray_chkfinite\u001b[0;34m(a, dtype, order)\u001b[0m\n\u001b[1;32m    486\u001b[0m     \u001b[0ma\u001b[0m \u001b[0;34m=\u001b[0m \u001b[0masarray\u001b[0m\u001b[0;34m(\u001b[0m\u001b[0ma\u001b[0m\u001b[0;34m,\u001b[0m \u001b[0mdtype\u001b[0m\u001b[0;34m=\u001b[0m\u001b[0mdtype\u001b[0m\u001b[0;34m,\u001b[0m \u001b[0morder\u001b[0m\u001b[0;34m=\u001b[0m\u001b[0morder\u001b[0m\u001b[0;34m)\u001b[0m\u001b[0;34m\u001b[0m\u001b[0;34m\u001b[0m\u001b[0m\n\u001b[1;32m    487\u001b[0m     \u001b[0;32mif\u001b[0m \u001b[0ma\u001b[0m\u001b[0;34m.\u001b[0m\u001b[0mdtype\u001b[0m\u001b[0;34m.\u001b[0m\u001b[0mchar\u001b[0m \u001b[0;32min\u001b[0m \u001b[0mtypecodes\u001b[0m\u001b[0;34m[\u001b[0m\u001b[0;34m'AllFloat'\u001b[0m\u001b[0;34m]\u001b[0m \u001b[0;32mand\u001b[0m \u001b[0;32mnot\u001b[0m \u001b[0mnp\u001b[0m\u001b[0;34m.\u001b[0m\u001b[0misfinite\u001b[0m\u001b[0;34m(\u001b[0m\u001b[0ma\u001b[0m\u001b[0;34m)\u001b[0m\u001b[0;34m.\u001b[0m\u001b[0mall\u001b[0m\u001b[0;34m(\u001b[0m\u001b[0;34m)\u001b[0m\u001b[0;34m:\u001b[0m\u001b[0;34m\u001b[0m\u001b[0;34m\u001b[0m\u001b[0m\n\u001b[0;32m--> 488\u001b[0;31m         raise ValueError(\n\u001b[0m\u001b[1;32m    489\u001b[0m             \"array must not contain infs or NaNs\")\n\u001b[1;32m    490\u001b[0m     \u001b[0;32mreturn\u001b[0m \u001b[0ma\u001b[0m\u001b[0;34m\u001b[0m\u001b[0;34m\u001b[0m\u001b[0m\n",
      "\u001b[0;31mValueError\u001b[0m: array must not contain infs or NaNs"
     ]
    }
   ],
   "source": [
    "import numpy as np\n",
    "import matplotlib.pyplot as plt\n",
    "from scipy.optimize import curve_fit\n",
    "\n",
    "def func(x, a, b, c):\n",
    "    return a * np.exp(-b * x) + c\n",
    "\n",
    "popt, pcov = curve_fit(func, x, y)"
   ]
  },
  {
   "cell_type": "code",
   "execution_count": 295,
   "metadata": {},
   "outputs": [
    {
     "data": {
      "text/plain": [
       "array([1.57235389e+02, 1.85889346e-02, 1.09474129e+01])"
      ]
     },
     "execution_count": 295,
     "metadata": {},
     "output_type": "execute_result"
    }
   ],
   "source": [
    "popt"
   ]
  },
  {
   "cell_type": "code",
   "execution_count": 297,
   "metadata": {},
   "outputs": [
    {
     "data": {
      "image/png": "[encoded data removed]",
      "text/plain": [
       "<Figure size 432x288 with 1 Axes>"
      ]
     },
     "metadata": {
      "needs_background": "light"
     },
     "output_type": "display_data"
    }
   ],
   "source": [
    "plt.figure()\n",
    "plt.plot(x, y, 'ko', label=\"Original Noised Data\")\n",
    "plt.plot(x, func(x, *popt), 'r-', label=\"Fitted Curve\")\n",
    "plt.legend()\n",
    "plt.show()"
   ]
  },
  {
   "attachments": {},
   "cell_type": "markdown",
   "metadata": {},
   "source": [
    "## Some Debugging (Darts Example Dataset)"
   ]
  },
  {
   "cell_type": "code",
   "execution_count": 179,
   "metadata": {},
   "outputs": [],
   "source": [
    "import pandas as pd\n",
    "import darts\n",
    "from darts import TimeSeries\n",
    "from darts.models import ExponentialSmoothing"
   ]
  },
  {
   "cell_type": "code",
   "execution_count": 180,
   "metadata": {},
   "outputs": [
    {
     "data": {
      "text/html": [
       "<div>\n",
       "<style scoped>\n",
       "    .dataframe tbody tr th:only-of-type {\n",
       "        vertical-align: middle;\n",
       "    }\n",
       "\n",
       "    .dataframe tbody tr th {\n",
       "        vertical-align: top;\n",
       "    }\n",
       "\n",
       "    .dataframe thead th {\n",
       "        text-align: right;\n",
       "    }\n",
       "</style>\n",
       "<table border=\"1\" class=\"dataframe\">\n",
       "  <thead>\n",
       "    <tr style=\"text-align: right;\">\n",
       "      <th>component</th>\n",
       "      <th>#Passengers</th>\n",
       "      <th>Month</th>\n",
       "    </tr>\n",
       "    <tr>\n",
       "      <th>Month</th>\n",
       "      <th></th>\n",
       "      <th></th>\n",
       "    </tr>\n",
       "  </thead>\n",
       "  <tbody>\n",
       "    <tr>\n",
       "      <th>1949-01-01</th>\n",
       "      <td>112.0</td>\n",
       "      <td>1949-01-01</td>\n",
       "    </tr>\n",
       "    <tr>\n",
       "      <th>1949-02-01</th>\n",
       "      <td>118.0</td>\n",
       "      <td>1949-02-01</td>\n",
       "    </tr>\n",
       "    <tr>\n",
       "      <th>1949-03-01</th>\n",
       "      <td>132.0</td>\n",
       "      <td>1949-03-01</td>\n",
       "    </tr>\n",
       "    <tr>\n",
       "      <th>1949-04-01</th>\n",
       "      <td>129.0</td>\n",
       "      <td>1949-04-01</td>\n",
       "    </tr>\n",
       "    <tr>\n",
       "      <th>1949-05-01</th>\n",
       "      <td>121.0</td>\n",
       "      <td>1949-05-01</td>\n",
       "    </tr>\n",
       "  </tbody>\n",
       "</table>\n",
       "</div>"
      ],
      "text/plain": [
       "component   #Passengers      Month\n",
       "Month                             \n",
       "1949-01-01        112.0 1949-01-01\n",
       "1949-02-01        118.0 1949-02-01\n",
       "1949-03-01        132.0 1949-03-01\n",
       "1949-04-01        129.0 1949-04-01\n",
       "1949-05-01        121.0 1949-05-01"
      ]
     },
     "execution_count": 180,
     "metadata": {},
     "output_type": "execute_result"
    }
   ],
   "source": [
    "from darts.datasets import AirPassengersDataset\n",
    "df = AirPassengersDataset().load().pd_dataframe()\n",
    "df['Month'] = df.index\n",
    "df.head()"
   ]
  },
  {
   "cell_type": "code",
   "execution_count": 185,
   "metadata": {},
   "outputs": [],
   "source": [
    "#Loading the package\n",
    "%matplotlib inline\n",
    "from darts import TimeSeries\n",
    "from darts.models import ExponentialSmoothing\n",
    "# Create a TimeSeries, specifying the time and value columns\n",
    "series = TimeSeries.from_dataframe(df, 'Month', '#Passengers')\n",
    "# Set aside the last 36 months as a validation series\n",
    "train, val = series[:-36], series[-36:]"
   ]
  },
  {
   "cell_type": "code",
   "execution_count": null,
   "metadata": {},
   "outputs": [
    {
     "data": {
      "text/plain": [
       "<matplotlib.legend.Legend at 0x7fde4af4a1f0>"
      ]
     },
     "metadata": {},
     "output_type": "display_data"
    },
    {
     "data": {
      "image/png": "[encoded data removed]",
      "text/plain": [
       "<Figure size 432x288 with 1 Axes>"
      ]
     },
     "metadata": {},
     "output_type": "display_data"
    }
   ],
   "source": [
    "from darts.models import ExponentialSmoothing\n",
    "model = ExponentialSmoothing()\n",
    "model.fit(train)\n",
    "prediction = model.predict(len(val), num_samples=1000)\n",
    "# Plotting the predictions\n",
    "series.plot()\n",
    "prediction.plot(label='forecast', low_quantile=0.05, high_quantile=0.95)\n",
    "plt.legend()\n"
   ]
  }
 ],
 "metadata": {
  "kernelspec": {
   "display_name": "Python 3",
   "language": "python",
   "name": "python3"
  },
  "language_info": {
   "codemirror_mode": {
    "name": "ipython",
    "version": 3
   },
   "file_extension": ".py",
   "mimetype": "text/x-python",
   "name": "python",
   "nbconvert_exporter": "python",
   "pygments_lexer": "ipython3",
   "version": "3.8.2"
  },
  "orig_nbformat": 4,
  "vscode": {
   "interpreter": {
    "hash": "082e9a3bcad0a290d0001e938aa60b99250c6c2ef33a923c00b70f9826caf4b7"
   }
  }
 },
 "nbformat": 4,
 "nbformat_minor": 2
}
